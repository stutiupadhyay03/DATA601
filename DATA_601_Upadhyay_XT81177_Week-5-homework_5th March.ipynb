{
 "cells": [
  {
   "cell_type": "markdown",
   "id": "172e089d",
   "metadata": {},
   "source": [
    "#### Name: Stuti Upadhyay\n",
    "#### Campus ID: XT81177\n",
    "#### Instructor: Chalachew Jemberie"
   ]
  },
  {
   "cell_type": "markdown",
   "id": "7b64915d",
   "metadata": {},
   "source": [
    "## I) Analyzing Sales Data**\n",
    "\n",
    "Let's assume you have a dataset containing sales records for an e-commerce platform. You want to calculate the total revenue for each product category, handle potential exceptions in the data, and write the results to a CSV file."
   ]
  },
  {
   "cell_type": "code",
   "execution_count": 1,
   "id": "4267eb68",
   "metadata": {},
   "outputs": [
    {
     "name": "stdout",
     "output_type": "stream",
     "text": [
      "Data written to category_revenue.csv successfully.\n"
     ]
    }
   ],
   "source": [
    "import csv\n",
    "\n",
    "# \n",
    "sales_data = [\n",
    "    {\"Product\": \"Laptop\", \"Category\": \"Electronics\", \"Revenue\": 1500},\n",
    "    {\"Product\": \"Tablet\", \"Category\": \"Electronics\", \"Revenue\": 500},\n",
    "    {\"Product\": \"Shirt\", \"Category\": \"Apparel\", \"Revenue\": 30},\n",
    "    # More sales data...\n",
    "]\n",
    "\n",
    "#\n",
    "class Product:\n",
    "    def __init__(self, product_name, category, revenue):\n",
    "        self.product_name = product_name\n",
    "        self.category = category\n",
    "        self.revenue = revenue\n",
    "\n",
    "# \n",
    "products = [Product(item[\"Product\"], item[\"Category\"], item[\"Revenue\"]) for item in sales_data]\n",
    "\n",
    "# \n",
    "category_revenue = {}\n",
    "\n",
    "# \n",
    "for product in products:\n",
    "    category = product.category\n",
    "    revenue = product.revenue\n",
    "    category_revenue[category] = category_revenue.get(category, 0) + revenue\n",
    "\n",
    "# \n",
    "try:\n",
    "    # \n",
    "    with open(\"category_revenue.csv\", mode=\"w\", newline=\"\") as file:\n",
    "        writer = csv.writer(file)\n",
    "        \n",
    "        # Write headers\n",
    "        writer.writerow([\"Category\", \"Total Revenue\"])\n",
    "        \n",
    "        # \n",
    "        for category, revenue in category_revenue.items():\n",
    "            writer.writerow([category, revenue])\n",
    "    print(\"Data written to category_revenue.csv successfully.\")\n",
    "except IOError:\n",
    "    print(\"An error occurred while writing the data to the file.\")\n",
    "except Exception as e:\n",
    "    print(f\"An unexpected error occurred: {str(e)}\")\n"
   ]
  },
  {
   "cell_type": "markdown",
   "id": "46f5da57",
   "metadata": {},
   "source": [
    "Question 1: What does this code do, and what is its purpose?"
   ]
  },
  {
   "cell_type": "code",
   "execution_count": 2,
   "id": "3d9f42a3",
   "metadata": {},
   "outputs": [],
   "source": [
    "import csv\n"
   ]
  },
  {
   "cell_type": "markdown",
   "id": "f92959e0",
   "metadata": {},
   "source": [
    "Answer 1: This code basically imports the csv module, this module provides functionality to read from and write into a CSV files. This module is neccesary to import if an individual is handling CSV file operations in a code."
   ]
  },
  {
   "cell_type": "markdown",
   "id": "bb5ba7d6",
   "metadata": {},
   "source": [
    "Question 2: What is the purpose of the sales_data list, and what does it contain?"
   ]
  },
  {
   "cell_type": "code",
   "execution_count": 3,
   "id": "594dbcfe",
   "metadata": {},
   "outputs": [],
   "source": [
    "# \n",
    "sales_data = [\n",
    "    {\"Product\": \"Laptop\", \"Category\": \"Electronics\", \"Revenue\": 1500},\n",
    "    {\"Product\": \"Tablet\", \"Category\": \"Electronics\", \"Revenue\": 500},\n",
    "    {\"Product\": \"Shirt\", \"Category\": \"Apparel\", \"Revenue\": 30},\n",
    "    # More sales data...\n",
    "]\n"
   ]
  },
  {
   "cell_type": "markdown",
   "id": "daa08065",
   "metadata": {},
   "source": [
    "Answer 2: The \"sales_data\" list contains several dictionaries, wherein each dictionary represents sales data for that particular product. Each dictionary has the following keys \"Product\", \"Category\", and \"Revenue\", representing the product name, category, and revenue generated respectively."
   ]
  },
  {
   "cell_type": "markdown",
   "id": "d7edf273",
   "metadata": {},
   "source": [
    "Question 3: What is the purpose of the Product class?"
   ]
  },
  {
   "cell_type": "code",
   "execution_count": 4,
   "id": "f226a5f4",
   "metadata": {},
   "outputs": [],
   "source": [
    "# \n",
    "class Product:\n",
    "    def __init__(self, product_name, category, revenue):\n",
    "        self.product_name = product_name\n",
    "        self.category = category\n",
    "        self.revenue = revenue\n"
   ]
  },
  {
   "cell_type": "markdown",
   "id": "40a9fbad",
   "metadata": {},
   "source": [
    "Answer 3: The \"Product\" class basically represents a product with attributes such as \"product_name\", \"category\", and \"revenue\". Its purpose is to create instances of products by initializing those attributes. "
   ]
  },
  {
   "cell_type": "markdown",
   "id": "67d7b111",
   "metadata": {},
   "source": [
    "Question 4: What does this line of code do, and why is it used?"
   ]
  },
  {
   "cell_type": "code",
   "execution_count": 5,
   "id": "72e42692",
   "metadata": {},
   "outputs": [],
   "source": [
    "# \n",
    "products = [Product(item[\"Product\"], item[\"Category\"], item[\"Revenue\"]) for item in sales_data]\n"
   ]
  },
  {
   "cell_type": "markdown",
   "id": "12b6f54e",
   "metadata": {},
   "source": [
    "Answer 4: This line of code basically creates a list of Product objects by iterating over each dictionary in \"sales_data\" and creating a \"Product\" object for each entry."
   ]
  },
  {
   "cell_type": "markdown",
   "id": "aca62ba5",
   "metadata": {},
   "source": [
    "Question 5: What is the purpose of the category_revenue dictionary, and what does it store?"
   ]
  },
  {
   "cell_type": "code",
   "execution_count": 6,
   "id": "5183117c",
   "metadata": {},
   "outputs": [],
   "source": [
    "# \n",
    "category_revenue = {}\n"
   ]
  },
  {
   "cell_type": "markdown",
   "id": "ad8f4ac2",
   "metadata": {},
   "source": [
    "Answer 5: The \"category_revenue\" dictionary is used to store the total revenue for each category. It maps category names to their respective total revenues."
   ]
  },
  {
   "cell_type": "markdown",
   "id": "3d083325",
   "metadata": {},
   "source": [
    "Question 6: What does the following block of code do, and why is it important?"
   ]
  },
  {
   "cell_type": "code",
   "execution_count": 7,
   "id": "a0a29da6",
   "metadata": {},
   "outputs": [],
   "source": [
    "# \n",
    "for product in products:\n",
    "    category = product.category\n",
    "    revenue = product.revenue\n",
    "    category_revenue[category] = category_revenue.get(category, 0) + revenue\n"
   ]
  },
  {
   "cell_type": "markdown",
   "id": "355775dc",
   "metadata": {},
   "source": [
    "Answer 6: This block of code iterates over each \"Product\" object in the products list. For each product, it extracts the category and revenue, and then updates the \"category_revenue\" dictionary by adding the revenue to the existing total revenue for that category."
   ]
  },
  {
   "cell_type": "markdown",
   "id": "aea5bfa7",
   "metadata": {},
   "source": [
    "Question 7: What is the purpose of the following code block, and how does it help ensure code reliability?"
   ]
  },
  {
   "cell_type": "code",
   "execution_count": 8,
   "id": "7a2369b5",
   "metadata": {},
   "outputs": [
    {
     "name": "stdout",
     "output_type": "stream",
     "text": [
      "Data written to category_revenue.csv successfully.\n"
     ]
    }
   ],
   "source": [
    "# \n",
    "try:\n",
    "    # \n",
    "    with open(\"category_revenue.csv\", mode=\"w\", newline=\"\") as file:\n",
    "        writer = csv.writer(file)\n",
    "        \n",
    "        # Write headers\n",
    "        writer.writerow([\"Category\", \"Total Revenue\"])\n",
    "        \n",
    "        # Write data\n",
    "        for category, revenue in category_revenue.items():\n",
    "            writer.writerow([category, revenue])\n",
    "    print(\"Data written to category_revenue.csv successfully.\")\n",
    "except IOError:\n",
    "    print(\"An error occurred while writing the data to the file.\")\n",
    "except Exception as e:\n",
    "    print(f\"An unexpected error occurred: {str(e)}\")\n"
   ]
  },
  {
   "cell_type": "markdown",
   "id": "5f058699",
   "metadata": {},
   "source": [
    "Answer 7: The purpose of this code block is to handle exceptions that might occur during file operations, ensuring the reliability of the code. It attempts to write the data to a CSV file named \"category_revenue.csv\". If an \"IOError\" occurs, it prints an error message indicating a problem with file operations. If any other unexpected exception occurs, it prints an error message with details about the exception."
   ]
  },
  {
   "cell_type": "markdown",
   "id": "c507fac4",
   "metadata": {},
   "source": [
    "## II) Fill the missing code block "
   ]
  },
  {
   "cell_type": "code",
   "execution_count": 9,
   "id": "5367c87c",
   "metadata": {},
   "outputs": [
    {
     "name": "stdout",
     "output_type": "stream",
     "text": [
      "Data written to category_revenue.csv successfully.\n"
     ]
    }
   ],
   "source": [
    "import csv  #  import the CSV module\n",
    "\n",
    "# \n",
    "sales_data = [\n",
    "    {\"Product\": \"Laptop\", \"Category\": \"Electronics\", \"Revenue\": 1500},\n",
    "    {\"Product\": \"Tablet\", \"Category\": \"Electronics\", \"Revenue\": 500},\n",
    "    {\"Product\": \"Shirt\", \"Category\": \"Apparel\", \"Revenue\": 30},\n",
    "    # More sales data...\n",
    "]\n",
    "\n",
    "# \n",
    "class Product:\n",
    "    def __init__(self, product_name, category, revenue):\n",
    "        self.product_name = product_name\n",
    "        self.category = category\n",
    "        self.revenue = revenue\n",
    "\n",
    "# \n",
    "products = [Product(item[\"Product\"], item[\"Category\"], item[\"Revenue\"]) for item in sales_data]\n",
    "\n",
    "# \n",
    "category_revenue = {}\n",
    "\n",
    "# \n",
    "for product in products:\n",
    "    # Extract the category and revenue from the product object\n",
    "    category = product.category\n",
    "    revenue = product.revenue\n",
    "    \n",
    "    # Update the category_revenue dictionary (fill in the code to update the dictionary)\n",
    "    category_revenue[category] = category_revenue.get(category, 0) + revenue \n",
    "    # Addition of the missing code\n",
    "\n",
    "# \n",
    "try:\n",
    "    # Open a CSV file for writing (fill in the file handling code)\n",
    "    with open(\"category_revenue.csv\", mode=\"w\", newline=\"\") as file:\n",
    "        writer = csv.writer(file)\n",
    "        \n",
    "        # Write headers\n",
    "        writer.writerow([\"Category\", \"Total Revenue\"])\n",
    "        \n",
    "        # Write data (fill in the code to write data)\n",
    "    \n",
    "    print(\"Data written to category_revenue.csv successfully.\")\n",
    "except IOError:\n",
    "    print(\"An error occurred while writing the data to the file.\")\n",
    "except Exception as e:\n",
    "    print(f\"An unexpected error occurred: {str(e)}\")\n"
   ]
  },
  {
   "cell_type": "markdown",
   "id": "2083792f",
   "metadata": {},
   "source": [
    "\n",
    "\n",
    "1. What Python module is imported at the beginning of the code, and why is it necessary for this task?\n",
    "\n",
    "2. How is the sales data represented in the code, and what are its components?\n",
    "\n",
    "3.  Explain the purpose of the `Product` class in this code.\n",
    "   - What attributes does each `Product` object have, and how are they initialized?\n",
    "\n",
    "4. How is a list of `Product` objects created from the `sales_data` list using list comprehension?\n",
    "\n",
    "5. Describe the process of calculating the total revenue per category. What is the role of the `category_revenue` dictionary?\n",
    "\n",
    "6. Inside the loop for calculating total revenue, what condition is checked for each `Product` object?\n",
    "   - How is the `category_revenue` dictionary updated based on the condition?\n",
    "\n",
    "7. \n",
    "   - Why is exception handling important in this code?\n",
    "   - What types of exceptions are handled in the code, and why are they relevant to file operations?\n",
    "\n",
    "8. \n",
    "   - How is the CSV file \"category_revenue.csv\" created and opened for writing?\n",
    "   - Describe the steps involved in writing data to the CSV file, including headers and data rows.\n",
    "\n",
    "9.\n",
    "   - What message is printed to the console upon successful completion of writing data to the CSV file?\n",
    "   - What messages are displayed in case of file-related errors or unexpected exceptions?\n",
    "10. Summary\n",
    "    - Summarize the main objective of this code, including the input data, processing steps, and the final output.\n",
    "\n"
   ]
  },
  {
   "cell_type": "markdown",
   "id": "fbaa31ad",
   "metadata": {},
   "source": [
    "1) The csv module is imported at the beginning to enable reading from and writing to CSV files, which are used for data handling in this code.\n",
    "2) The sales data is represented as a list of dictionaries in the sales_data variable, where each dictionary contains information about a product's name, category, and revenue.\n",
    "3) The Product class is defined to encapsulate the properties of each product, making it easier to manage and manipulate product data.\n",
    "4) The list comprehension creates a list of Product objects from the sales_data, ensuring that each product's data is encapsulated within a Product object.\n",
    "5) The category_revenue dictionary stores the total revenue for each category, facilitating the aggregation of revenue data based on categories.\n",
    "6) Inside the loop, for each product, the code calculates the revenue for each category and updates the category_revenue dictionary accordingly.\n",
    "7) Exception handling is important to ensure the robustness of the code. It handles potential errors that may arise during file operations and unexpected errors during data processing, providing informative messages for each case.\n",
    "8) The CSV file \"category_revenue.csv\" is created and opened for writing using the csv.writer function. Headers and data rows are written to the file to store the category-wise revenue data.\n",
    "9) Upon successful completion of writing data to the CSV file, a success message is printed to the console. File-related errors or unexpected exceptions trigger appropriate error messages for debugging and user feedback.\n",
    "10) The main objective of this code is to process sales data represented as dictionaries, calculate the total revenue for each category, and store the results in a CSV file. The input data consists of sales data for different products, including their names, categories, and revenues. The code encapsulates product data within Product objects and aggregates revenue data based on categories using a dictionary. Exception handling ensures the reliability of file operations and data processing, providing informative feedback in case of errors. The final output is a CSV file containing category-wise revenue data, enabling further analysis and reporting."
   ]
  },
  {
   "cell_type": "markdown",
   "id": "23d22691",
   "metadata": {},
   "source": [
    "## III) Student Record Processing"
   ]
  },
  {
   "cell_type": "markdown",
   "id": "216c1739",
   "metadata": {},
   "source": [
    "\n",
    "Objective: Process a CSV file containing student records and perform data analysis tasks using Python, including data filtering, calculation, and error handling.\n",
    "\n",
    "Instructions:\n",
    "\n",
    "1. Create a `Student` class with the following attributes: `student_id`, `name`, `score`, and `grade`. Implement a constructor to initialize these attributes.\n",
    "\n",
    "2. Read the data from the CSV file \"student_records.csv\" into a list of `Student` objects. The CSV file contains columns: \"Student ID\", \"Name\", and \"Score\". Calculate the grade for each student based on the following criteria:\n",
    "   - A: Score >= 90\n",
    "   - B: 80 <= Score < 90\n",
    "   - C: 70 <= Score < 80\n",
    "   - D: 60 <= Score < 70\n",
    "   - F: Score < 60\n",
    "\n",
    "3. Use list comprehension to create a list of students who received an \"A\" grade.\n",
    "\n",
    "4. Calculate the average score for all students.\n",
    "\n",
    "5. Handle exceptions: Implement error handling for file-related exceptions when reading the CSV file and for value-related exceptions when calculating grades (e.g., invalid scores). Print informative error messages for each exception.\n",
    "\n",
    "\n",
    "\n",
    "\n",
    "\n"
   ]
  },
  {
   "cell_type": "code",
   "execution_count": 31,
   "id": "3e5ff975",
   "metadata": {},
   "outputs": [
    {
     "name": "stdout",
     "output_type": "stream",
     "text": [
      "Student ID: 101, Name: Henry, Score: 85, Grade: B\n",
      "Student ID: 102, Name: John, Score: 51, Grade: F\n",
      "Student ID: 103, Name: David, Score: 97, Grade: A\n",
      "Student ID: 104, Name: Holmes, Score: 71, Grade: C\n",
      "Student ID: 105, Name: Marvin, Score: 30, Grade: F\n",
      "Student ID: 106, Name: Simon, Score: 79, Grade: C\n",
      "Student ID: 107, Name: Robert, Score: 59, Grade: F\n",
      "Student ID: 108, Name: Trent, Score: 33, Grade: F\n",
      "List of A grade students:\n",
      "Student ID: 103, Name: David, Score: 97, Grade: A\n"
     ]
    }
   ],
   "source": [
    "import csv\n",
    "\n",
    "class Student:\n",
    "    def __init__(self, student_id, name, score):\n",
    "        self.student_id = student_id\n",
    "        self.name = name\n",
    "        self.score = score\n",
    "        self.grade = self.calculate_grade()  # Calculate grade upon initialization\n",
    "\n",
    "    def calculate_grade(self):\n",
    "        try:\n",
    "            score = float(self.score)\n",
    "            if score >= 90:\n",
    "                return 'A'\n",
    "            elif 80 <= score < 90:\n",
    "                return 'B'\n",
    "            elif 70 <= score < 80:\n",
    "                return 'C'\n",
    "            elif 60 <= score < 70:\n",
    "                return 'D'\n",
    "            else:\n",
    "                return 'F'\n",
    "        except ValueError:\n",
    "            print(f\"Invalid score '{self.score}' for student {self.name}. Skipping.\")\n",
    "            return None\n",
    "\n",
    "try:\n",
    "    students = []\n",
    "\n",
    "    # Read data from CSV file\n",
    "    with open('student_records.csv', newline='') as csvfile:\n",
    "        reader = csv.reader(csvfile)\n",
    "        next(reader)  # Skip header row\n",
    "        for row in reader:\n",
    "            if len(row) == 3:  # Ensure each row has exactly 3 columns\n",
    "                student_id, name, score = row\n",
    "                student = Student(student_id, name, score)\n",
    "                students.append(student)\n",
    "            else:\n",
    "                print(f\"Invalid data format: {row}. Skipping.\")\n",
    "\n",
    "    # Print out student information with grades\n",
    "    for student in students:\n",
    "        print(f\"Student ID: {student.student_id}, Name: {student.name}, Score: {student.score}, Grade: {student.grade}\")\n",
    "        \n",
    "    # Use list comprehension to create a list of A grade students\n",
    "    a_grade_students = [student for student in students if student.grade == 'A']\n",
    "\n",
    "    # Print out A grade students\n",
    "    print(\"List of A grade students:\")\n",
    "    for student in a_grade_students:\n",
    "        print(f\"Student ID: {student.student_id}, Name: {student.name}, Score: {student.score}, Grade: {student.grade}\")\n",
    "\n",
    "except FileNotFoundError:\n",
    "    print(\"Error: File 'student_records.csv' not found.\")\n",
    "except Exception as e:\n",
    "    print(f\"An error occurred: {str(e)}\")\n",
    "\n"
   ]
  },
  {
   "cell_type": "code",
   "execution_count": 33,
   "id": "eff508a2",
   "metadata": {},
   "outputs": [
    {
     "name": "stdout",
     "output_type": "stream",
     "text": [
      "\n",
      "Average score for all students: 63.125\n"
     ]
    }
   ],
   "source": [
    "try:\n",
    "    students = []\n",
    "\n",
    "    # Read data from CSV file\n",
    "    with open('student_records.csv', newline='') as csvfile:\n",
    "        reader = csv.reader(csvfile)\n",
    "        next(reader)  # Skip header row\n",
    "        for row in reader:\n",
    "            if len(row) == 3:  # Ensure each row has exactly 3 columns\n",
    "                student_id, name, score = row\n",
    "                student = Student(student_id, name, score)\n",
    "                students.append(student)\n",
    "            else:\n",
    "                print(f\"Invalid data format: {row}. Skipping.\")\n",
    "\n",
    "    # Calculate average score for all students\n",
    "    valid_scores = [float(student.score) for student in students if student.score.isdigit()]\n",
    "    average_score = sum(valid_scores) / len(valid_scores)\n",
    "\n",
    "    print(f\"\\nAverage score for all students: {average_score}\")\n",
    "\n",
    "except FileNotFoundError:\n",
    "    print(\"Error: File 'student_records.csv' not found.\")\n",
    "except Exception as e:\n",
    "    print(f\"An error occurred: {str(e)}\")\n"
   ]
  },
  {
   "cell_type": "markdown",
   "id": "b6db1e9b",
   "metadata": {},
   "source": [
    " - Complete the missing parts of the code to define the `Student` class, read data from the CSV file, calculate grades, create a list of \"A\" grade students, and calculate the average score.\n",
    " \n",
    "- Implement error handling for file-related and value-related exceptions as described in the instructions.\n",
    "\n",
    "- Test the code with the provided \"student_records.csv\" file or any other similar dataset.\n",
    "\n",
    "- Consider adding additional data analysis tasks or customizations to further challenge students.\n"
   ]
  },
  {
   "cell_type": "markdown",
   "id": "1d1f947d",
   "metadata": {},
   "source": [
    " ## IV) Data Analysis with Exception Handling**"
   ]
  },
  {
   "cell_type": "markdown",
   "id": "bb0498d1",
   "metadata": {},
   "source": [
    " Process a CSV file containing financial transaction data, calculate various statistics, and handle exceptions that may arise during data processing.\n",
    "\n",
    "Instructions:\n",
    "\n",
    "1. Create a `Transaction` class with the following attributes: `transaction_id`, `date`, `amount`, and `description`. Implement a constructor to initialize these attributes.\n",
    "\n",
    "2. Read the data from the CSV file \"financial_transactions.csv\" into a list of `Transaction` objects. The CSV file contains columns: \"Transaction ID\", \"Date\", \"Amount\", and \"Description\". Handle exceptions that may occur while reading the file (e.g., file not found).\n",
    "\n",
    "3. Calculate the following statistics:\n",
    "   - Total number of transactions.\n",
    "   - Total transaction amount.\n",
    "   - Average transaction amount.\n",
    "   - The highest transaction amount.\n",
    "   - The lowest transaction amount.\n",
    "\n",
    "4. Use a list comprehension to create a list of transactions with negative amounts.\n",
    "\n",
    "5. Handle exceptions when performing calculations (e.g., handling invalid amount values, division by zero) and print informative error messages for each exception.\n",
    "\n",
    "\n",
    "\n",
    "\n",
    "\n",
    "\n",
    "\n"
   ]
  },
  {
   "cell_type": "markdown",
   "id": "d99088bc",
   "metadata": {},
   "source": [
    "#Code Template (with missing parts):\n",
    "\n",
    "```python\n",
    "# Define the Transaction class (fill in the missing class definition)\n",
    "\n",
    "# Initialize an empty list to store Transaction objects (fill in the missing code)\n",
    "\n",
    "# Read data from the CSV file and create Transaction objects (fill in the missing code)\n",
    "\n",
    "# Initialize variables to store statistics (fill in the missing code)\n",
    "\n",
    "# Calculate statistics for the transactions (fill in the missing code)\n",
    "\n",
    "# Use list comprehension to create a list of transactions with negative amounts (fill in the missing code)\n",
    "\n",
    "# Handle file-related exceptions when reading the CSV file (fill in the missing code)\n",
    "\n",
    "# Handle value-related exceptions when performing calculations (fill in the missing code)\n",
    "```"
   ]
  },
  {
   "cell_type": "markdown",
   "id": "9d5edc42",
   "metadata": {},
   "source": [
    "- Complete the missing parts of the code to define the `Transaction` class, read data from the CSV file, calculate statistics, and create a list of transactions with negative amounts.\n",
    "- Implement error handling for file-related and value-related exceptions as described in the instructions.\n",
    "- Test the code with the provided \"financial_transactions.csv\" file or any other similar dataset.\n",
    "- Consider adding more advanced data analysis tasks or customizations to further challenge students, such as identifying specific patterns in transaction descriptions or visualizing the data."
   ]
  },
  {
   "cell_type": "code",
   "execution_count": 39,
   "id": "1b25cde3",
   "metadata": {},
   "outputs": [],
   "source": [
    "import csv\n",
    "\n",
    "class Transaction:\n",
    "    def __init__(self, transaction_id, date, amount, description):\n",
    "        self.transaction_id = transaction_id\n",
    "        self.date = date\n",
    "        self.amount = amount\n",
    "        self.description = description\n"
   ]
  },
  {
   "cell_type": "code",
   "execution_count": 1,
   "id": "3749cb3e",
   "metadata": {},
   "outputs": [
    {
     "name": "stdout",
     "output_type": "stream",
     "text": [
      "Error: File not found.\n",
      "Statistics:\n",
      "Total number of transactions: 0\n",
      "Total transaction amount: 0\n",
      "Average transaction amount: 0\n",
      "Highest transaction amount: 0\n",
      "Lowest transaction amount: 0\n",
      "Error: No transactions found for calculating statistics.\n",
      "Error: No transactions found for calculating statistics.\n",
      "Error: No transactions with negative amounts found.\n"
     ]
    }
   ],
   "source": [
    "# Initialize an empty list to store Transaction objects\n",
    "transactions = []\n",
    "\n",
    "# Read data from the CSV file and create Transaction objects\n",
    "try:\n",
    "    with open(\"financial_transactions.csv\", \"r\", newline=\"\") as file:\n",
    "        reader = csv.DictReader(file)\n",
    "        for row in reader:\n",
    "            try:\n",
    "                transaction_id = int(row[\"Transaction ID\"])\n",
    "                date = row[\"Date\"]\n",
    "                amount = float(row[\"Amount\"])\n",
    "                description = row[\"Description\"]\n",
    "                transactions.append(Transaction(transaction_id, date, amount, description))\n",
    "            except ValueError as e:\n",
    "                print(f\"Error processing transaction: {e}. Skipping this transaction.\")\n",
    "except FileNotFoundError:\n",
    "    print(\"Error: File not found.\")\n",
    "\n",
    "# Initialize variables to store statistics\n",
    "total_transactions = len(transactions)\n",
    "total_amount = sum(transaction.amount for transaction in transactions)\n",
    "average_amount = total_amount / total_transactions if total_transactions > 0 else 0\n",
    "highest_amount = max(transaction.amount for transaction in transactions) if transactions else 0\n",
    "lowest_amount = min(transaction.amount for transaction in transactions) if transactions else 0\n",
    "\n",
    "# Calculate statistics for the transactions\n",
    "print(\"Statistics:\")\n",
    "print(f\"Total number of transactions: {total_transactions}\")\n",
    "print(f\"Total transaction amount: {total_amount}\")\n",
    "print(f\"Average transaction amount: {average_amount}\")\n",
    "print(f\"Highest transaction amount: {highest_amount}\")\n",
    "print(f\"Lowest transaction amount: {lowest_amount}\")\n",
    "\n",
    "# Use list comprehension to create a list of transactions with negative amounts\n",
    "negative_transactions = [transaction for transaction in transactions if transaction.amount < 0]\n",
    "\n",
    "# Handle file-related exceptions when reading the CSV file\n",
    "# Already handled above\n",
    "\n",
    "# Handle value-related exceptions when performing calculations\n",
    "try:\n",
    "    if total_transactions == 0:\n",
    "        raise ValueError(\"No transactions found for calculating statistics.\")\n",
    "except ValueError as e:\n",
    "    print(f\"Error: {e}\")\n",
    "\n",
    "try:\n",
    "    if not transactions:\n",
    "        raise ValueError(\"No transactions found for calculating statistics.\")\n",
    "except ValueError as e:\n",
    "    print(f\"Error: {e}\")\n",
    "\n",
    "try:\n",
    "    if not negative_transactions:\n",
    "        raise ValueError(\"No transactions with negative amounts found.\")\n",
    "except ValueError as e:\n",
    "    print(f\"Error: {e}\")\n"
   ]
  },
  {
   "cell_type": "code",
   "execution_count": null,
   "id": "7aa26d84",
   "metadata": {},
   "outputs": [],
   "source": [
    "# Additional feedback: Created a financial_transactions.csv file for this section but there was a key error with the data so I hav eproceeded without it."
   ]
  }
 ],
 "metadata": {
  "kernelspec": {
   "display_name": "Python 3 (ipykernel)",
   "language": "python",
   "name": "python3"
  },
  "language_info": {
   "codemirror_mode": {
    "name": "ipython",
    "version": 3
   },
   "file_extension": ".py",
   "mimetype": "text/x-python",
   "name": "python",
   "nbconvert_exporter": "python",
   "pygments_lexer": "ipython3",
   "version": "3.11.5"
  }
 },
 "nbformat": 4,
 "nbformat_minor": 5
}
