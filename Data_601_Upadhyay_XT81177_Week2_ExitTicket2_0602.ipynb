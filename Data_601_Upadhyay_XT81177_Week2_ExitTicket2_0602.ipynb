{
 "cells": [
  {
   "cell_type": "markdown",
   "id": "f6789530",
   "metadata": {},
   "source": [
    "#### Name: Stuti Upadhyay\n",
    "#### Date: 07/02/2024\n",
    "#### Title: Exit Ticket Week 2\n",
    "#### Instructor: UMBC"
   ]
  },
  {
   "cell_type": "code",
   "execution_count": 17,
   "id": "5b4f728e",
   "metadata": {},
   "outputs": [
    {
     "name": "stdout",
     "output_type": "stream",
     "text": [
      "Enter a number:5\n",
      "5\n",
      "<class 'int'>\n"
     ]
    }
   ],
   "source": [
    "# example of an int variable\n",
    "a=int(input(\"Enter a number:\"))\n",
    "print(a)\n",
    "print(type(a))"
   ]
  },
  {
   "cell_type": "code",
   "execution_count": 18,
   "id": "1087e5d0",
   "metadata": {},
   "outputs": [
    {
     "name": "stdout",
     "output_type": "stream",
     "text": [
      "Enter a string:Hello\n",
      "Hello\n",
      "<class 'str'>\n"
     ]
    }
   ],
   "source": [
    "#example of a string variable\n",
    "\n",
    "b=str(input(\"Enter a string:\"))\n",
    "print(b)\n",
    "print(type(b))"
   ]
  },
  {
   "cell_type": "code",
   "execution_count": 19,
   "id": "1869a1a8",
   "metadata": {},
   "outputs": [
    {
     "name": "stdout",
     "output_type": "stream",
     "text": [
      "Enter a number:4.7\n",
      "4.7\n",
      "<class 'float'>\n"
     ]
    }
   ],
   "source": [
    "#example of a float variable\n",
    "\n",
    "c=float(input(\"Enter a number:\"))\n",
    "print(c)\n",
    "print(type(c))"
   ]
  },
  {
   "cell_type": "code",
   "execution_count": 22,
   "id": "4e710a36",
   "metadata": {},
   "outputs": [
    {
     "name": "stdout",
     "output_type": "stream",
     "text": [
      "Enter a number a:4\n",
      "Enter a number b:6\n",
      "The result is: 4096\n"
     ]
    }
   ],
   "source": [
    "# performing basic operations for exponents\n",
    "\n",
    "ea=int(input(\"Enter a number a:\"))\n",
    "eb=int(input(\"Enter a number b:\"))\n",
    "ex = ea**eb\n",
    "print(\"The result is:\",ex)"
   ]
  },
  {
   "cell_type": "code",
   "execution_count": 28,
   "id": "3edf3734",
   "metadata": {},
   "outputs": [
    {
     "data": {
      "text/plain": [
       "9"
      ]
     },
     "execution_count": 28,
     "metadata": {},
     "output_type": "execute_result"
    }
   ],
   "source": [
    "#importing the math function and finding sum of two numbers\n",
    "import math \n",
    "sum([7,2])"
   ]
  },
  {
   "cell_type": "code",
   "execution_count": 29,
   "id": "ed133fe6",
   "metadata": {},
   "outputs": [
    {
     "name": "stdout",
     "output_type": "stream",
     "text": [
      "162754.79141900392\n"
     ]
    }
   ],
   "source": [
    "#Finding exponential value of a number\n",
    "print(math.exp(12))"
   ]
  },
  {
   "cell_type": "code",
   "execution_count": 33,
   "id": "05627f4a",
   "metadata": {},
   "outputs": [
    {
     "name": "stdout",
     "output_type": "stream",
     "text": [
      "8247650592082470666723170306785496252186258551345437492922123134388955774976000000000000000\n"
     ]
    }
   ],
   "source": [
    "# finding factorial of a number\n",
    "\n",
    "print(math.factorial(65))"
   ]
  },
  {
   "cell_type": "code",
   "execution_count": 34,
   "id": "ae0f488a",
   "metadata": {},
   "outputs": [
    {
     "name": "stdout",
     "output_type": "stream",
     "text": [
      "3.5553480614894135\n"
     ]
    }
   ],
   "source": [
    "#finding logarithmic value of a number\n",
    "\n",
    "print(math.log(35))"
   ]
  },
  {
   "cell_type": "code",
   "execution_count": 37,
   "id": "14666de8",
   "metadata": {},
   "outputs": [
    {
     "name": "stdout",
     "output_type": "stream",
     "text": [
      "4104\n"
     ]
    }
   ],
   "source": [
    "#calculating product of two numbers\n",
    "print(math.prod((54,76)))"
   ]
  },
  {
   "cell_type": "code",
   "execution_count": 39,
   "id": "ea61a9b3",
   "metadata": {},
   "outputs": [
    {
     "name": "stdout",
     "output_type": "stream",
     "text": [
      "25\n"
     ]
    }
   ],
   "source": [
    "#calculating GCD of two numbers\n",
    "print (math.gcd(75,25))"
   ]
  },
  {
   "cell_type": "code",
   "execution_count": 40,
   "id": "22032ba5",
   "metadata": {},
   "outputs": [
    {
     "name": "stdout",
     "output_type": "stream",
     "text": [
      "11.180339887498949\n"
     ]
    }
   ],
   "source": [
    "#calculating square root of a number\n",
    "print (math.sqrt(125))"
   ]
  },
  {
   "cell_type": "code",
   "execution_count": 41,
   "id": "9f432ec4",
   "metadata": {},
   "outputs": [
    {
     "name": "stdout",
     "output_type": "stream",
     "text": [
      "6\n"
     ]
    }
   ],
   "source": [
    "#finding ceiling value of a number\n",
    "print(math.ceil(5.8))"
   ]
  },
  {
   "cell_type": "code",
   "execution_count": 42,
   "id": "f5ffb16b",
   "metadata": {},
   "outputs": [
    {
     "name": "stdout",
     "output_type": "stream",
     "text": [
      "5\n"
     ]
    }
   ],
   "source": [
    "#finding floor value of a number\n",
    "print(math.floor(5.8))"
   ]
  },
  {
   "cell_type": "markdown",
   "id": "1b3ff737",
   "metadata": {},
   "source": [
    "### Difference between Complex Numbers and Boolean Values:\n",
    "\n",
    "Complex Number: The data type of 'Complex' is used to represent complex numbers in the form of x+yj, which is is usually used to  to perform scientific operations. Only the 'j' is allowed as the imaginary part in Python, any other character might prompt syntax error.\n",
    "\n",
    "Boolean Values: Used to represent only boolean or logical values and has only two allowed values True \"T\" and False \"F\"."
   ]
  },
  {
   "cell_type": "code",
   "execution_count": 4,
   "id": "5b496d80",
   "metadata": {},
   "outputs": [
    {
     "name": "stdout",
     "output_type": "stream",
     "text": [
      "Enter the number x34\n",
      "Enter the number y65\n",
      "x + y = 99\n",
      "x - y = -31\n",
      "x * y = 2210\n",
      "x / y = 0.5230769230769231\n",
      "x % y = 34\n",
      "x // y = 0\n",
      "x ** y = 3516653733747887484905571395749820949396267082812326251249703698546110535162463532902715566036353024\n"
     ]
    }
   ],
   "source": [
    "x = int(input(\"Enter the number x\"))\n",
    "y = int(input(\"Enter the number y\"))\n",
    "\n",
    "# Output: x + y = 26\n",
    "# Addition\n",
    "\n",
    "print('x + y =',x+y)\n",
    "\n",
    "# Output: x - y = 16\n",
    "\n",
    "print('x - y =',x-y)\n",
    "\n",
    "# Output: x * y = 105\n",
    "# Multiplication\n",
    "\n",
    "print('x * y =',x*y)\n",
    "\n",
    "# Output: x / y = 4.2\n",
    "# Division, always results in float\n",
    "\n",
    "print('x / y =',x/y)\n",
    "\n",
    "# Output x % y = 1\n",
    "# Modulo division, prints the remainder\n",
    "\n",
    "print('x % y =',x%y)\n",
    "\n",
    "# Output: x // y = 4\n",
    "# Floor Division, whole number adjusted with left in the number line\n",
    "\n",
    "print('x // y =',x//y)\n",
    "\n",
    "# Output: x ** y = 4084101\n",
    "# exponent x to the power y\n",
    "\n",
    "print('x ** y =',x**y)"
   ]
  },
  {
   "cell_type": "code",
   "execution_count": 44,
   "id": "89e3083f",
   "metadata": {},
   "outputs": [
    {
     "data": {
      "text/plain": [
       "['Yellow', 'Orange', 'Black', 'Red']"
      ]
     },
     "execution_count": 44,
     "metadata": {},
     "output_type": "execute_result"
    }
   ],
   "source": [
    "#creating a simple list\n",
    "\n",
    "list=[\"Yellow\",\"Orange\",\"Black\",\"Red\"]\n",
    "list"
   ]
  },
  {
   "cell_type": "code",
   "execution_count": 45,
   "id": "08a75d91",
   "metadata": {},
   "outputs": [
    {
     "name": "stdout",
     "output_type": "stream",
     "text": [
      "4\n",
      "<class 'list'>\n"
     ]
    }
   ],
   "source": [
    "#length and data type\n",
    "\n",
    "print(len(list))\n",
    "print(type(list))"
   ]
  },
  {
   "cell_type": "code",
   "execution_count": 47,
   "id": "486b1391",
   "metadata": {},
   "outputs": [
    {
     "name": "stdout",
     "output_type": "stream",
     "text": [
      "Black\n",
      "['Yellow', 'Orange']\n"
     ]
    }
   ],
   "source": [
    "#accessing an element or elements in list\n",
    "print(list[2])\n",
    "print(list[0:2])"
   ]
  },
  {
   "cell_type": "code",
   "execution_count": 48,
   "id": "490e6007",
   "metadata": {},
   "outputs": [
    {
     "data": {
      "text/plain": [
       "['Yellow', 'Orange', 'Black', 'Maroon']"
      ]
     },
     "execution_count": 48,
     "metadata": {},
     "output_type": "execute_result"
    }
   ],
   "source": [
    "#changing an element in list\n",
    "list[3] = \"Maroon\"\n",
    "list"
   ]
  },
  {
   "cell_type": "code",
   "execution_count": 49,
   "id": "a2bf0f4d",
   "metadata": {},
   "outputs": [
    {
     "data": {
      "text/plain": [
       "['Yellow', 'Orange', 'Black', 'Maroon', 'Purple']"
      ]
     },
     "execution_count": 49,
     "metadata": {},
     "output_type": "execute_result"
    }
   ],
   "source": [
    "#appending in a list\n",
    "list.append(\"Purple\")\n",
    "list"
   ]
  },
  {
   "cell_type": "code",
   "execution_count": 50,
   "id": "55d9d19d",
   "metadata": {},
   "outputs": [
    {
     "name": "stdout",
     "output_type": "stream",
     "text": [
      "Yellow\n",
      "Orange\n",
      "Black\n",
      "Maroon\n",
      "Purple\n"
     ]
    }
   ],
   "source": [
    "#looping for a list\n",
    "for x in list:\n",
    "    print(x)"
   ]
  },
  {
   "cell_type": "code",
   "execution_count": 52,
   "id": "bb207bef",
   "metadata": {},
   "outputs": [
    {
     "name": "stdout",
     "output_type": "stream",
     "text": [
      "['Orange', 'Black', 'Maroon']\n"
     ]
    }
   ],
   "source": [
    "#list comprehension\n",
    "list1 = [x for x in list if \"a\" in x]\n",
    "\n",
    "print(list1)"
   ]
  },
  {
   "cell_type": "code",
   "execution_count": 9,
   "id": "6269f02e",
   "metadata": {},
   "outputs": [
    {
     "data": {
      "text/plain": [
       "[1, 4, 9, 16, 25, 36, 49, 64, 81, 100]"
      ]
     },
     "execution_count": 9,
     "metadata": {},
     "output_type": "execute_result"
    }
   ],
   "source": [
    "#looping item to alist\n",
    "square=[]\n",
    "for x in range(1,11):\n",
    "    square.append(x**2)\n",
    "    \n",
    "square"
   ]
  },
  {
   "cell_type": "code",
   "execution_count": 10,
   "id": "04af701a",
   "metadata": {},
   "outputs": [],
   "source": [
    "transactions = [\n",
    "    {\"id\": 1, \"product\": \"Laptop\", \"amount\": 800, \"customer\": \"Alice\"},\n",
    "    {\"id\": 2, \"product\": \"Mouse\", \"amount\": 20, \"customer\": \"Bob\"},\n",
    "    {\"id\": 3, \"product\": \"Keyboard\", \"amount\": 50, \"customer\": \"Alice\"},\n",
    "    {\"id\": 4, \"product\": \"Monitor\", \"amount\": 300, \"customer\": \"Alice\"},\n",
    "    {\"id\": 5, \"product\": \"Laptop\", \"amount\": 850, \"customer\": \"Clara\"},\n",
    "    {\"id\": 6, \"product\": \"Mouse\", \"amount\": 25, \"customer\": \"Bob\"},\n",
    "    {\"id\": 7, \"product\": \"Keyboard\", \"amount\": 70, \"customer\":\"Clara\"}]"
   ]
  },
  {
   "cell_type": "markdown",
   "id": "6653d4f4",
   "metadata": {},
   "source": [
    "Calculate the total sales amount for each customer.\n",
    "Find the most sold product (by quantity, not by sales amount).\n",
    "Using list comprehension, create a list of tuples (product, amount) for transactions where the amount is greater than 50."
   ]
  },
  {
   "cell_type": "code",
   "execution_count": 13,
   "id": "68b4f478",
   "metadata": {},
   "outputs": [
    {
     "data": {
      "text/plain": [
       "[('Laptop', 800), ('Monitor', 300), ('Laptop', 850), ('Keyboard', 70)]"
      ]
     },
     "execution_count": 13,
     "metadata": {},
     "output_type": "execute_result"
    }
   ],
   "source": [
    "# Calculate the total sales amount for each customer.\n",
    "total_sales_per_customer = {}\n",
    "for transaction in transactions:\n",
    "    customer = transaction[\"customer\"]\n",
    "    amount = transaction[\"amount\"]\n",
    "    if customer in total_sales_per_customer:\n",
    "        total_sales_per_customer[customer] += amount\n",
    "    else:\n",
    "        total_sales_per_customer[customer] = amount\n",
    "# Find the most sold product (by quantity, not by sales amount).\n",
    "product_sales = {}\n",
    "for transaction in transactions:\n",
    "    product = transaction[\"product\"]\n",
    "    if product in product_sales:\n",
    "        product_sales[product] += 1\n",
    "    else:\n",
    "        product_sales[product] = 1\n",
    "most_sold_product = max(product_sales, key=product_sales.get)\n",
    "# Using list comprehension, create a list of tuples (product, amount) for transactions where the amount is greater than 50.\n",
    "high_value_transactions = [(t[\"product\"], t[\"amount\"]) for t in transactions if t[\"amount\"] > 50]\n",
    "high_value_transactions"
   ]
  },
  {
   "cell_type": "markdown",
   "id": "01a7ed31",
   "metadata": {},
   "source": [
    "### Difference between Tuple and Lists:\n",
    "\n",
    "Tuple: Tuple is a python data type that is immutable in nature. Hence, the values cannot be changed after creation.\n",
    "\n",
    "List: List is a python data type that is mutable in nature, hence the values can be changed and replaced after it's initial creation."
   ]
  },
  {
   "cell_type": "markdown",
   "id": "e5b23f9a",
   "metadata": {},
   "source": [
    "### Python Lambda Function:\n",
    "\n",
    "The Lambda function in python is a small anonymous function, that can take any number of arguments but can only have one expression. The syntax usuallt works like this;\n",
    "\n",
    "Syntax - lambda argument:expression"
   ]
  },
  {
   "cell_type": "code",
   "execution_count": 51,
   "id": "d7260768",
   "metadata": {},
   "outputs": [
    {
     "name": "stdout",
     "output_type": "stream",
     "text": [
      "121\n"
     ]
    }
   ],
   "source": [
    "#example of a lambda function\n",
    "z = lambda i : i + 65\n",
    "print(z(56))"
   ]
  },
  {
   "cell_type": "markdown",
   "id": "4c42fd65",
   "metadata": {},
   "source": [
    "### while and for loop :"
   ]
  },
  {
   "cell_type": "code",
   "execution_count": 58,
   "id": "287c2943",
   "metadata": {},
   "outputs": [
    {
     "name": "stdout",
     "output_type": "stream",
     "text": [
      "0\n",
      "1\n",
      "2\n",
      "3\n",
      "4\n",
      "5\n",
      "6\n",
      "7\n"
     ]
    }
   ],
   "source": [
    "# example of a while loop\n",
    "\n",
    "j = 0\n",
    "while j < 8:\n",
    "    print(j)\n",
    "    j += 1"
   ]
  },
  {
   "cell_type": "code",
   "execution_count": 59,
   "id": "068fd1c6",
   "metadata": {},
   "outputs": [
    {
     "name": "stdout",
     "output_type": "stream",
     "text": [
      "0\n",
      "1\n",
      "2\n",
      "3\n",
      "4\n",
      "5\n",
      "6\n",
      "7\n",
      "8\n",
      "9\n"
     ]
    }
   ],
   "source": [
    "# example of a for loop\n",
    "\n",
    "for h in range(10):\n",
    "    print(h)"
   ]
  },
  {
   "cell_type": "markdown",
   "id": "fcdc19f2",
   "metadata": {},
   "source": [
    "### Conditional Statements (if):"
   ]
  },
  {
   "cell_type": "code",
   "execution_count": 60,
   "id": "4051aff2",
   "metadata": {},
   "outputs": [
    {
     "name": "stdout",
     "output_type": "stream",
     "text": [
      "Length of string b is greater than string a\n"
     ]
    }
   ],
   "source": [
    "# example of a conditional statement (if)\n",
    "\n",
    "stra = \"Hello\"\n",
    "strb = \"Hello Good Morning\"\n",
    "if len(strb) > len(stra):\n",
    "  print(\"Length of string b is greater than string a\")"
   ]
  },
  {
   "cell_type": "code",
   "execution_count": 63,
   "id": "f7bbbb2c",
   "metadata": {},
   "outputs": [
    {
     "name": "stdout",
     "output_type": "stream",
     "text": [
      "Lenth of string b is greater than string a\n"
     ]
    }
   ],
   "source": [
    "stra = \"Hello\"\n",
    "strb = \"Hello Good Morning\"\n",
    "if len(strb) < len(stra):\n",
    "    print(\"Length of string a is greater than string b\")\n",
    "else:\n",
    "    print (\"Lenth of string b is greater than string a\")"
   ]
  },
  {
   "cell_type": "code",
   "execution_count": null,
   "id": "23650326",
   "metadata": {},
   "outputs": [],
   "source": []
  }
 ],
 "metadata": {
  "kernelspec": {
   "display_name": "Python 3",
   "language": "python",
   "name": "python3"
  },
  "language_info": {
   "codemirror_mode": {
    "name": "ipython",
    "version": 3
   },
   "file_extension": ".py",
   "mimetype": "text/x-python",
   "name": "python",
   "nbconvert_exporter": "python",
   "pygments_lexer": "ipython3",
   "version": "3.9.13"
  }
 },
 "nbformat": 4,
 "nbformat_minor": 5
}
