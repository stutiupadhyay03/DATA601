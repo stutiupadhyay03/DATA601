{
 "cells": [
  {
   "cell_type": "markdown",
   "id": "3b07fbbf",
   "metadata": {},
   "source": [
    "###### Name : Stuti Upadhyay\n",
    "###### Campus ID: XT81177\n",
    "###### Instructor: Chalachew Jemberie"
   ]
  },
  {
   "cell_type": "markdown",
   "id": "1c0d8d63",
   "metadata": {},
   "source": [
    "\n",
    "### Probability and Statistics\n",
    "\n",
    "1. **Binomial Probability Distribution**\n",
    "   - **Exercise**: Calculate the probability of getting exactly 4 heads in 10 flips of a fair coin.\n",
    "     ```python\n",
    "     from scipy.stats import binom\n",
    "     prob = binom.pmf(4, 10, 0.5)\n",
    "     print(prob)\n",
    "     ```\n",
    "   - **Question**: How does the probability change if the coin is biased towards heads with a probability of 0.6?\n"
   ]
  },
  {
   "cell_type": "code",
   "execution_count": 1,
   "id": "029f961c",
   "metadata": {},
   "outputs": [
    {
     "name": "stdout",
     "output_type": "stream",
     "text": [
      "0.20507812499999997\n"
     ]
    }
   ],
   "source": [
    "from scipy.stats import binom\n",
    "prob = binom.pmf(4, 10, 0.5)\n",
    "print(prob)"
   ]
  },
  {
   "cell_type": "code",
   "execution_count": 2,
   "id": "0ac4820d",
   "metadata": {},
   "outputs": [
    {
     "name": "stdout",
     "output_type": "stream",
     "text": [
      "0.11147673600000015\n"
     ]
    }
   ],
   "source": [
    "from scipy.stats import binom\n",
    "prob = binom.pmf(4, 10, 0.6)\n",
    "print(prob)"
   ]
  },
  {
   "cell_type": "markdown",
   "id": "716c50a7",
   "metadata": {},
   "source": [
    "Binomial distribution summarizes the number of trials, or observations, when each trial has the same probability of attaining one particular value. Binomial distribution determines the probability of observing a specific number of successful outcomes in a specified number of trials."
   ]
  },
  {
   "cell_type": "markdown",
   "id": "84b4a4b6",
   "metadata": {},
   "source": [
    "The BPD for the following conditions will change and hence the probability will decrease since there is a bias towards head which implies that the number of internations to get 4 heads in 10 flips will change from 0.205 to 0.111. "
   ]
  },
  {
   "cell_type": "markdown",
   "id": "75c53b04",
   "metadata": {},
   "source": [
    "2. **Normal Distribution**\n",
    "   - **Exercise**: Calculate the probability that a point taken from a normal distribution with mean 0 and standard deviation 1 is less than 1.96.\n",
    "     ```python\n",
    "     from scipy.stats import norm\n",
    "     prob = norm.cdf(1.96, 0, 1)\n",
    "     print(prob)\n",
    "     ```\n",
    "   - **Question**: What percentage of the distribution lies between -1.96 and 1.96?"
   ]
  },
  {
   "cell_type": "code",
   "execution_count": 3,
   "id": "3789c068",
   "metadata": {},
   "outputs": [
    {
     "name": "stdout",
     "output_type": "stream",
     "text": [
      "0.9750021048517795\n"
     ]
    }
   ],
   "source": [
    "from scipy.stats import norm\n",
    "prob1 = norm.cdf(1.96, 0, 1)\n",
    "print(prob1)"
   ]
  },
  {
   "cell_type": "code",
   "execution_count": 4,
   "id": "be526cdb",
   "metadata": {},
   "outputs": [
    {
     "name": "stdout",
     "output_type": "stream",
     "text": [
      "0.024997895148220435\n"
     ]
    }
   ],
   "source": [
    "from scipy.stats import norm\n",
    "prob2 = norm.cdf(-1.96, 0, 1)\n",
    "print(prob2)"
   ]
  },
  {
   "cell_type": "code",
   "execution_count": 5,
   "id": "3cce612f",
   "metadata": {},
   "outputs": [
    {
     "name": "stdout",
     "output_type": "stream",
     "text": [
      "97.43611885309512\n"
     ]
    }
   ],
   "source": [
    "# Percentage change of the distribution lies between -1.96 and 1.96\n",
    "\n",
    "per_diff = ((prob1-prob2)/prob1)*100\n",
    "print(per_diff)"
   ]
  },
  {
   "cell_type": "markdown",
   "id": "ced3d978",
   "metadata": {},
   "source": [
    "\n",
    "3. **Sampling Distribution of the Sample Mean**\n",
    "   - **Exercise**: Generate a sample of 30 random numbers from a normal distribution with mean 100 and standard deviation 15. Calculate the sample mean.\n",
    "     ```python\n",
    "     import numpy as np\n",
    "     sample = np.random.normal(100, 15, 30)\n",
    "     sample_mean = np.mean(sample)\n",
    "     print(sample_mean)\n",
    "     ```\n",
    "   - **Question**: If you increase the sample size to 100, how does the sample mean's standard deviation change?\n"
   ]
  },
  {
   "cell_type": "code",
   "execution_count": 6,
   "id": "dc0ab908",
   "metadata": {},
   "outputs": [
    {
     "name": "stdout",
     "output_type": "stream",
     "text": [
      "103.03054451200435\n"
     ]
    }
   ],
   "source": [
    "import numpy as np\n",
    "sample_a = np.random.normal(100, 15, 30)\n",
    "sample_mean_a = np.mean(sample_a)\n",
    "print(sample_mean_a)"
   ]
  },
  {
   "cell_type": "code",
   "execution_count": 7,
   "id": "c881242b",
   "metadata": {},
   "outputs": [
    {
     "name": "stdout",
     "output_type": "stream",
     "text": [
      "13.643432866420676\n"
     ]
    }
   ],
   "source": [
    "sample_std_dev_a = np.std(sample_a, ddof=1)\n",
    "print(sample_std_dev_a)"
   ]
  },
  {
   "cell_type": "code",
   "execution_count": 8,
   "id": "13ead59e",
   "metadata": {},
   "outputs": [
    {
     "name": "stdout",
     "output_type": "stream",
     "text": [
      "101.25500973504552\n"
     ]
    }
   ],
   "source": [
    "import numpy as np\n",
    "sample_b = np.random.normal(100, 15, 100)\n",
    "sample_mean_b = np.mean(sample_b)\n",
    "print(sample_mean_b)"
   ]
  },
  {
   "cell_type": "code",
   "execution_count": 9,
   "id": "a21ee2fb",
   "metadata": {},
   "outputs": [
    {
     "name": "stdout",
     "output_type": "stream",
     "text": [
      "13.609921075795711\n"
     ]
    }
   ],
   "source": [
    "sample_std_dev_b = np.std(sample_b, ddof=1)\n",
    "print(sample_std_dev_b)"
   ]
  },
  {
   "cell_type": "code",
   "execution_count": 10,
   "id": "0517b89b",
   "metadata": {},
   "outputs": [
    {
     "name": "stdout",
     "output_type": "stream",
     "text": [
      "-0.03351179062496534\n",
      "97.43611885309512\n"
     ]
    }
   ],
   "source": [
    "# Change in standard deviation\n",
    "change_std = sample_std_dev_b-sample_std_dev_a\n",
    "print(change_std)\n",
    "# Percentage change in standard deviation\n",
    "per_diff_std = ((change_std)/sample_std_dev_a)*100\n",
    "print(per_diff)"
   ]
  },
  {
   "cell_type": "markdown",
   "id": "7c3ff569",
   "metadata": {},
   "source": [
    "\n",
    "4. **Hypothesis Testing**\n",
    "   - **Exercise**: Perform a two-sample t-test to compare the means of two samples generated from normal distributions with different means (100 and 110).\n",
    "     ```python\n",
    "     from scipy.stats import ttest_ind\n",
    "     sample1 = np.random.normal(100, 10, 100)\n",
    "     sample2 = np.random.normal(110, 10, 100)\n",
    "     t_stat, p_val = ttest_ind(sample1, sample2)\n",
    "     print(p_val)\n",
    "     ```\n",
    "   - **Question**: How does the p-value change as the difference between the two means decreases?"
   ]
  },
  {
   "cell_type": "code",
   "execution_count": 11,
   "id": "50eb0098",
   "metadata": {},
   "outputs": [
    {
     "name": "stdout",
     "output_type": "stream",
     "text": [
      "9.855029446521662e-12\n"
     ]
    }
   ],
   "source": [
    "from scipy.stats import ttest_ind\n",
    "sample1 = np.random.normal(100, 10, 100)\n",
    "sample2 = np.random.normal(110, 10, 100)\n",
    "t_stat_1, p_val_1 = ttest_ind(sample1, sample2)\n",
    "print(p_val_1)"
   ]
  },
  {
   "cell_type": "code",
   "execution_count": 12,
   "id": "ac80c3b0",
   "metadata": {},
   "outputs": [
    {
     "name": "stdout",
     "output_type": "stream",
     "text": [
      "0.0007939553726013053\n"
     ]
    }
   ],
   "source": [
    "from scipy.stats import ttest_ind\n",
    "sample3 = np.random.normal(105, 10, 100)\n",
    "sample4 = np.random.normal(110, 10, 100)\n",
    "t_stat_2, p_val_2 = ttest_ind(sample3, sample4)\n",
    "print(p_val_2)"
   ]
  },
  {
   "cell_type": "code",
   "execution_count": 13,
   "id": "6ee218d1",
   "metadata": {},
   "outputs": [
    {
     "name": "stdout",
     "output_type": "stream",
     "text": [
      "0.29260360785268635\n"
     ]
    }
   ],
   "source": [
    "from scipy.stats import ttest_ind\n",
    "sample5 = np.random.normal(108, 10, 100)\n",
    "sample6 = np.random.normal(110, 10, 100)\n",
    "t_stat_3, p_val_3 = ttest_ind(sample5, sample6)\n",
    "print(p_val_3)"
   ]
  },
  {
   "cell_type": "markdown",
   "id": "f333f07b",
   "metadata": {},
   "source": [
    "5. **Confidence Interval for a Mean**\n",
    "   - **Exercise**: Calculate the 95% confidence interval for the mean of a sample of size 50 from a normal distribution with mean 20 and standard deviation 5.\n",
    "     ```python\n",
    "     from scipy.stats import norm\n",
    "     sample = np.random.normal(20, 5, 50)\n",
    "     ci_low, ci_high = norm.interval(0.95, np.mean(sample), np.std(sample, ddof=1) / np.sqrt(len(sample)))\n",
    "     print(ci_low, ci_high)\n",
    "     ```\n",
    "   - **Question**: How does increasing the sample size to 100 affect the width of the confidence interval?\n"
   ]
  },
  {
   "cell_type": "code",
   "execution_count": 14,
   "id": "7d4901a4",
   "metadata": {},
   "outputs": [
    {
     "name": "stdout",
     "output_type": "stream",
     "text": [
      "19.917424742459044 22.567135422690964\n"
     ]
    }
   ],
   "source": [
    "from scipy.stats import norm\n",
    "sample = np.random.normal(20, 5, 50)\n",
    "ci_low_a, ci_high_a = norm.interval(0.95, np.mean(sample), np.std(sample, ddof=1) / np.sqrt(len(sample)))\n",
    "print(ci_low_a, ci_high_a)"
   ]
  },
  {
   "cell_type": "code",
   "execution_count": 15,
   "id": "d238057f",
   "metadata": {},
   "outputs": [
    {
     "name": "stdout",
     "output_type": "stream",
     "text": [
      "2.6497106802319195\n"
     ]
    }
   ],
   "source": [
    "range_a = ci_high_a - ci_low_a\n",
    "print(range_a)"
   ]
  },
  {
   "cell_type": "code",
   "execution_count": 16,
   "id": "2b8a526f",
   "metadata": {},
   "outputs": [
    {
     "name": "stdout",
     "output_type": "stream",
     "text": [
      "19.38911077575179 21.065577921519974\n"
     ]
    }
   ],
   "source": [
    "from scipy.stats import norm\n",
    "sample = np.random.normal(20, 5, 100)\n",
    "ci_low_b, ci_high_b = norm.interval(0.95, np.mean(sample), np.std(sample, ddof=1) / np.sqrt(len(sample)))\n",
    "print(ci_low_b, ci_high_b)"
   ]
  },
  {
   "cell_type": "code",
   "execution_count": 17,
   "id": "daf94e9a",
   "metadata": {},
   "outputs": [
    {
     "name": "stdout",
     "output_type": "stream",
     "text": [
      "1.6764671457681857\n"
     ]
    }
   ],
   "source": [
    "range_b = ci_high_b - ci_low_b\n",
    "print(range_b)"
   ]
  },
  {
   "cell_type": "code",
   "execution_count": 18,
   "id": "7d48520b",
   "metadata": {},
   "outputs": [
    {
     "name": "stdout",
     "output_type": "stream",
     "text": [
      "0.9732435344637338\n"
     ]
    }
   ],
   "source": [
    "range_inc = range_a - range_b \n",
    "print(range_inc)"
   ]
  },
  {
   "cell_type": "markdown",
   "id": "d491afc7",
   "metadata": {},
   "source": [
    "\n",
    "### Linear Algebra"
   ]
  },
  {
   "cell_type": "markdown",
   "id": "b3a64bec",
   "metadata": {},
   "source": [
    "\n",
    "\n",
    "6. **Matrix Multiplication**\n",
    "   - **Exercise**: Multiply two matrices A and B.\n",
    "     ```python\n",
    "     import numpy as np\n",
    "     A = np.array([[1, 2], [3, 4]])\n",
    "     B = np.array([[5, 6], [7, 8]])\n",
    "     product = np.dot(A, B)\n",
    "     print(product)\n",
    "     ```\n",
    "   - **Question**: What happens to the product if you transpose matrix A before multiplication?"
   ]
  },
  {
   "cell_type": "code",
   "execution_count": 19,
   "id": "7e2db114",
   "metadata": {},
   "outputs": [
    {
     "name": "stdout",
     "output_type": "stream",
     "text": [
      "[[19 22]\n",
      " [43 50]]\n"
     ]
    }
   ],
   "source": [
    "import numpy as np\n",
    "A = np.array([[1, 2], [3, 4]])\n",
    "B = np.array([[5, 6], [7, 8]])\n",
    "product = np.dot(A, B)\n",
    "print(product)"
   ]
  },
  {
   "cell_type": "code",
   "execution_count": 20,
   "id": "f7363ab9",
   "metadata": {},
   "outputs": [
    {
     "name": "stdout",
     "output_type": "stream",
     "text": [
      "[[26 30]\n",
      " [38 44]]\n"
     ]
    }
   ],
   "source": [
    "A_trans = A.T\n",
    "product_AT = np.dot(A_trans, B)\n",
    "print(product_AT)"
   ]
  },
  {
   "cell_type": "code",
   "execution_count": 21,
   "id": "4d77a5a4",
   "metadata": {},
   "outputs": [
    {
     "name": "stdout",
     "output_type": "stream",
     "text": [
      "Array A will be: [[1 2]\n",
      " [3 4]]\n",
      "Transpose of Array A will be: [[1 3]\n",
      " [2 4]]\n"
     ]
    }
   ],
   "source": [
    "print(\"Array A will be:\", A)\n",
    "print(\"Transpose of Array A will be:\", A_trans)"
   ]
  },
  {
   "cell_type": "markdown",
   "id": "ba69554b",
   "metadata": {},
   "source": [
    "\n",
    "7. **Eigenvalues and Eigenvectors**\n",
    "   - **Exercise**: Compute the eigenvalues and eigenvectors of a matrix.\n",
    "     ```python\n",
    "     matrix = np.array([[2, -1], [-1, 2]])\n",
    "     eigenvalues, eigenvectors = np.linalg.eig(matrix)\n",
    "     print(eigenvalues)\n",
    "     print(eigenvectors)\n",
    "     ```\n",
    "   - **Question**: How do the eigenvalues and eigenvectors describe the characteristics of the original matrix?"
   ]
  },
  {
   "cell_type": "code",
   "execution_count": 22,
   "id": "1778adda",
   "metadata": {},
   "outputs": [
    {
     "name": "stdout",
     "output_type": "stream",
     "text": [
      "[3. 1.]\n",
      "[[ 0.70710678  0.70710678]\n",
      " [-0.70710678  0.70710678]]\n"
     ]
    }
   ],
   "source": [
    "matrix = np.array([[2, -1], [-1, 2]])\n",
    "eigenvalues, eigenvectors = np.linalg.eig(matrix)\n",
    "print(eigenvalues)\n",
    "print(eigenvectors)"
   ]
  },
  {
   "cell_type": "markdown",
   "id": "7512f5dd",
   "metadata": {},
   "source": [
    "8. **Solving Systems of Linear Equations**\n",
    "   - **Exercise**: Solve the system of equations 3x + 2y = 5 and 4x + y = 6.\n",
    "     ```python\n",
    "     A = np.array([[3, 2], [4, 1]])\n",
    "     B = np.array([5, 6])\n",
    "     solution = np.linalg.solve(A, B)\n",
    "     print(solution)\n",
    "     ```\n",
    "   - **Question**: How does changing B to [5, 9] alter the solution?\n"
   ]
  },
  {
   "cell_type": "code",
   "execution_count": 23,
   "id": "56f7002c",
   "metadata": {},
   "outputs": [
    {
     "name": "stdout",
     "output_type": "stream",
     "text": [
      "[1.4 0.4]\n"
     ]
    }
   ],
   "source": [
    "A = np.array([[3, 2], [4, 1]])\n",
    "B = np.array([5, 6])\n",
    "solution = np.linalg.solve(A, B)\n",
    "print(solution)"
   ]
  },
  {
   "cell_type": "code",
   "execution_count": 24,
   "id": "a38961d0",
   "metadata": {},
   "outputs": [
    {
     "name": "stdout",
     "output_type": "stream",
     "text": [
      "[ 2.6 -1.4]\n"
     ]
    }
   ],
   "source": [
    "A = np.array([[3, 2], [4, 1]])\n",
    "B = np.array([5, 9])\n",
    "solution = np.linalg.solve(A, B)\n",
    "print(solution)"
   ]
  },
  {
   "cell_type": "code",
   "execution_count": 25,
   "id": "6faa21ab",
   "metadata": {
    "scrolled": false
   },
   "outputs": [
    {
     "data": {
      "image/png": "[encoded data removed]",
      "text/plain": [
       "<Figure size 640x480 with 1 Axes>"
      ]
     },
     "metadata": {},
     "output_type": "display_data"
    }
   ],
   "source": [
    "from sklearn.linear_model import LinearRegression\n",
    "import numpy as np\n",
    "import matplotlib.pyplot as plt\n",
    "\n",
    "# Sample data\n",
    "X = np.array([[1], [2], [3], [4], [5]])\n",
    "y = np.array([2, 4, 5, 4, 5])\n",
    "\n",
    "# Fitting Linear Regression\n",
    "reg = LinearRegression().fit(X, y)\n",
    "\n",
    "# Plotting\n",
    "plt.scatter(X, y, color='blue')\n",
    "plt.plot(X, reg.predict(X), color='red')\n",
    "plt.show()\n",
    "#Question: How would you evaluate the performance of this linear regression model?"
   ]
  },
  {
   "cell_type": "markdown",
   "id": "2208c9bc",
   "metadata": {},
   "source": [
    "To evaluate the performance of the linear regression model, we can use various metrics depending on the context and requirements of our given problem. Following are some common evaluation metrics for regression models:\n",
    "\n",
    "1. **Mean Absolute Error (MAE)**: The mean absolute error calculates the average of the absolute errors between the predicted values and the actual values.\n",
    "\n",
    "2. **Mean Squared Error (MSE)**: The mean squared error calculates the average of the squared errors between the predicted values and the actual values.\n",
    "\n",
    "3. **Root Mean Squared Error (RMSE)**: The root mean squared error is the square root of the MSE, providing an interpretable scale.\n",
    "\n",
    "4. **R-squared (R²)**: R-squared is a statistical measure of how close the data are to the fitted regression line. It ranges from 0 to 1, where 1 indicates a perfect fit.\n",
    "\n",
    "We can compute these metrics using the predicted values (`reg.predict(X)`) and the actual target values (`y`). For example, using Scikit-learn:\n",
    "\n",
    "We can compare these metrics to assess the performance of your linear regression model. Lower values of MAE, MSE, and RMSE indicate better performance, while a higher R-squared value indicates a better fit of the model to the data. Additionally, you can visualize the residuals (the differences between actual and predicted values) to check for any patterns or biases in the model's predictions."
   ]
  },
  {
   "cell_type": "code",
   "execution_count": 26,
   "id": "4fa23688",
   "metadata": {},
   "outputs": [
    {
     "name": "stdout",
     "output_type": "stream",
     "text": [
      "R-squared: 0.5999999999999999\n",
      "Mean Absolute Error: 0.6400000000000003\n",
      "Mean Squared Error: 0.48000000000000015\n",
      "Root Mean Squared Error: 0.692820323027551\n"
     ]
    }
   ],
   "source": [
    "from sklearn.metrics import r2_score, mean_absolute_error, mean_squared_error\n",
    "\n",
    "# Predicting with the fitted model\n",
    "y_pred = reg.predict(X)\n",
    "\n",
    "# Calculating R-squared\n",
    "r2 = r2_score(y, y_pred)\n",
    "\n",
    "# Calculating Mean Absolute Error\n",
    "mae = mean_absolute_error(y, y_pred)\n",
    "\n",
    "# Calculating Mean Squared Error\n",
    "mse = mean_squared_error(y, y_pred)\n",
    "\n",
    "# Calculating Root Mean Squared Error\n",
    "rmse = np.sqrt(mse)\n",
    "\n",
    "print(\"R-squared:\", r2)\n",
    "print(\"Mean Absolute Error:\", mae)\n",
    "print(\"Mean Squared Error:\", mse)\n",
    "print(\"Root Mean Squared Error:\", rmse)"
   ]
  },
  {
   "cell_type": "markdown",
   "id": "5064290a",
   "metadata": {},
   "source": [
    "## PCA"
   ]
  },
  {
   "cell_type": "code",
   "execution_count": 27,
   "id": "75beca36",
   "metadata": {},
   "outputs": [
    {
     "name": "stdout",
     "output_type": "stream",
     "text": [
      "Explained variance ratio: [0.72962445 0.22850762]\n"
     ]
    },
    {
     "data": {
      "image/png": "[encoded data removed]",
      "text/plain": [
       "<Figure size 800x600 with 1 Axes>"
      ]
     },
     "metadata": {},
     "output_type": "display_data"
    }
   ],
   "source": [
    "from sklearn.datasets import load_iris\n",
    "from sklearn.decomposition import PCA\n",
    "from sklearn.preprocessing import StandardScaler\n",
    "import matplotlib.pyplot as plt\n",
    "import numpy as np\n",
    "\n",
    "# Load the Iris dataset\n",
    "iris = load_iris()\n",
    "X = iris.data\n",
    "y = iris.target\n",
    "\n",
    "# Standardize the data\n",
    "scaler = StandardScaler()\n",
    "X_scaled = scaler.fit_transform(X)\n",
    "\n",
    "# Apply PCA\n",
    "pca = PCA(n_components=2)\n",
    "X_pca = pca.fit_transform(X_scaled)\n",
    "\n",
    "# Explained variance ratio\n",
    "print(f\"Explained variance ratio: {pca.explained_variance_ratio_}\")\n",
    "\n",
    "# Plotting the principal components\n",
    "plt.figure(figsize=(8, 6))\n",
    "for i, target_name in enumerate(iris.target_names):\n",
    "    plt.scatter(X_pca[y == i, 0], X_pca[y == i, 1], label=target_name)\n",
    "plt.legend()\n",
    "plt.xlabel('Principal Component 1')\n",
    "plt.ylabel('Principal Component 2')\n",
    "plt.title('PCA of Iris Dataset')\n",
    "plt.show()\n"
   ]
  },
  {
   "cell_type": "markdown",
   "id": "31d1f7cc",
   "metadata": {},
   "source": [
    "**Question**: Based on the output of pca.explained_variance_ratio_, discuss how well the first two principal components capture the variance within the Iris dataset. "
   ]
  },
  {
   "cell_type": "markdown",
   "id": "e7fc8010",
   "metadata": {},
   "source": [
    "The output of `pca.explained_variance_ratio_` provides the proportion of variance explained by each of the principal components. In our given case, the output is `[0.72962445, 0.22850762]`, meaning the first principal component explains approximately 72.96% of the variance, while the second principal component explains approximately 22.85% of the variance. \n",
    "\n",
    "When we consider the following values, it's evident that the first two principal components capture a significant portion of the total variance within the Iris dataset. Specifically, the cumulative explained variance of these two components is approximately 95.81% (`0.72962445 + 0.22850762`). This indicates that by retaining just the first two principal components, we can preserve a large amount of the original variability present in the data.\n",
    "\n",
    "However, it's important to note that there is still a small portion of the variance (about 4.19%) that is not captured by these two principal components. Depending on the application and desired level of dimensionality reduction or variance retention, one might choose to include more principal components to capture additional variance, though this may come at the cost of increased complexity."
   ]
  },
  {
   "cell_type": "markdown",
   "id": "7e2cc36c",
   "metadata": {},
   "source": [
    "## More Stat Excercise "
   ]
  },
  {
   "cell_type": "code",
   "execution_count": 28,
   "id": "8a542748",
   "metadata": {},
   "outputs": [],
   "source": [
    "import numpy as np\n",
    "from scipy import stats\n",
    "\n",
    "data = np.array([10, 20, 20, 20, 30, 40, 50])\n",
    "\n",
    "mean = np.mean(data)\n",
    "median = np.median(data)\n",
    "mode = stats.mode(data)[0]\n",
    "std_dev = np.std(data)"
   ]
  },
  {
   "cell_type": "code",
   "execution_count": 29,
   "id": "6ffe0ffc",
   "metadata": {},
   "outputs": [
    {
     "name": "stdout",
     "output_type": "stream",
     "text": [
      "Mean: 27.142857142857142, Median: 20.0, Mode: 20, Standard Deviation: 12.777531299998799\n"
     ]
    }
   ],
   "source": [
    "print(f\"Mean: {mean}, Median: {median}, Mode: {mode}, Standard Deviation: {std_dev}\")"
   ]
  },
  {
   "cell_type": "markdown",
   "id": "544322f6",
   "metadata": {},
   "source": [
    "## Descriptive Stat"
   ]
  },
  {
   "cell_type": "markdown",
   "id": "784a20a8",
   "metadata": {},
   "source": [
    "Question: Now, for a given dataset, calculate the variance, range, and interquartile range (IQR)."
   ]
  },
  {
   "cell_type": "markdown",
   "id": "a01bbc00",
   "metadata": {},
   "source": [
    "### Sampling and the Central Limit Theorem (CLT)"
   ]
  },
  {
   "cell_type": "code",
   "execution_count": 30,
   "id": "f7dc3487",
   "metadata": {},
   "outputs": [],
   "source": [
    "import matplotlib.pyplot as plt\n",
    "import numpy as np"
   ]
  },
  {
   "cell_type": "code",
   "execution_count": 31,
   "id": "973a7b88",
   "metadata": {},
   "outputs": [],
   "source": [
    "# Generating a non-normal distribution (exponential in this case)\n",
    "population = np.random.exponential(scale=1.0, size=10000)"
   ]
  },
  {
   "cell_type": "code",
   "execution_count": 32,
   "id": "7e62c445",
   "metadata": {},
   "outputs": [],
   "source": [
    "def plot_sample_means(sample_size):\n",
    "    sample_means = [np.mean(np.random.choice(population, size=sample_size)) for i in range(10000)]  # Changed loop variable name to 'i'\n",
    "    plt.hist(sample_means, bins=30, alpha=0.7)\n",
    "    plt.xlabel('Sample Mean')\n",
    "    plt.ylabel('Frequency')\n",
    "    plt.title(f'Sampling Distribution of the Mean (sample size={sample_size})')\n",
    "    plt.show()"
   ]
  },
  {
   "cell_type": "code",
   "execution_count": 33,
   "id": "e535c76b",
   "metadata": {
    "scrolled": false
   },
   "outputs": [
    {
     "data": {
      "image/png": "[encoded data removed]",
      "text/plain": [
       "<Figure size 640x480 with 1 Axes>"
      ]
     },
     "metadata": {},
     "output_type": "display_data"
    }
   ],
   "source": [
    "plot_sample_means(30)"
   ]
  },
  {
   "cell_type": "markdown",
   "id": "23bbe48c",
   "metadata": {},
   "source": [
    "**Question**-Modify the function to take a variable number of samples and sample sizes to see how increasing these values affects the distribution of sample means."
   ]
  },
  {
   "cell_type": "code",
   "execution_count": 34,
   "id": "9427fdef",
   "metadata": {},
   "outputs": [
    {
     "data": {
      "image/png": "[encoded data removed]",
      "text/plain": [
       "<Figure size 640x480 with 1 Axes>"
      ]
     },
     "metadata": {},
     "output_type": "display_data"
    }
   ],
   "source": [
    "import matplotlib.pyplot as plt\n",
    "import numpy as np\n",
    "\n",
    "# Generating a non-normal distribution (exponential in this case)\n",
    "population = np.random.exponential(scale=1.0, size=10000)\n",
    "\n",
    "def plot_sample_means(sample_sizes, num_samples):\n",
    "    for sample_size in sample_sizes:\n",
    "        sample_means = []\n",
    "        for _ in range(num_samples):\n",
    "            sample_mean = np.mean(np.random.choice(population, size=sample_size))\n",
    "            sample_means.append(sample_mean)\n",
    "        plt.hist(sample_means, bins=30, alpha=0.7, label=f'Sample Size={sample_size}')\n",
    "    plt.xlabel('Sample Mean')\n",
    "    plt.ylabel('Frequency')\n",
    "    plt.title(f'Sampling Distribution of the Mean (Number of Samples={num_samples})')\n",
    "    plt.legend()\n",
    "    plt.show()\n",
    "\n",
    "# Usage\n",
    "sample_sizes = [30, 50, 100]\n",
    "num_samples = 10000\n",
    "plot_sample_means(sample_sizes, num_samples)"
   ]
  },
  {
   "cell_type": "markdown",
   "id": "6db93995",
   "metadata": {},
   "source": [
    "**Changes Made:**\n",
    "\n",
    "The function `plot_sample_means` now takes two parameters:\n",
    "- `sample_sizes`: a list of sample sizes we want to test.\n",
    "- `num_samples`: the number of samples we want to take for each sample size.\n",
    "\n",
    "It then plots histograms for each sample size specified in `sample_sizes`, each with `num_samples` samples."
   ]
  },
  {
   "cell_type": "markdown",
   "id": "e159f501",
   "metadata": {},
   "source": [
    "## Exercise 3: Confidence Intervals\n",
    "\n",
    "Calculate the 95% confidence interval for the mean of a dataset."
   ]
  },
  {
   "cell_type": "code",
   "execution_count": 35,
   "id": "bdd9b814",
   "metadata": {},
   "outputs": [
    {
     "name": "stdout",
     "output_type": "stream",
     "text": [
      "95% Confidence Interval: (3.334149410386609, 7.665850589613391)\n"
     ]
    }
   ],
   "source": [
    "from scipy.stats import sem, t\n",
    "import numpy as np\n",
    "\n",
    "data = np.array([1, 2, 3, 4, 5, 6, 7, 8, 9, 10])\n",
    "confidence = 0.95\n",
    "\n",
    "n = len(data)\n",
    "mean = np.mean(data)\n",
    "std_err = sem(data)\n",
    "margin_of_error = std_err * t.ppf((1 + confidence) / 2, n - 1)\n",
    "\n",
    "confidence_interval = (mean - margin_of_error, mean + margin_of_error)\n",
    "print(f\"95% Confidence Interval: {confidence_interval}\")\n"
   ]
  },
  {
   "cell_type": "markdown",
   "id": "90e7b968",
   "metadata": {},
   "source": [
    "**Question**: For a different dataset, calculate the 90% and 99% confidence intervals and discuss how changing the confidence level affects the interval width."
   ]
  },
  {
   "cell_type": "code",
   "execution_count": 36,
   "id": "82e1937f",
   "metadata": {},
   "outputs": [
    {
     "name": "stdout",
     "output_type": "stream",
     "text": [
      "90% Confidence Interval: (7.489855973397386, 14.510144026602614)\n"
     ]
    }
   ],
   "source": [
    "from scipy.stats import sem, t\n",
    "import numpy as np\n",
    "\n",
    "data = np.array([2, 4, 6, 8, 10, 12, 14, 16, 18, 20])\n",
    "confidence = 0.90\n",
    "\n",
    "n = len(data)\n",
    "mean = np.mean(data)\n",
    "std_err = sem(data)\n",
    "margin_of_error = std_err * t.ppf((1 + confidence) / 2, n - 1)\n",
    "\n",
    "confidence_interval = (mean - margin_of_error, mean + margin_of_error)\n",
    "print(f\"90% Confidence Interval: {confidence_interval}\")"
   ]
  },
  {
   "cell_type": "code",
   "execution_count": 37,
   "id": "0cd2fb73",
   "metadata": {},
   "outputs": [
    {
     "name": "stdout",
     "output_type": "stream",
     "text": [
      "99% Confidence Interval: (7.165558063228858, 25.834441936771142)\n"
     ]
    }
   ],
   "source": [
    "from scipy.stats import sem, t\n",
    "import numpy as np\n",
    "\n",
    "data = np.array([3, 6, 9, 12, 15, 18, 21, 24, 27, 30])\n",
    "confidence = 0.99\n",
    "\n",
    "n = len(data)\n",
    "mean = np.mean(data)\n",
    "std_err = sem(data)\n",
    "margin_of_error = std_err * t.ppf((1 + confidence) / 2, n - 1)\n",
    "\n",
    "confidence_interval = (mean - margin_of_error, mean + margin_of_error)\n",
    "print(f\"99% Confidence Interval: {confidence_interval}\")"
   ]
  },
  {
   "cell_type": "markdown",
   "id": "42f2da4f",
   "metadata": {},
   "source": [
    "## Exercise 4: p-Values and Hypothesis Testing\n",
    "\n",
    "Conduct a t-test to compare the means of two samples."
   ]
  },
  {
   "cell_type": "code",
   "execution_count": 38,
   "id": "80d8cb68",
   "metadata": {},
   "outputs": [
    {
     "name": "stdout",
     "output_type": "stream",
     "text": [
      "t-statistic: -1.859711998539628, p-value: 0.06440962814167557\n"
     ]
    }
   ],
   "source": [
    "from scipy.stats import ttest_ind\n",
    "\n",
    "sample1 = np.random.normal(loc=50, scale=10, size=100)\n",
    "sample2 = np.random.normal(loc=55, scale=10, size=100)\n",
    "\n",
    "t_stat, p_value = ttest_ind(sample1, sample2)\n",
    "print(f\"t-statistic: {t_stat}, p-value: {p_value}\")\n"
   ]
  },
  {
   "cell_type": "markdown",
   "id": "4e61df3a",
   "metadata": {},
   "source": [
    "Question: Discuss the implications of a p-value less than 0.05 in the context of the hypothesis that the two samples come from distributions with equal means."
   ]
  },
  {
   "cell_type": "markdown",
   "id": "03f6adfa",
   "metadata": {},
   "source": [
    "A p-value of less than 0.05 indicates strong evidence to reject the hypothesis that the two samples come from distributions with equal means. In other words, it suggests that the means of the two samples are significantly different from each other."
   ]
  },
  {
   "cell_type": "markdown",
   "id": "bf02af39",
   "metadata": {},
   "source": [
    "## Exercise 5: Bayesian Statistics\n",
    "\n",
    "Apply Bayes' Theorem to update the probability of a hypothesis based on new evidence."
   ]
  },
  {
   "cell_type": "code",
   "execution_count": 39,
   "id": "aaae9c0b",
   "metadata": {},
   "outputs": [
    {
     "name": "stdout",
     "output_type": "stream",
     "text": [
      "Posterior Probability: 0.8749999999999999\n"
     ]
    }
   ],
   "source": [
    "prior = 0.5  # Prior probability of the hypothesis H\n",
    "likelihood = 0.7  # Likelihood of the evidence E given H\n",
    "evidence = 0.4  # Probability of observing the evidence E\n",
    "\n",
    "# Calculating the posterior probability of H given E\n",
    "posterior = (likelihood * prior) / evidence\n",
    "print(f\"Posterior Probability: {posterior}\")\n"
   ]
  },
  {
   "cell_type": "markdown",
   "id": "3b918af8",
   "metadata": {},
   "source": [
    "Question: Suppose you receive additional evidence that further supports the hypothesis. How would you update the posterior probability to reflect this new evidence?"
   ]
  },
  {
   "cell_type": "code",
   "execution_count": 40,
   "id": "a24df3b8",
   "metadata": {},
   "outputs": [
    {
     "name": "stdout",
     "output_type": "stream",
     "text": [
      "Updated Posterior Probability with Additional Evidence: 1.2727272727272725\n"
     ]
    }
   ],
   "source": [
    "# Prior probability of the hypothesis H\n",
    "prior = 0.5  \n",
    "\n",
    "# Likelihood of the evidence E given H\n",
    "likelihood = 0.7  \n",
    "\n",
    "# Probability of observing the evidence E\n",
    "evidence = 0.4  \n",
    "\n",
    "# Additional evidence\n",
    "additional_evidence = 0.6\n",
    "\n",
    "# Updating posterior probability with the first evidence\n",
    "posterior = (likelihood * prior) / evidence\n",
    "\n",
    "# Calculating probability of observing the additional evidence given H\n",
    "likelihood_additional = 0.8\n",
    "\n",
    "# Calculating probability of observing the additional evidence given not H\n",
    "likelihood_additional_not_H = 0.3\n",
    "\n",
    "# Prior probability of not H\n",
    "prior_not_H = 1 - prior\n",
    "\n",
    "# Calculating probability of observing the additional evidence\n",
    "evidence_additional = (likelihood_additional * prior + likelihood_additional_not_H * prior_not_H)\n",
    "\n",
    "# Updating posterior probability with the additional evidence\n",
    "posterior_additional = (likelihood_additional * posterior) / evidence_additional\n",
    "\n",
    "print(f\"Updated Posterior Probability with Additional Evidence: {posterior_additional}\")"
   ]
  }
 ],
 "metadata": {
  "kernelspec": {
   "display_name": "Python 3 (ipykernel)",
   "language": "python",
   "name": "python3"
  },
  "language_info": {
   "codemirror_mode": {
    "name": "ipython",
    "version": 3
   },
   "file_extension": ".py",
   "mimetype": "text/x-python",
   "name": "python",
   "nbconvert_exporter": "python",
   "pygments_lexer": "ipython3",
   "version": "3.11.5"
  }
 },
 "nbformat": 4,
 "nbformat_minor": 5
}
