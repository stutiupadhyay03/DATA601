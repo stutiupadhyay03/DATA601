{
 "cells": [
  {
   "cell_type": "markdown",
   "id": "dc666bbb",
   "metadata": {},
   "source": [
    "#### Name : Stuti Upadhyay\n",
    "#### Campus ID : XT81177\n",
    "#### Instructor : Chalachew Jemberie"
   ]
  },
  {
   "cell_type": "markdown",
   "id": "f3da7270",
   "metadata": {},
   "source": [
    "Mathematical Background Review( Please review this note below)\n",
    "--------------------------------------------------------------------------------------------------"
   ]
  },
  {
   "cell_type": "markdown",
   "id": "693d1741",
   "metadata": {},
   "source": [
    "### Derivation of the Linear Regression Coefficients Using Least Squares\n",
    "\n",
    "The goal of linear regression is to find the set of coefficients (\\\\(\\beta\\\\)) that minimizes the sum of squared residuals, which is the difference between the observed values and those predicted by the model. This is known as the Least Squares criterion.\n",
    "\n",
    "#### Objective Function\n",
    "\n",
    "The objective function to minimize in the case of linear regression is the sum of squared residuals:\n",
    "\n",
    "\\\\[\n",
    "S = \\sum_{i=1}^n (y_i - \\hat{y}_i)^2\n",
    "\\\\]\n",
    "\n",
    "Where:\n",
    "- \\\\( y_i \\\\) is the observed value.\n",
    "- \\\\( \\hat{y}_i = \\beta_0 + \\beta_1 x_{1i} + \\beta_2 x_{2i} + \\dots + \\beta_n x_{ni} \\\\) is the predicted value using the model.\n",
    "\n",
    "#### Matrix Formulation\n",
    "\n",
    "For multiple regression involving several variables, the model can be expressed in matrix terms. Let \\\\( X \\\\) be the matrix of input features with each row corresponding to an observation and each column to a variable, and \\\\( \\beta \\\\) be the column vector of coefficients, including the intercept. The model can be written as:\n",
    "\n",
    "\\\\[\n",
    "\\hat{Y} = X\\beta\n",
    "\\\\]\n",
    "\n",
    "Where \\\\( \\hat{Y} \\\\) is the vector of predicted values.\n",
    "\n",
    "#### Cost Function in Matrix Form\n",
    "\n",
    "The sum of squared residuals can then be expressed as:\n",
    "\n",
    "\\\\[\n",
    "S = (Y - X\\beta)^T (Y - X\\beta)\n",
    "\\\\]\n",
    "\n",
    "Where \\\\( Y \\\\) is the column vector of observed values.\n",
    "\n",
    "#### Minimization and Solution\n",
    "\n",
    "To find the coefficients that minimize \\\\( S \\\\), we take the derivative of \\\\( S \\\\) with respect to \\\\( \\beta \\\\), set it to zero, and solve for \\\\( \\beta \\\\):\n",
    "\n",
    "\\\\[\n",
    "\\frac{\\partial S}{\\partial \\beta} = -2X^T(Y - X\\beta) = 0\n",
    "\\\\]\n",
    "\n",
    "This leads to the normal equations:\n",
    "\n",
    "\\\\[\n",
    "X^T Y = X^T X \\beta\n",
    "\\\\]\n",
    "\n",
    "Solving for \\\\( \\beta \\\\) gives:\n",
    "\n",
    "\\\\[\n",
    "\\beta = (X^T X)^{-1} X^T Y\n",
    "\\\\]\n",
    "\n",
    "This is the closed-form solution for the coefficients of a linear regression model under the Least Squares criterion.\n",
    "\n",
    "### Interpretation\n",
    "\n",
    "The solution \\\\( \\beta = (X^T X)^{-1} X^T Y \\\\) is feasible as long as \\\\( X^T X \\\\) is non-singular (i.e., has an inverse). If \\\\( X^T X \\\\) is singular, alternative methods like ridge regression or singular value decomposition (SVD) might be used to solve the regression problem.\n"
   ]
  },
  {
   "cell_type": "code",
   "execution_count": 1,
   "id": "8544069d",
   "metadata": {},
   "outputs": [
    {
     "name": "stdout",
     "output_type": "stream",
     "text": [
      "Intercept: 4.22, Slope: 2.97\n"
     ]
    },
    {
     "data": {
      "image/png": "[encoded data removed]",
      "text/plain": [
       "<Figure size 640x480 with 1 Axes>"
      ]
     },
     "metadata": {},
     "output_type": "display_data"
    }
   ],
   "source": [
    "### Python Example for Solving Linear Regression\n",
    "\n",
    "# Let's solve a simple linear regression problem using Python. We'll use synthetic data for illustration:\n",
    "\n",
    "\n",
    "import numpy as np\n",
    "import matplotlib.pyplot as plt\n",
    "from sklearn.linear_model import LinearRegression\n",
    "\n",
    "# Generating synthetic data\n",
    "np.random.seed(0)\n",
    "X = 2 * np.random.rand(100, 1)\n",
    "y = 4 + 3 * X + np.random.randn(100, 1)\n",
    "\n",
    "# Creating the linear regression model\n",
    "model = LinearRegression()\n",
    "model.fit(X, y)\n",
    "\n",
    "# Coefficients\n",
    "intercept = model.intercept_[0]\n",
    "slope = model.coef_[0][0]\n",
    "\n",
    "# Displaying results\n",
    "print(f\"Intercept: {intercept:.2f}, Slope: {slope:.2f}\")\n",
    "\n",
    "# Plotting the results\n",
    "plt.scatter(X, y, color='blue', label='Data points')\n",
    "plt.plot(X, model.predict(X), color='red', label='Regression line')\n",
    "plt.xlabel('X')\n",
    "plt.ylabel('y')\n",
    "plt.title('Linear Regression Fit')\n",
    "plt.legend()\n",
    "plt.show()"
   ]
  },
  {
   "cell_type": "markdown",
   "id": "1df1611e",
   "metadata": {},
   "source": [
    "### Gradient Descent for Linear Regression Optimization\n",
    "\n",
    "Gradient descent is a widely used optimization technique in machine learning, particularly suitable for finding the minimum of a function. In the context of linear regression, it is employed to minimize the cost function, typically the sum of squared residuals, by iteratively updating the model parameters.\n",
    "\n",
    "#### Concept and Steps\n",
    "\n",
    "1. **Initialize Parameters**: Begin with initial guesses for the parameters (coefficients).\n",
    "2. **Compute Gradient**: Calculate the gradient of the cost function with respect to each parameter.\n",
    "3. **Update Parameters**: Adjust the parameters by moving in the opposite direction of the gradient.\n",
    "4. **Repeat**: Continue the process until the cost function converges to a minimum.\n",
    "\n",
    "#### Mathematical Formulation\n",
    "\n",
    "For a simple linear regression model \\( y = \\beta_0 + \\beta_1 x \\), we define the cost function (mean squared error) as:\n",
    "\n",
    "\\\\[\n",
    "J(\\beta_0, \\beta_1) = \\frac{1}{2n} \\sum_{i=1}^n (y_i - (\\beta_0 + \\beta_1 x_i))^2\n",
    "\\\\]\n",
    "\n",
    "Where \\( n \\) is the number of observations.\n",
    "\n",
    "The gradients of \\( J \\) with respect to \\( \\beta_0 \\) and \\( \\beta_1 \\) are:\n",
    "\n",
    "\\\\[\n",
    "\\frac{\\partial J}{\\partial \\beta_0} = \\frac{1}{n} \\sum_{i=1}^n -(y_i - (\\beta_0 + \\beta_1 x_i))\n",
    "\\\\]\n",
    "\n",
    "\\\\[\n",
    "\\frac{\\partial J}{\\partial \\beta_1} = \\frac{1}{n} \\sum_{i=1}^n -(y_i - (\\beta_0 + \\beta_1 x_i)) x_i\n",
    "\\\\]\n",
    "\n",
    "#### Update Rules\n",
    "The update rules using a learning rate \\( \\alpha \\) (a small positive number) are:\n",
    "\n",
    "\\\\[\n",
    "\\beta_0 := \\beta_0 - \\alpha \\frac{\\partial J}{\\partial \\beta_0}\n",
    "\\\\]\n",
    "\n",
    "\\\\[\n",
    "\\beta_1 := \\beta_1 - \\alpha \\frac{\\partial J}{\\partial \\beta_1}\n",
    "\\\\]\n",
    "\n",
    "### Python Example Implementing Gradient Descent\n",
    "\n",
    "Here's a simple Python script that uses gradient descent to find the optimal coefficients for a linear regression model with one predictor:\n",
    "\n",
    "```python\n",
    "import numpy as np\n",
    "\n",
    "# Generate some sample data\n",
    "np.random.seed(0)\n",
    "X = 2 * np.random.rand(100, 1)\n",
    "y = 4 + 3 * X + np.random.randn(100, 1).flatten()\n",
    "\n",
    "# Parameters\n",
    "learning_rate = 0.01\n",
    "n_iterations = 1000\n",
    "n = len(y)\n",
    "\n",
    "# Initial parameters\n",
    "beta_0 = 0\n",
    "beta_1 = 0\n",
    "\n",
    "# Gradient Descent\n",
    "for _ in range(n_iterations):\n",
    "    y_pred = beta_0 + beta_1 * X.flatten()\n",
    "    dJ_dbeta_0 = -2/n * sum(y - y_pred)\n",
    "    dJ_dbeta_1 = -2/n * sum((y - y_pred) * X.flatten())\n",
    "    beta_0 = beta_0 - learning_rate * dJ_dbeta_0\n",
    "    beta_1 = beta_1 - learning_rate * dJ_dbeta_1\n",
    "\n",
    "print(f\"Learned parameters: beta_0 = {beta_0}, beta_1 = {beta_1}\")\n"
   ]
  },
  {
   "cell_type": "code",
   "execution_count": 2,
   "id": "7bcc86ee",
   "metadata": {},
   "outputs": [
    {
     "name": "stdout",
     "output_type": "stream",
     "text": [
      "Learned parameters: beta_0 = [2.57241095 2.54025998 2.97657894 2.42299406 4.84594716 3.27222886\n",
      " 4.53899157 1.59215029 1.22301582 4.96893589 1.83433414 3.80345204\n",
      " 3.07549773 1.76497614 7.0508124  7.3210255  6.83608513 2.28533805\n",
      " 2.03490584 1.79724909 1.80507536 1.54418971 3.00578859 2.27127717\n",
      " 5.36352184 3.32843013 5.93526163 1.33256995 4.19264529 4.92794511\n",
      " 6.80047105 2.27880359 3.2612355  3.81546248 6.55949616 3.02436212\n",
      " 3.11529487 2.6489347  1.63301062 2.71338596 4.75495449 3.25249558\n",
      " 2.42130616 8.04640818 2.21076556 2.38909584 5.43872052 8.14451459\n",
      " 5.37136213 4.73744387 2.6371892  4.16845105 1.25570881 6.59393906\n",
      " 5.27954188 6.8049196  2.73939418 5.27480843 3.8682403  4.63584762\n",
      " 4.85476046 6.93805838 2.57188612 6.94160759 7.98551836 5.04020998\n",
      " 1.602746   7.6647077  1.44957358 6.14807104 1.40603922 4.55147343\n",
      " 1.2648865  2.43989633 2.1149468  6.13559542 6.03324771 5.44232576\n",
      " 4.21180852 6.05739619 4.51330848 5.19805951 7.66010159 2.37290846\n",
      " 2.45663831 5.99279725 2.78573671 5.11155764 3.44876855 1.60599873\n",
      " 5.51772897 2.57230153 7.19375227 2.02645051 4.34638041 6.62856369\n",
      " 2.53930116 6.1372877  1.70231231 6.85363776], beta_1 = [2.82354773 3.63353385 3.58834554 2.64049743 4.10601754 4.22702672\n",
      " 3.97240933 2.83967328 2.35714961 3.81059265 2.90457654 4.02325292\n",
      " 3.49403952 3.26731196 1.00172384 1.27575165 0.27642937 3.80563562\n",
      " 3.16695144 3.12725709 3.53295972 2.46810486 2.7742188  3.5455962\n",
      " 1.26873493 4.25986482 1.70167853 2.51767481 4.37584982 4.08686256\n",
      " 3.59820556 3.52865303 2.97522731 4.33767681 0.24650325 3.7359068\n",
      " 3.81371733 3.26843574 3.08230126 3.70008326 3.41888742 2.842889\n",
      " 3.37835742 0.96919745 2.94812978 3.20443629 2.2884239  2.10008423\n",
      " 3.3885598  3.44611873 3.00743353 3.65657788 2.48221947 1.34575453\n",
      " 2.20554716 2.1953966  3.5782423  2.67212936 3.60760425 2.2662396\n",
      " 1.5435185  1.53157835 3.37600992 1.91842365 3.13962412 3.71690457\n",
      " 2.63168724 1.48850579 2.42932561 1.18163968 2.74588061 4.26610698\n",
      " 2.47098383 2.95152072 3.12700628 0.48088088 3.41248892 1.30829768\n",
      " 2.49457162 1.43836166 2.87031236 4.3067274  0.98275268 3.2863459\n",
      " 2.78386967 3.18085082 2.91526262 0.96036467 3.97261232 2.98489703\n",
      " 3.51555428 3.43356149 1.89624234 2.90320325 2.51573795 2.42859122\n",
      " 2.97866595 0.24681159 2.82222963 0.06436219]\n"
     ]
    }
   ],
   "source": [
    "import numpy as np\n",
    "\n",
    "# Generate some sample data\n",
    "np.random.seed(0)\n",
    "X = 2 * np.random.rand(100, 1)\n",
    "y = 4 + 3 * X + np.random.randn(100, 1).flatten()\n",
    "\n",
    "# Parameters\n",
    "learning_rate = 0.01\n",
    "n_iterations = 1000\n",
    "n = len(y)\n",
    "\n",
    "# Initial parameters\n",
    "beta_0 = 0\n",
    "beta_1 = 0\n",
    "\n",
    "# Gradient Descent\n",
    "for _ in range(n_iterations):\n",
    "    y_pred = beta_0 + beta_1 * X.flatten()\n",
    "    dJ_dbeta_0 = -2/n * sum(y - y_pred)\n",
    "    dJ_dbeta_1 = -2/n * sum((y - y_pred) * X.flatten())\n",
    "    beta_0 = beta_0 - learning_rate * dJ_dbeta_0\n",
    "    beta_1 = beta_1 - learning_rate * dJ_dbeta_1\n",
    "\n",
    "print(f\"Learned parameters: beta_0 = {beta_0}, beta_1 = {beta_1}\")"
   ]
  },
  {
   "cell_type": "markdown",
   "id": "969e51f2",
   "metadata": {},
   "source": [
    "This includes the basic formulation of logistic regression, the logistic function, and the method used for estimating the model parameters, typically through the method of maximum likelihood estimation.\n",
    "\n",
    "### Mathematical Foundation of Logistic Regression\n",
    "\n",
    "Logistic regression is a statistical model used primarily for binary classification tasks, though it can be extended to multiclass classification via techniques like one-vs-rest (OvR) or multinomial logistic regression. It predicts the probability that an observation falls into one of two categories.\n",
    "\n",
    "#### Logistic Function (Sigmoid Function)\n",
    "\n",
    "The logistic regression model uses the logistic function to bind the output between 0 and 1, effectively modeling a probability:\n",
    "\n",
    "\\\\[\n",
    "\\sigma(t) = \\frac{1}{1 + e^{-t}}\n",
    "\\\\]\n",
    "\n",
    "Where \\( t \\) is the linear combination of the input features \\( X \\) and their corresponding weights \\( \\beta \\), given by \\( t = \\beta_0 + \\beta_1x_1 + \\dots + \\beta_nx_n \\).\n",
    "\n",
    "#### Model Formulation\n",
    "\n",
    "In logistic regression, we model the probability that an outcome variable \\( Y \\) is a particular class (often coded as 1) given the predictors \\( X \\). The probability that \\( Y = 1 \\) can be written as:\n",
    "\n",
    "\\\\[\n",
    "P(Y=1|X) = \\sigma(X\\beta)\n",
    "\\\\]\n",
    "\n",
    "And the probability that \\( Y = 0 \\) is therefore:\n",
    "\n",
    "\\\\[\n",
    "P(Y=0|X) = 1 - \\sigma(X\\beta)\n",
    "\\\\]\n",
    "\n",
    "#### Logit Function\n",
    "\n",
    "The inverse of the logistic function is the logit function, which is the logarithm of the odds of the dependent variable equaling a certain value:\n",
    "\n",
    "\\\\[\n",
    "\\text{logit}(p) = \\log\\left(\\frac{p}{1 - p}\\right)\n",
    "\\\\]\n",
    "\n",
    "For logistic regression, the logit of the probability of \\( Y \\) given \\( X \\) is modeled linearly:\n",
    "\n",
    "\\\\[\n",
    "\\log\\left(\\frac{P(Y=1|X)}{1 - P(Y=1|X)}\\right) = X\\beta\n",
    "\\\\]\n",
    "\n",
    "#### Cost Function and Maximum Likelihood\n",
    "\n",
    "The parameters \\( \\beta \\) of the logistic regression model are typically estimated using maximum likelihood estimation (MLE). The likelihood function \\( L \\) for \\( n \\) independent observations is:\n",
    "\n",
    "\\\\[\n",
    "L(\\beta) = \\prod_{i=1}^n P(y_i | x_i; \\beta)\n",
    "\\\\]\n",
    "\n",
    "Where \\( P(y_i | x_i; \\beta) \\) is the predicted probability of the observed outcome \\( y_i \\) given the predictors \\( x_i \\) and the model parameters \\( \\beta \\). For binary classification, this becomes:\n",
    "\n",
    "\\\\[\n",
    "L(\\beta) = \\prod_{i=1}^n (\\sigma(x_i \\beta))^{y_i} (1 - \\sigma(x_i \\beta))^{1 - y_i}\n",
    "\\\\]\n",
    "\n",
    "The goal is to maximize this likelihood, but it is often easier to maximize the log of the likelihood:\n",
    "\n",
    "\\\\[\n",
    "\\ell(\\beta) = \\sum_{i=1}^n \\left[ y_i \\log(\\sigma(x_i \\beta)) + (1 - y_i) \\log(1 - \\sigma(x_i \\beta)) \\right]\n",
    "\\\\]\n",
    "\n",
    "#### Optimization\n",
    "\n",
    "This optimization problem is usually solved using numerical methods such as Newton-Raphson or more commonly in practice, iterative reweighted least squares (IRLS) or gradient descent techniques.\n",
    "\n"
   ]
  },
  {
   "cell_type": "markdown",
   "id": "955f696e",
   "metadata": {},
   "source": [
    "## Linear Regression\n",
    "\n",
    "### Objective\n",
    "Linear regression is used to predict a continuous dependent variable based on one or more independent variables.\n",
    "\n",
    "### Model Formulation\n",
    "The relationship between the dependent variable \\(y\\) and independent variables \\(X\\) is assumed to be linear:\n",
    "$$\n",
    "y = \\beta_0 + \\beta_1x_1 + \\dots + \\beta_nx_n + \\epsilon\n",
    "$$\n",
    "where \\(\\epsilon\\) represents the error term, assumed to be normally distributed.\n",
    "\n",
    "### Cost Function\n",
    "The most common method for estimating the parameters (\\(\\beta\\)) in linear regression is the Ordinary Least Squares (OLS) method, which minimizes the sum of squared residuals:\n",
    "$$\n",
    "J(\\beta) = \\sum_{i=1}^n (y_i - \\hat{y}_i)^2\n",
    "$$\n",
    "\n",
    "### Solution\n",
    "The solution can often be obtained analytically using:\n",
    "$$\n",
    "\\beta = (X^T X)^{-1} X^T Y\n",
    "$$\n",
    "\n",
    "## Logistic Regression\n",
    "\n",
    "### Objective\n",
    "Logistic regression is used for binary classification tasks, predicting the probability that an observation falls into one of two categories.\n",
    "\n",
    "### Model Formulation\n",
    "It models the probability \\(p\\) that the dependent variable \\(Y\\) is 1 given the predictors \\(X\\), using the logistic function:\n",
    "$$\n",
    "P(Y=1|X) = \\frac{1}{1 + e^{-X\\beta}}\n",
    "$$\n",
    "\n",
    "### Cost Function\n",
    "Logistic regression uses a likelihood maximization approach, often implemented as minimizing the logistic loss (or log loss):\n",
    "$$\n",
    "J(\\beta) = -\\sum_{i=1}^n \\left[y_i \\log(\\hat{p}_i) + (1 - y_i) \\log(1 - \\hat{p}_i)\\right]\n",
    "$$\n",
    "where \\(\\hat{p}_i\\) is the predicted probability of the outcome being 1.\n"
   ]
  },
  {
   "cell_type": "code",
   "execution_count": 3,
   "id": "f8c4de92",
   "metadata": {},
   "outputs": [
    {
     "name": "stdout",
     "output_type": "stream",
     "text": [
      "X_lin shape: (100, 1)\n",
      "y_lin shape: (100,)\n"
     ]
    },
    {
     "data": {
      "image/png": "[encoded data removed]",
      "text/plain": [
       "<Figure size 600x400 with 1 Axes>"
      ]
     },
     "metadata": {},
     "output_type": "display_data"
    }
   ],
   "source": [
    "import numpy as np\n",
    "import matplotlib.pyplot as plt\n",
    "from sklearn.linear_model import LinearRegression\n",
    "\n",
    "# Generate some synthetic data\n",
    "np.random.seed(0)\n",
    "X_lin = 2 * np.random.rand(100, 1)\n",
    "y_lin = 4 + 3 * X_lin.squeeze() + np.random.randn(100)  # Ensure y_lin is a 1D array\n",
    "\n",
    "# Fit the linear regression model\n",
    "model = LinearRegression()\n",
    "model.fit(X_lin, y_lin)\n",
    "y_lin_pred = model.predict(X_lin)\n",
    "\n",
    "# Check shapes before plotting\n",
    "print(\"X_lin shape:\", X_lin.shape)\n",
    "print(\"y_lin shape:\", y_lin.shape)\n",
    "\n",
    "# Plotting\n",
    "plt.figure(figsize=(6, 4))\n",
    "plt.scatter(X_lin, y_lin, color='blue', label='Actual')\n",
    "plt.plot(X_lin, y_lin_pred, color='red', label='Predicted')\n",
    "plt.title('Linear Regression Fit')\n",
    "plt.xlabel('X')\n",
    "plt.ylabel('y')\n",
    "plt.legend()\n",
    "plt.show()"
   ]
  },
  {
   "cell_type": "code",
   "execution_count": 4,
   "id": "627023b3",
   "metadata": {},
   "outputs": [
    {
     "name": "stdout",
     "output_type": "stream",
     "text": [
      "Linear Regression RMSE: 1.9924\n",
      "Logistic Regression Accuracy: 0.9800\n"
     ]
    },
    {
     "data": {
      "image/png": "[encoded data removed]",
      "text/plain": [
       "<Figure size 1200x600 with 2 Axes>"
      ]
     },
     "metadata": {},
     "output_type": "display_data"
    }
   ],
   "source": [
    "import numpy as np\n",
    "import matplotlib.pyplot as plt\n",
    "from sklearn.linear_model import LinearRegression, LogisticRegression\n",
    "from sklearn.metrics import mean_squared_error, accuracy_score\n",
    "\n",
    "# Setting random seed for reproducibility\n",
    "np.random.seed(0)\n",
    "\n",
    "# Generate more realistic synthetic data for linear regression\n",
    "X_lin = 2 * np.random.rand(100, 1)\n",
    "y_lin = 4 + 3 * X_lin.squeeze() + np.random.randn(100) * 2  # Adding more noise\n",
    "\n",
    "# Generate synthetic data for logistic regression\n",
    "X_log = np.random.rand(100, 1)\n",
    "y_log = (X_log > 0.5).astype(int).flatten()  # Using int instead of np.int\n",
    "\n",
    "# Linear Regression Model\n",
    "lin_reg = LinearRegression()\n",
    "lin_reg.fit(X_lin, y_lin)\n",
    "y_lin_pred = lin_reg.predict(X_lin)\n",
    "rmse_lin = np.sqrt(mean_squared_error(y_lin, y_lin_pred))\n",
    "\n",
    "# Logistic Regression Model\n",
    "log_reg = LogisticRegression()\n",
    "log_reg.fit(X_log, y_log)\n",
    "y_log_pred = log_reg.predict(X_log)\n",
    "accuracy_log = accuracy_score(y_log, y_log_pred)\n",
    "\n",
    "# Print performance metrics\n",
    "print(f\"Linear Regression RMSE: {rmse_lin:.4f}\")\n",
    "print(f\"Logistic Regression Accuracy: {accuracy_log:.4f}\")\n",
    "\n",
    "# Plotting\n",
    "plt.figure(figsize=(12, 6))\n",
    "\n",
    "plt.subplot(1, 2, 1)\n",
    "plt.scatter(X_lin, y_lin, color='blue', label='Actual')\n",
    "plt.plot(X_lin, y_lin_pred, color='red', label='Predicted')\n",
    "plt.title('Linear Regression Fit')\n",
    "plt.xlabel('X')\n",
    "plt.ylabel('y')\n",
    "plt.legend()\n",
    "\n",
    "plt.subplot(1, 2, 2)\n",
    "plt.scatter(X_log, y_log, color='blue', label='Actual')\n",
    "plt.scatter(X_log, y_log_pred, color='red', label='Predicted')\n",
    "plt.title('Logistic Regression Classification')\n",
    "plt.xlabel('X')\n",
    "plt.ylabel('Predicted Class')\n",
    "plt.legend()\n",
    "\n",
    "plt.tight_layout()\n",
    "plt.show()"
   ]
  },
  {
   "cell_type": "markdown",
   "id": "23e5793d",
   "metadata": {},
   "source": [
    "# Conceptual questions "
   ]
  },
  {
   "cell_type": "markdown",
   "id": "0e412e00",
   "metadata": {},
   "source": [
    " \n",
    "### Linear Regression \n",
    "\n",
    "1. **What assumptions must be satisfied for linear regression to provide reliable predictions?**\n",
    "   - This question probes understanding of linearity, normality, homoscedasticity, independence, and the absence of multicollinearity among predictors.\n",
    "\n",
    "2. **How does the presence of outliers affect the performance of a linear regression model, and how can these effects be mitigated?**\n",
    "   - Discuss the impact of outliers on regression coefficients and possible strategies such as robust regression methods or outlier removal.\n",
    "\n",
    "3. **What is the difference between R-squared and adjusted R-squared in the context of linear regression, and when would you use each?**\n",
    "   - Explore the concept of these metrics and their importance in the context of model evaluation, especially when adding predictors.\n",
    "\n",
    "4. **Explain the consequence of multicollinearity in linear regression. How can you detect and address multicollinearity?**\n",
    "   - Discuss the issues it causes, such as inflated variances of regression coefficients, and techniques for detection like VIF (Variance Inflation Factor).\n",
    "\n",
    "5. **Can linear regression be used for time series data? What are the specific concerns and adjustments that should be considered?**\n",
    "   - Investigate issues such as autocorrelation and non-stationarity, and modifications like using differencing or adding lag variables.\n",
    "\n",
    "\n",
    "\n"
   ]
  },
  {
   "cell_type": "markdown",
   "id": "b2988770",
   "metadata": {},
   "source": [
    "### Logistic Regression Conceptual Questions\n",
    "\n",
    "1. **Why is logistic regression preferred over linear regression for binary classification tasks?**\n",
    "   - Explore into why logistic regression's output (probabilities) is more suitable for categorical outcomes and how it handles the bounded nature of binary data.\n",
    "\n",
    "2. **What is the logistic function and how does it relate to the odds ratio in logistic regression?**\n",
    "   - Explain the S-shaped curve of the logistic function and its role in converting log-odds to probabilities.\n",
    "\n",
    "3. **Discuss how the likelihood function is used in logistic regression. What does it mean to 'maximize the likelihood'?**\n",
    "   - Cover the concept of likelihood in the context of fitting a logistic regression model and how it leads to finding the most probable parameters for the given data.\n",
    "\n",
    "4. **Can logistic regression be extended to handle multi-class classification problems? If so, how?**\n",
    "   - Examine extensions of logistic regression like multinomial logistic regression and the one-vs-rest strategy.\n",
    "\n",
    "5. **What are the implications of using logistic regression with highly imbalanced datasets, and how might you overcome them?**\n",
    "   - Address the challenges of model bias towards the majority class and strategies such as resampling, class-weight adjustments, or using alternative performance metrics."
   ]
  },
  {
   "cell_type": "markdown",
   "id": "df1a3981",
   "metadata": {},
   "source": [
    "# Interactive Code Application Excercise "
   ]
  },
  {
   "cell_type": "markdown",
   "id": "027b56ec",
   "metadata": {},
   "source": [
    "\n",
    "\n",
    "#### Linear Regression"
   ]
  },
  {
   "cell_type": "markdown",
   "id": "f3eb75cd",
   "metadata": {},
   "source": [
    "1. # Implement Cross-Validation\n",
    "   Prompt**: The snippet below sets up a basic linear regression model. Modify this setup to include 5-fold cross-validation and calculate the average RMSE across all folds. How does this change your confidence in the model's performance?\n"
   ]
  },
  {
   "cell_type": "code",
   "execution_count": 5,
   "id": "18bde9c6",
   "metadata": {},
   "outputs": [],
   "source": [
    "import numpy as np\n",
    "from sklearn.model_selection import KFold, cross_val_score\n",
    "from sklearn.linear_model import LinearRegression\n",
    "from sklearn.metrics import make_scorer, mean_squared_error\n",
    "\n",
    "# Function to calculate RMSE\n",
    "def rmse(model, X, y):\n",
    "    y_pred = model.predict(X)\n",
    "    return np.sqrt(mean_squared_error(y, y_pred))\n",
    "\n",
    "# Generate synthetic data\n",
    "np.random.seed(0)\n",
    "X = 2 * np.random.rand(100, 1)\n",
    "y = 4 + 3 * X.squeeze() + np.random.randn(100)\n",
    "\n",
    "# Setup KFold\n",
    "kf = KFold(n_splits=5, shuffle=True, random_state=0)\n",
    "\n",
    "# Cross-validation\n",
    "# Hint: Use cross_val_score with the rmse function created above\n",
    "\n",
    "# Interpretation\n",
    "# Prompt: How does the variation in RMSE across different folds help you understand the model's stability?  "
   ]
  },
  {
   "cell_type": "code",
   "execution_count": 6,
   "id": "2959e24b",
   "metadata": {},
   "outputs": [],
   "source": [
    "# Linear regression model\n",
    "model = LinearRegression()"
   ]
  },
  {
   "cell_type": "code",
   "execution_count": 7,
   "id": "840a5ba3",
   "metadata": {},
   "outputs": [
    {
     "data": {
      "text/plain": [
       "array([ 6.12773118,  9.19196269,  8.0822427 ,  5.73305541,  8.03018099,\n",
       "        9.77125385,  7.80430284,  9.17071317,  8.71122394,  7.35510084,\n",
       "        8.34717328,  8.39581459,  7.61654234, 10.53021887,  4.78258275,\n",
       "        5.22934897,  4.13181041, 10.78158957,  8.7958526 ,  9.62206225,\n",
       "       11.75486075,  7.44719232,  5.49839118,  9.65257177,  3.53652315,\n",
       "        9.78314731,  4.44650074,  8.92055869,  9.05403196,  7.96848643,\n",
       "        7.45489263,  9.55144679,  5.87567631,  9.32066865,  3.84473543,\n",
       "        8.50826938,  8.6198263 ,  7.54659389, 10.27656784,  9.01312847,\n",
       "        6.53347293,  5.52279093,  8.48402535,  5.68773873,  7.30603243,\n",
       "        7.87419268,  4.82714181,  6.62282151,  6.56486486,  6.58972646,\n",
       "        6.65126455,  7.17085827,  9.25591037,  4.64409942,  4.61741446,\n",
       "        5.6442904 ,  8.49524077,  5.31145086,  7.19387135,  4.37349204,\n",
       "        3.46255991,  5.10164255,  8.10465103,  5.46412914,  7.56263894,\n",
       "        7.15683051,  8.01313715,  5.69962394,  7.71176203,  4.11500584,\n",
       "        9.79051518,  8.52524993,  9.11581171,  6.80263458,  8.33712895,\n",
       "        3.57164847,  6.8234777 ,  3.64124786,  4.62937253,  4.27454627,\n",
       "        5.40986663,  8.41511002,  5.33430579,  8.24238396,  6.17417321,\n",
       "        6.43669992,  6.13927297,  3.01887197,  8.64370877,  9.8927198 ,\n",
       "        6.83227254,  8.32318993,  5.64761779,  7.64693763,  4.70219372,\n",
       "        5.78074269,  6.71566794,  3.4310955 ,  8.51810767,  4.04565202])"
      ]
     },
     "execution_count": 7,
     "metadata": {},
     "output_type": "execute_result"
    }
   ],
   "source": [
    "y"
   ]
  },
  {
   "cell_type": "code",
   "execution_count": 8,
   "id": "9867e5d6",
   "metadata": {},
   "outputs": [
    {
     "data": {
      "text/plain": [
       "array([5.6716132 , 7.73758952, 7.30242548, 5.30051935, 8.32501523,\n",
       "       8.73265221, 8.01554261, 6.6568382 , 5.76601042, 7.89121476,\n",
       "       6.43358609, 8.05920811, 7.04503802, 7.81340207, 7.19312943,\n",
       "       7.5433362 , 6.84726305, 8.62263353, 6.96367513, 7.2387524 ,\n",
       "       8.71991373, 5.48900398, 5.56627804, 7.80615975, 5.66363963,\n",
       "       8.78038422, 6.42314405, 6.08930823, 8.75970506, 8.31727783,\n",
       "       8.704322  , 7.7428077 , 5.97553735, 8.74682799, 6.56875966,\n",
       "       7.63921943, 7.784015  , 6.68175294, 7.45084241, 7.75896971,\n",
       "       7.21318857, 5.73736225, 7.13500121, 8.16314892, 6.14219518,\n",
       "       6.6871285 , 6.40160949, 8.68602676, 7.50905779, 7.24422487,\n",
       "       6.06684696, 7.37601223, 6.16243038, 6.86859359, 6.20091696,\n",
       "       7.51319633, 7.41335385, 6.62846428, 7.23276975, 5.74370153,\n",
       "       5.34550544, 7.27615473, 7.00343653, 7.47179447, 9.21990781,\n",
       "       7.78124252, 5.92394081, 7.95377932, 5.52085563, 6.37517843,\n",
       "       6.76852143, 8.55010576, 6.09200822, 6.0103245 , 6.73831051,\n",
       "       6.17328474, 7.96339896, 5.75683153, 5.68929438, 6.39894299,\n",
       "       6.33873059, 8.76629509, 7.78618383, 6.92431428, 5.61132752,\n",
       "       7.68112601, 5.83654769, 5.29199194, 8.02479283, 7.15370565,\n",
       "       7.75762186, 7.15549069, 7.69359365, 6.18573744, 5.8025202 ,\n",
       "       7.51835755, 6.03335337, 6.14721325, 6.38123053, 6.85424218])"
      ]
     },
     "execution_count": 8,
     "metadata": {},
     "output_type": "execute_result"
    }
   ],
   "source": [
    "y_pred"
   ]
  },
  {
   "cell_type": "code",
   "execution_count": 9,
   "id": "bb348621",
   "metadata": {},
   "outputs": [],
   "source": [
    "# Cross-validation with RMSE scoring\n",
    "rmse_scores = cross_val_score(model, X, y, cv=kf)"
   ]
  },
  {
   "cell_type": "code",
   "execution_count": 10,
   "id": "819ca315",
   "metadata": {},
   "outputs": [
    {
     "name": "stdout",
     "output_type": "stream",
     "text": [
      "Average RMSE: 0.6779362666608056\n"
     ]
    }
   ],
   "source": [
    "# Average RMSE across all folds\n",
    "avg_rmse = np.mean(rmse_scores)\n",
    "print(\"Average RMSE:\", avg_rmse)\n",
    "\n",
    "# Interpretation:\n",
    "# The variation in RMSE across different folds helps us understand the model's stability.\n",
    "# A smaller variation indicates that the model performs consistently across different subsets of the data."
   ]
  },
  {
   "cell_type": "markdown",
   "id": "13143650",
   "metadata": {},
   "source": [
    "2. **Incorporate a Categorical Variable**\n",
    "   - **Prompt**: Below is a code snippet that generates synthetic data for linear regression, including a categorical variable. Convert the categorical variable using one-hot encoding and include it in the linear regression model. Interpret how the inclusion of this variable affects the regression model's coefficients and performance.\n",
    "   \n",
    "   - **Task**: Modify the number of categories and observe the change in the model's coefficients. What happens when you add more categories?"
   ]
  },
  {
   "cell_type": "raw",
   "id": "f915754d",
   "metadata": {},
   "source": [
    "\n",
    "   import numpy as np\n",
    "   import pandas as pd\n",
    "   from sklearn.linear_model import LinearRegression\n",
    "   from sklearn.preprocessing import OneHotEncoder\n",
    "\n",
    "   # Generate synthetic data\n",
    "   np.random.seed(0)\n",
    "   X_numeric = np.random.rand(100, 1)\n",
    "   X_categorical = np.random.choice(['Category1', 'Category2', 'Category3'], size=100)\n",
    "   y = 4 + 3 * X_numeric.squeeze() + np.random.randn(100)\n",
    "\n",
    "   # Convert categorical variable to one-hot encoding\n",
    "   encoder = OneHotEncoder(sparse=False)\n",
    "   X_categorical_encoded = encoder.fit_transform(X_categorical.reshape(-1, 1))\n",
    "\n",
    "   # Combine numeric and categorical data\n",
    "   X = np.hstack([X_numeric, X_categorical_encoded])\n",
    "\n",
    "   # Fit the linear regression model\n",
    "   model = LinearRegression()\n",
    "   model.fit(X, y)\n",
    "\n",
    "   # Display coefficients\n",
    "   print(\"Model coefficients:\", model.coef_)\n",
    "   "
   ]
  },
  {
   "cell_type": "code",
   "execution_count": 11,
   "id": "7047c90a",
   "metadata": {},
   "outputs": [
    {
     "name": "stdout",
     "output_type": "stream",
     "text": [
      "Model coefficients: [ 2.73168468  0.02819711  0.0456023  -0.07379941]\n"
     ]
    },
    {
     "name": "stderr",
     "output_type": "stream",
     "text": [
      "/Users/stuti_up_02/anaconda3/lib/python3.11/site-packages/sklearn/preprocessing/_encoders.py:972: FutureWarning: `sparse` was renamed to `sparse_output` in version 1.2 and will be removed in 1.4. `sparse_output` is ignored unless you leave `sparse` to its default value.\n",
      "  warnings.warn(\n"
     ]
    }
   ],
   "source": [
    "import numpy as np\n",
    "import pandas as pd\n",
    "from sklearn.linear_model import LinearRegression\n",
    "from sklearn.preprocessing import OneHotEncoder\n",
    "\n",
    "# Generate synthetic data\n",
    "np.random.seed(0)\n",
    "X_numeric = np.random.rand(100, 1)\n",
    "X_categorical = np.random.choice(['Category1', 'Category2', 'Category3'], size=100)\n",
    "y = 4 + 3 * X_numeric.squeeze() + np.random.randn(100)\n",
    "\n",
    "# Convert categorical variable to one-hot encoding\n",
    "encoder = OneHotEncoder(sparse=False)\n",
    "X_categorical_encoded = encoder.fit_transform(X_categorical.reshape(-1, 1))\n",
    "\n",
    "# Combine numeric and categorical data\n",
    "X = np.hstack([X_numeric, X_categorical_encoded])\n",
    "\n",
    "# Fit the linear regression model\n",
    "model = LinearRegression()\n",
    "model.fit(X, y)\n",
    "\n",
    "# Display coefficients\n",
    "print(\"Model coefficients:\", model.coef_)"
   ]
  },
  {
   "cell_type": "markdown",
   "id": "f833772f",
   "metadata": {},
   "source": [
    "#### Logisitic Regression "
   ]
  },
  {
   "cell_type": "markdown",
   "id": "7b0555d8",
   "metadata": {},
   "source": [
    "\n",
    "\n",
    "4. **Adjusting the Classification Threshold**\n",
    "   - **Prompt**: Below is the setup for a logistic regression model. Modify the threshold for classification and observe how it affects the confusion matrix. How does changing the threshold impact the type I and type II error rates?\n",
    "  \n"
   ]
  },
  {
   "cell_type": "raw",
   "id": "f38c81f1",
   "metadata": {},
   "source": [
    "\n",
    "   from sklearn.linear_model import LogisticRegression\n",
    "   from sklearn.metrics import confusion_matrix\n",
    "\n",
    "   # Logistic regression fit\n",
    "   log_reg = LogisticRegression()\n",
    "   log_reg.fit(X_log, y_log)\n",
    "   y_log_pred_proba = log_reg.predict_proba(X_log)[:, 1]\n",
    "\n",
    "   # Apply different thresholds\n",
    "   threshold = 0.6  # Try adjusting this value\n",
    "   y_log_pred = (y_log_pred_proba > threshold).astype(int)\n",
    "\n",
    "   # Calculate and display the confusion matrix\n",
    "   print(\"Confusion Matrix:\\n\", confusion_matrix(y_log, y_log_pred))\n"
   ]
  },
  {
   "cell_type": "code",
   "execution_count": 12,
   "id": "d647cea6",
   "metadata": {},
   "outputs": [
    {
     "name": "stdout",
     "output_type": "stream",
     "text": [
      "Confusion Matrix:\n",
      " [[51  0]\n",
      " [ 8 41]]\n"
     ]
    }
   ],
   "source": [
    "import numpy as np\n",
    "from sklearn.linear_model import LogisticRegression\n",
    "from sklearn.metrics import confusion_matrix\n",
    "\n",
    "# Generate synthetic data for logistic regression\n",
    "np.random.seed(0)\n",
    "X_log = np.random.rand(100, 1)\n",
    "y_log = (X_log > 0.5).astype(int).flatten()  # Binary classification\n",
    "\n",
    "# Logistic regression model\n",
    "log_reg = LogisticRegression()\n",
    "log_reg.fit(X_log, y_log)\n",
    "y_log_pred_proba = log_reg.predict_proba(X_log)[:, 1]\n",
    "\n",
    "# Apply different thresholds\n",
    "threshold = 0.6  # Try adjusting this value\n",
    "y_log_pred = (y_log_pred_proba > threshold).astype(int)\n",
    "\n",
    "# Calculate and display the confusion matrix\n",
    "print(\"Confusion Matrix:\\n\", confusion_matrix(y_log, y_log_pred))"
   ]
  },
  {
   "cell_type": "markdown",
   "id": "17bdedd5",
   "metadata": {},
   "source": [
    "\n",
    "\n",
    "5. **Regularization in Logistic Regression**\n",
    "   - **Prompt**: Adjust the regularization strength (`C`) in the logistic regression model below. Experiment with different values (e.g., 0.01, 0.1, 1, 10, 100) and regularization types (`penalty='l1'`, `penalty='l2'`). Observe how these adjustments affect model accuracy and the number of features with zero coefficients.\n",
    "   \n",
    " \n"
   ]
  },
  {
   "cell_type": "raw",
   "id": "35b2ae9b",
   "metadata": {},
   "source": [
    "\n",
    "   from sklearn.linear_model import LogisticRegression\n",
    "   from sklearn.metrics import accuracy_score\n",
    "\n",
    "   # Logistic regression with regularization\n",
    "   log_reg = LogisticRegression(penalty='l2', C=1, solver='liblinear')\n",
    "   log_reg.fit(X_log, y_log)\n",
    "   y_log_pred = log_reg.predict(X_log)\n",
    "\n",
    "   # Display model accuracy\n",
    "   print(\"Accuracy:\", accuracy_score(y_log, y_log_pred))\n",
    "   print(\"Non-zero coefficients:\", np.sum(log_reg.coef_ != 0))"
   ]
  },
  {
   "cell_type": "code",
   "execution_count": 13,
   "id": "54e30d6e",
   "metadata": {},
   "outputs": [
    {
     "name": "stdout",
     "output_type": "stream",
     "text": [
      "Accuracy: 0.97\n",
      "Non-zero coefficients: 1\n"
     ]
    }
   ],
   "source": [
    "import numpy as np\n",
    "from sklearn.linear_model import LogisticRegression\n",
    "from sklearn.metrics import accuracy_score\n",
    "\n",
    "# Generate synthetic data for logistic regression\n",
    "np.random.seed(0)\n",
    "X_log = np.random.rand(100, 1)\n",
    "y_log = (X_log > 0.5).astype(int).flatten()  # Binary classification\n",
    "\n",
    "# Logistic regression with regularization\n",
    "log_reg = LogisticRegression(penalty='l2', C=1, solver='liblinear')\n",
    "log_reg.fit(X_log, y_log)\n",
    "y_log_pred = log_reg.predict(X_log)\n",
    "\n",
    "# Display model accuracy\n",
    "print(\"Accuracy:\", accuracy_score(y_log, y_log_pred))\n",
    "print(\"Non-zero coefficients:\", np.sum(log_reg.coef_ != 0))"
   ]
  }
 ],
 "metadata": {
  "kernelspec": {
   "display_name": "Python 3 (ipykernel)",
   "language": "python",
   "name": "python3"
  },
  "language_info": {
   "codemirror_mode": {
    "name": "ipython",
    "version": 3
   },
   "file_extension": ".py",
   "mimetype": "text/x-python",
   "name": "python",
   "nbconvert_exporter": "python",
   "pygments_lexer": "ipython3",
   "version": "3.11.5"
  }
 },
 "nbformat": 4,
 "nbformat_minor": 5
}
