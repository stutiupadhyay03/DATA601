{
 "cells": [
  {
   "cell_type": "markdown",
   "id": "c09b8d8a",
   "metadata": {},
   "source": [
    "#### Last Name: Upadhyay\n",
    "#### ID: XT81177"
   ]
  },
  {
   "cell_type": "markdown",
   "id": "e9e07da2",
   "metadata": {},
   "source": [
    "\n",
    "## Instruction for Quiz on Python Data Structures and Basic Data Analysis\n",
    "\n",
    "This quiz is designed to assess your knowledge of Python data structures and your ability to perform data analysis using basic Python functions such as lists, tuples, dictionaries, loops, conditionals, and functions.\n",
    "\n",
    "### Part I: Understanding Data Structures\n",
    "The first part of the quiz focuses on understanding and manipulating data structures through a series of problems. You'll work with small datasets to apply concepts related to lists, tuples, dictionaries, and more.\n",
    "\n",
    "### Part II: Fetching and Manipulating Data from an API\n",
    "In the second part, you will learn how to fetch data from a public dataset using the Air Quality API ([https://aqicn.org/api/](https://aqicn.org/api/)). The challenge involves performing basic data manipulation without relying on Pandas and NumPy libraries.\n",
    "\n",
    "**Please clearly write your last name and ID below:**\n",
    "\n",
    "_Last Name:_  \n",
    "_ID:_\n",
    "\n",
    "Feel free to add your own code and conduct any extra analysis. Bonus points will be awarded for additional insights and creativity in your solutions.\n"
   ]
  },
  {
   "cell_type": "markdown",
   "id": "e0808f8b",
   "metadata": {},
   "source": [
    "## I) Python Data Structures and Analysis "
   ]
  },
  {
   "cell_type": "markdown",
   "id": "d7708f62",
   "metadata": {},
   "source": [
    "\n",
    "**Question 1: Dictionary Conversion:**\n",
    "- Given a list of air quality measurements as tuples: [('PM2.5', 35), ('PM10', 40), ('NO2', 20)], \n",
    "- Write a Python script to convert this list into a dictionary where the first element of each tuple is the key and the second element is the value"
   ]
  },
  {
   "cell_type": "code",
   "execution_count": 1,
   "id": "9d95c63e",
   "metadata": {},
   "outputs": [
    {
     "name": "stdout",
     "output_type": "stream",
     "text": [
      "{'PM2.5': 35, 'PM10': 40, 'NO2': 20}\n"
     ]
    }
   ],
   "source": [
    "# Your code here\n",
    "measurements = [('PM2.5', 35), ('PM10', 40), ('NO2', 20)]\n",
    "# Convert to dictionary\n",
    "measurements_dic = {key: value for key, value in measurements}\n",
    "print(measurements_dic)"
   ]
  },
  {
   "cell_type": "markdown",
   "id": "32c4e145",
   "metadata": {},
   "source": [
    "**Question 2: Updating Dictionary Values**\n",
    "- Write a Python function update_quality_index(air_quality, pollutant, index) that updates the air quality index of a given pollutant in a dictionary air_quality."
   ]
  },
  {
   "cell_type": "code",
   "execution_count": 2,
   "id": "88527378",
   "metadata": {},
   "outputs": [],
   "source": [
    "# Define the function here\n",
    "def update_quality_index(air_quality, pollutant, index):\n",
    "    # Your code here\n",
    "    \"\"\"\n",
    "    Update the air quality index of a given pollutant in a dictionary.\n",
    "\n",
    "    Args:\n",
    "    - air_quality (dict): Dictionary containing air quality measurements.\n",
    "    - pollutant (str): Name of the pollutant to update.\n",
    "    - index (int): New air quality index value.\n",
    "\n",
    "    Returns:\n",
    "    - None: Modifies the 'air_quality' dictionary in place.\n",
    "    \"\"\"\n",
    "    # Check if the pollutant exists in the air_quality dictionary\n",
    "    if pollutant in air_quality:\n",
    "        # Update the air quality index of the given pollutant\n",
    "        air_quality[pollutant] = index\n",
    "    else:\n",
    "        # If the pollutant doesn't exist in the dictionary, add it with the new index value\n",
    "        air_quality[pollutant] = index\n",
    "    "
   ]
  },
  {
   "cell_type": "markdown",
   "id": "5efb1bce",
   "metadata": {},
   "source": [
    "**Question 3: Set Intersection**\n",
    "- Given two sets of cities, cities_with_good_air = {'CityA', 'CityB', 'CityC'} and cities_with_poor_air = {'CityB', 'CityD', 'CityE'}\n",
    "- write a Python script to find the cities that are in both sets."
   ]
  },
  {
   "cell_type": "code",
   "execution_count": 3,
   "id": "5efa17c2",
   "metadata": {},
   "outputs": [
    {
     "name": "stdout",
     "output_type": "stream",
     "text": [
      "Common cities: {'CityB'}\n"
     ]
    }
   ],
   "source": [
    "# Your code here to find common cities\n",
    "cities_with_good_air = {'CityA', 'CityB', 'CityC'}\n",
    "cities_with_poor_air = {'CityB', 'CityD', 'CityE'}\n",
    "# Find common cities\n",
    "common_cities = cities_with_good_air & cities_with_poor_air # We are using & operator \n",
    "\n",
    "print(\"Common cities:\", common_cities)"
   ]
  },
  {
   "cell_type": "markdown",
   "id": "cbb28db9",
   "metadata": {},
   "source": [
    "**Question 4: NumPy Array Creation and Mean Calculation**\n",
    "- Demonstrate how to create a NumPy array from a list of average PM2.5 values [25, 35, 45, 20] and calculate the mean value."
   ]
  },
  {
   "cell_type": "code",
   "execution_count": 5,
   "id": "f69df756",
   "metadata": {},
   "outputs": [
    {
     "name": "stdout",
     "output_type": "stream",
     "text": [
      "Mean PM2.5 value: 31.25\n"
     ]
    }
   ],
   "source": [
    "# Your code here for NumPy operations\n",
    "import numpy as np \n",
    "pm_values = [25, 35, 45, 20]\n",
    "# Convert list to NumPy array\n",
    "pm_array = np.array(pm_values)\n",
    "# Convert to NumPy array and calculate mean\n",
    "pm_mean = np.mean(pm_array)\n",
    "\n",
    "print(\"Mean PM2.5 value:\", pm_mean)"
   ]
  },
  {
   "cell_type": "code",
   "execution_count": null,
   "id": "0b045da0",
   "metadata": {},
   "outputs": [],
   "source": []
  },
  {
   "cell_type": "code",
   "execution_count": null,
   "id": "da993bee",
   "metadata": {},
   "outputs": [],
   "source": []
  },
  {
   "cell_type": "markdown",
   "id": "73c3d966",
   "metadata": {},
   "source": [
    "**Quesion5: The Python and R Data Structure**\n",
    "\n",
    "\n",
    "R and Python are both powerful programming languages for data analysis, but they handle data types differently.\n",
    "\n",
    "Vectors in R: The fundamental data structure in R is the vector. Vectors in R are homogeneous, meaning all elements must be of the same type. R supports atomic vectors (logical, integer, double, character, complex) and lists (which can be heterogeneous).\n",
    "\n",
    "Data Frames in R: A data frame in R is similar to a table in a relational database or a dataframe in Python's pandas library. It's a list of vectors of equal length, making it a two-dimensional structure that can store different types of data (numeric, character, logical, etc.) in each column, similar to a spreadsheet.\n",
    "\n",
    "Lists in Python: Python lists are heterogeneous, meaning they can contain elements of different types. Lists are ordered collections and are mutable.\n",
    "\n",
    "Dictionaries in Python: A dictionary in Python is a collection of key-value pairs. Keys are unique within a dictionary, and the values can be of any data type. Dictionaries are unordered (though as of Python 3.7, insertion order is preserved as an implementation detail)."
   ]
  },
  {
   "cell_type": "markdown",
   "id": "0aed512e",
   "metadata": {},
   "source": [
    " Quesiton **List and Vector Operations**\n",
    " \n",
    "- Consider you have a Python list py_list = [10, 20, 30, 40] and an R vector r_vector <- c(10, 20, 30, 40).\n",
    "\n",
    "- In Python, add a new element 50 to py_list and demonstrate how to iterate over py_list to print each element's value multiplied by 2.\n",
    "\n",
    "- In R, perform the same operations: add a new element 50 to r_vector and write a loop to print each element's value multiplied by 2.\n",
    "\n",
    "- Discuss the differences in syntax and approach between adding elements and iterating over the collection in R and Python."
   ]
  },
  {
   "cell_type": "code",
   "execution_count": 7,
   "id": "a46d9cb0",
   "metadata": {},
   "outputs": [
    {
     "name": "stdout",
     "output_type": "stream",
     "text": [
      "20\n",
      "40\n",
      "60\n",
      "80\n",
      "100\n"
     ]
    }
   ],
   "source": [
    "# Python\n",
    "py_list = [10, 20, 30, 40] # Creating the list\n",
    "py_list.append(50) # Appending the new element into the list\n",
    "# Iterating over py_list to print each element's value multiplied by 2\n",
    "for item in py_list:\n",
    "    print(item * 2)\n"
   ]
  },
  {
   "cell_type": "code",
   "execution_count": null,
   "id": "a1db27c1",
   "metadata": {},
   "outputs": [],
   "source": [
    "# R\n",
    "r_vector <- c(10, 20, 30, 40) # Creating the list\n",
    "r_vector <- c(r_vector, 50) # Adding a new element to r_vector\n",
    "# Looping over r_vector to print each element's value multiplied by 2\n",
    "for(item in r_vector) {\n",
    "  print(item * 2)\n",
    "}"
   ]
  },
  {
   "cell_type": "code",
   "execution_count": null,
   "id": "f14b8e31",
   "metadata": {},
   "outputs": [],
   "source": [
    "#Discuss the differences in syntax and approach between adding elements and iterating over the collection in R and Python."
   ]
  },
  {
   "cell_type": "markdown",
   "id": "4b139b73",
   "metadata": {},
   "source": [
    "Differences in syntax and approach between R and Python:\n",
    "\n",
    "1. **Adding Elements**:\n",
    "   - In Python, to add an element to a list, we use the `append()` method.\n",
    "   - In R, to add an element to a vector, we use the concatenation operator i.e., `c()`.\n",
    "\n",
    "2. **Iterating Over Collection**:\n",
    "   - In Python, we will typically use a `for` loop with `in` keyword to iterate over a list.\n",
    "   - In R, we will also use a `for` loop, but the syntax is different. The loop iterates over each element of the vector using `for(item in vector)`.\n",
    "\n",
    "3. **Indexing**:\n",
    "   - In Python, indexing starts from 0 (zero-based indexing).\n",
    "   - In R, indexing starts from 1 (one-based indexing).\n",
    "\n",
    "4. **Syntax**:\n",
    "   - Python syntax is more verbose, with the use of colons (`:`) to denote code blocks and indentation to specify block structure.\n",
    "   - R syntax is more compact and resembles natural language, with curly braces (`{}`) denoting code blocks.\n",
    "\n",
    "Overall, Python and R have different syntax and conventions for adding elements to collections and iterating over them. However, both languages provide similar functionalities for working with collections."
   ]
  },
  {
   "cell_type": "code",
   "execution_count": null,
   "id": "cf55882c",
   "metadata": {},
   "outputs": [],
   "source": []
  },
  {
   "cell_type": "markdown",
   "id": "01b054b6",
   "metadata": {},
   "source": [
    "## II) Python Basic Functionaliy application: \n",
    " \n",
    " - **Dataset: Air Quality Data Analysis**"
   ]
  },
  {
   "cell_type": "markdown",
   "id": "612a7531",
   "metadata": {},
   "source": [
    "1. Data Accessing from the Air Quality API\n",
    "\n",
    "  The purpose of the API, and how to handle the response. Here's a step-by-step guide:\n",
    "\n",
    "### Understanding the API Request\n",
    "\n",
    "- **API Endpoint**: This is the URL to which you send the request. In this case, `https://api.waqi.info/feed/here/?token=YOUR_TOKEN` targets the \"here\" endpoint of the WAQI API, which automatically determines the location based on the IP address of the request. The `token` parameter is your API key, which authenticates your request.\n",
    "  \n",
    "- **Requests Library**: Python's `requests` library simplifies making HTTP requests. The `get` method is used to send a GET request to the API.\n",
    "\n",
    "###  Making the GET Request\n",
    "\n",
    "```python\n",
    "response = requests.get(url)\n",
    "```\n",
    "\n",
    "- This line sends a GET request to the API endpoint and stores the response in a variable named `response`.\n",
    "\n",
    "### Checking the Response Status\n",
    "\n",
    "```python\n",
    "if response.status_code == 200:\n",
    "```\n",
    "\n",
    "- HTTP status code 200 indicates success. This condition checks if the request was successful before proceeding.\n",
    "\n",
    "### Parsing the JSON Response\n",
    "\n",
    "```python\n",
    "data = response.json()\n",
    "```\n",
    "\n",
    "- The `.json()` method converts the JSON response from the API into a Python dictionary, making it easy to access the data programmatically.\n",
    "\n",
    "### Accessing Specific Data\n",
    "\n",
    "```python\n",
    "if 'data' in data and data['data'] is not None:\n",
    "    aqi = data['data'].get('aqi')\n",
    "    city = data['data'].get('city', {}).get('name')\n",
    "```\n",
    "\n",
    "- This checks if the key `'data'` exists and is not `None`. It then extracts the Air Quality Index (AQI) and the city name from the nested structure of the response data.\n",
    "\n",
    "### Printing the Results\n",
    "\n",
    "```python\n",
    "print(f\"Air Quality Index (AQI) for {city}: {aqi}\")\n",
    "```\n",
    "\n",
    "- Finally, this prints the AQI along with the city name to the console. If the data for the requested location is not available, it prints an alternative message.\n",
    "\n"
   ]
  },
  {
   "cell_type": "code",
   "execution_count": 10,
   "id": "a458e7f7",
   "metadata": {},
   "outputs": [
    {
     "name": "stdout",
     "output_type": "stream",
     "text": [
      "{'status': 'ok', 'data': {'aqi': 19, 'idx': 8700, 'attributions': [{'url': 'http://www.mde.state.md.us/Pages/Home.aspx', 'name': 'Air Now - US EPA - Maryland state', 'logo': 'US-Maryland.png'}, {'url': 'http://www.airnow.gov/', 'name': 'Air Now - US EPA'}, {'url': 'https://waqi.info/', 'name': 'World Air Quality Index Project'}], 'city': {'geo': [39.462002, -76.631599], 'name': 'Padonia, Maryland, USA', 'url': 'https://aqicn.org/city/usa/maryland/padonia', 'location': ''}, 'dominentpol': 'o3', 'iaqi': {'h': {'v': 93}, 'o3': {'v': 19.2}, 'p': {'v': 1011}, 'pm25': {'v': 9}, 't': {'v': 10.5}, 'w': {'v': 1}, 'wg': {'v': 5.2}}, 'time': {'s': '2024-03-06 15:00:00', 'tz': '-05:00', 'v': 1709737200, 'iso': '2024-03-06T15:00:00-05:00'}, 'forecast': {'daily': {'o3': [{'avg': 11, 'day': '2024-03-04', 'max': 20, 'min': 2}, {'avg': 7, 'day': '2024-03-05', 'max': 16, 'min': 1}, {'avg': 4, 'day': '2024-03-06', 'max': 9, 'min': 1}, {'avg': 8, 'day': '2024-03-07', 'max': 12, 'min': 5}, {'avg': 8, 'day': '2024-03-08', 'max': 20, 'min': 1}, {'avg': 13, 'day': '2024-03-09', 'max': 16, 'min': 3}, {'avg': 13, 'day': '2024-03-10', 'max': 18, 'min': 11}], 'pm10': [{'avg': 22, 'day': '2024-03-04', 'max': 33, 'min': 6}, {'avg': 10, 'day': '2024-03-05', 'max': 21, 'min': 3}, {'avg': 20, 'day': '2024-03-06', 'max': 25, 'min': 8}, {'avg': 6, 'day': '2024-03-07', 'max': 17, 'min': 2}, {'avg': 15, 'day': '2024-03-08', 'max': 30, 'min': 4}, {'avg': 10, 'day': '2024-03-09', 'max': 25, 'min': 4}, {'avg': 2, 'day': '2024-03-10', 'max': 3, 'min': 1}], 'pm25': [{'avg': 62, 'day': '2024-03-04', 'max': 80, 'min': 22}, {'avg': 29, 'day': '2024-03-05', 'max': 59, 'min': 8}, {'avg': 62, 'day': '2024-03-06', 'max': 71, 'min': 29}, {'avg': 20, 'day': '2024-03-07', 'max': 59, 'min': 6}, {'avg': 41, 'day': '2024-03-08', 'max': 78, 'min': 12}, {'avg': 29, 'day': '2024-03-09', 'max': 70, 'min': 10}, {'avg': 5, 'day': '2024-03-10', 'max': 9, 'min': 3}]}}, 'debug': {'sync': '2024-03-07T05:18:29+09:00'}}}\n",
      "Air Quality Index (AQI) for Padonia, Maryland, USA: 19\n"
     ]
    }
   ],
   "source": [
    "# The API SCRIPT\n",
    "import requests\n",
    "\n",
    "# API endpoint with the token\n",
    "url = \"https://api.waqi.info/feed/here/?token=88870b41d8fa20dcbb42be4d50920eab0f29bbf4\" # Replace your KPI KEY here \n",
    "\n",
    "# Make a GET request to the WAQI API\n",
    "response = requests.get(url)\n",
    "\n",
    "# Check if the request was successful\n",
    "if response.status_code == 200:\n",
    "    # Parse the JSON response\n",
    "    data = response.json()\n",
    "    \n",
    "    # Print the entire response data\n",
    "    print(data)\n",
    "    \n",
    "    # Example of accessing specific data\n",
    "    # Check if the response contains the 'data' key and it's not None\n",
    "    if 'data' in data and data['data'] is not None:\n",
    "        aqi = data['data'].get('aqi')\n",
    "        city = data['data'].get('city', {}).get('name')\n",
    "        print(f\"Air Quality Index (AQI) for {city}: {aqi}\")\n",
    "    else:\n",
    "        print(\"Data not available for the requested location.\")\n",
    "else:\n",
    "    print(f\"Failed to fetch data: HTTP {response.status_code}\")\n"
   ]
  },
  {
   "cell_type": "code",
   "execution_count": null,
   "id": "75a4c662",
   "metadata": {},
   "outputs": [],
   "source": []
  },
  {
   "cell_type": "code",
   "execution_count": 12,
   "id": "121c60b3",
   "metadata": {
    "scrolled": true
   },
   "outputs": [
    {
     "name": "stdout",
     "output_type": "stream",
     "text": [
      "City: HU-Beltsville, Maryland, USA\n",
      "Current AQI: 23\n",
      "Dominant Pollutant: o3\n",
      "\n",
      "Attributions:\n",
      "- Air Now - US EPA - Maryland state (http://www.mde.state.md.us/Pages/Home.aspx)\n",
      "- Air Now - US EPA (http://www.airnow.gov/)\n",
      "- World Air Quality Index Project (https://waqi.info/)\n",
      "\n",
      "Individual Pollutant Indices:\n",
      "- CO: 2.3\n",
      "- H: 42.5\n",
      "- NO2: 8.5\n",
      "- O3: 23.3\n",
      "- P: 1017.6\n",
      "- PM25: 13\n",
      "- SO2: 0.2\n",
      "- T: 1.9\n",
      "- W: 4.5\n",
      "- WG: 10.5\n",
      "\n",
      "Forecast Data:\n",
      "\n",
      "O3 Levels:\n",
      "- 2024-02-16: Avg: 9, Max: 16, Min: 1\n",
      "\n",
      "PM10 Levels:\n",
      "- 2024-02-16: Avg: 14, Max: 29, Min: 2\n",
      "\n",
      "PM25 Levels:\n",
      "- 2024-02-16: Avg: 38, Max: 74, Min: 5\n"
     ]
    }
   ],
   "source": [
    "#SAMPLE SCRIPTS\n",
    "\n",
    "# Given data dictionary\n",
    "data = {\n",
    "    'status': 'ok',\n",
    "    'data': {\n",
    "        'aqi': 23,\n",
    "        'idx': 7422,\n",
    "        'attributions': [\n",
    "            {'url': 'http://www.mde.state.md.us/Pages/Home.aspx', 'name': 'Air Now - US EPA - Maryland state', 'logo': 'US-Maryland.png'},\n",
    "            {'url': 'http://www.airnow.gov/', 'name': 'Air Now - US EPA'},\n",
    "            {'url': 'https://waqi.info/', 'name': 'World Air Quality Index Project'}\n",
    "        ],\n",
    "        'city': {\n",
    "            'geo': [39.055302, -76.878304],\n",
    "            'name': 'HU-Beltsville, Maryland, USA',\n",
    "            'url': 'https://aqicn.org/city/usa/maryland/hu-beltsville',\n",
    "            'location': ''\n",
    "        },\n",
    "        'dominentpol': 'o3',\n",
    "        'iaqi': {\n",
    "            'co': {'v': 2.3},\n",
    "            'h': {'v': 42.5},\n",
    "            'no2': {'v': 8.5},\n",
    "            'o3': {'v': 23.3},\n",
    "            'p': {'v': 1017.6},\n",
    "            'pm25': {'v': 13},\n",
    "            'so2': {'v': 0.2},\n",
    "            't': {'v': 1.9},\n",
    "            'w': {'v': 4.5},\n",
    "            'wg': {'v': 10.5}\n",
    "        },\n",
    "        'time': {\n",
    "            's': '2024-02-18 10:00:00',\n",
    "            'tz': '-05:00',\n",
    "            'v': 1708250400,\n",
    "            'iso': '2024-02-18T10:00:00-05:00'\n",
    "        },\n",
    "        'forecast': {\n",
    "            'daily': {\n",
    "                'o3': [\n",
    "                    {'avg': 9, 'day': '2024-02-16', 'max': 16, 'min': 1},\n",
    "                    # More o3 forecast data...\n",
    "                ],\n",
    "                'pm10': [\n",
    "                    {'avg': 14, 'day': '2024-02-16', 'max': 29, 'min': 2},\n",
    "                    # More pm10 forecast data...\n",
    "                ],\n",
    "                'pm25': [\n",
    "                    {'avg': 38, 'day': '2024-02-16', 'max': 74, 'min': 5},\n",
    "                    # More pm25 forecast data...\n",
    "                ]\n",
    "            }\n",
    "        },\n",
    "    },\n",
    "    'debug': {'sync': '2024-02-19T00:18:22+09:00'}\n",
    "}\n",
    "\n",
    "# Checking if the status of the response is 'ok'\n",
    "if data['status'] == 'ok':\n",
    "    # Extracting and printing general information\n",
    "    general_info = data['data']\n",
    "    city_info = general_info['city']\n",
    "    print(f\"City: {city_info['name']}\")\n",
    "    print(f\"Current AQI: {general_info['aqi']}\")\n",
    "    print(f\"Dominant Pollutant: {general_info['dominentpol']}\")\n",
    "    \n",
    "    # Printing attributions\n",
    "    print(\"\\nAttributions:\")\n",
    "    for attribution in general_info['attributions']:\n",
    "        print(f\"- {attribution['name']} ({attribution['url']})\")\n",
    "    \n",
    "    # Extracting and printing individual pollutant indices\n",
    "    print(\"\\nIndividual Pollutant Indices:\")\n",
    "    for pollutant, value in general_info['iaqi'].items():\n",
    "        print(f\"- {pollutant.upper()}: {value['v']}\")\n",
    "    \n",
    "    # Forecast data (simplified for brevity)\n",
    "    print(\"\\nForecast Data:\")\n",
    "    for pollutant, forecasts in general_info['forecast']['daily'].items():\n",
    "        print(f\"\\n{pollutant.upper()} Levels:\")\n",
    "        for forecast in forecasts:\n",
    "            print(f\"- {forecast['day']}: Avg: {forecast['avg']}, Max: {forecast['max']}, Min: {forecast['min']}\")\n",
    "\n",
    "else:\n",
    "    print(\"Failed to fetch data or status not ok.\")\n"
   ]
  },
  {
   "cell_type": "code",
   "execution_count": null,
   "id": "9e78b4da",
   "metadata": {},
   "outputs": [],
   "source": []
  },
  {
   "cell_type": "markdown",
   "id": "95394f74",
   "metadata": {},
   "source": [
    "Question 1: Write a Function to Extract City Name\n",
    "Write a Python function named get_city_name that takes the air quality data dictionary as an argument and returns the name of the city."
   ]
  },
  {
   "cell_type": "code",
   "execution_count": 14,
   "id": "4fce05f4",
   "metadata": {},
   "outputs": [],
   "source": [
    "def get_city_name(data):\n",
    "    \"\"\"\n",
    "    Extracts the name of the city from the air quality data dictionary.\n",
    "\n",
    "    Args:\n",
    "    - data (dict): Air quality data dictionary obtained from the API.\n",
    "\n",
    "    Returns:\n",
    "    - str: Name of the city.\n",
    "    \"\"\"\n",
    "    # Check if the 'city' key exists in the data dictionary\n",
    "    if 'data' in data and 'city' in data['data']:\n",
    "        city_name = data['data']['city']['name']\n",
    "        return city_name\n",
    "    else:\n",
    "        return None  # Return None if city name is not found"
   ]
  },
  {
   "cell_type": "code",
   "execution_count": null,
   "id": "59b3b6ab",
   "metadata": {},
   "outputs": [],
   "source": []
  },
  {
   "cell_type": "markdown",
   "id": "a1990f77",
   "metadata": {},
   "source": [
    "Question 2: List Comprehension to Get All Pollution Values\n",
    "Using list comprehension, extract all the pollutant values (v) from the iaqi section of the air quality data. Assume the data structure is stored in a variable named data. Your answer should produce a list of values."
   ]
  },
  {
   "cell_type": "code",
   "execution_count": 16,
   "id": "cba9327d",
   "metadata": {},
   "outputs": [
    {
     "name": "stdout",
     "output_type": "stream",
     "text": [
      "['ok', {'aqi': 23, 'idx': 7422, 'attributions': [{'url': 'http://www.mde.state.md.us/Pages/Home.aspx', 'name': 'Air Now - US EPA - Maryland state', 'logo': 'US-Maryland.png'}, {'url': 'http://www.airnow.gov/', 'name': 'Air Now - US EPA'}, {'url': 'https://waqi.info/', 'name': 'World Air Quality Index Project'}], 'city': {'geo': [39.055302, -76.878304], 'name': 'HU-Beltsville, Maryland, USA', 'url': 'https://aqicn.org/city/usa/maryland/hu-beltsville', 'location': ''}, 'dominentpol': 'o3', 'iaqi': {'co': {'v': 2.3}, 'h': {'v': 42.5}, 'no2': {'v': 8.5}, 'o3': {'v': 23.3}, 'p': {'v': 1017.6}, 'pm25': {'v': 13}, 'so2': {'v': 0.2}, 't': {'v': 1.9}, 'w': {'v': 4.5}, 'wg': {'v': 10.5}}, 'time': {'s': '2024-02-18 10:00:00', 'tz': '-05:00', 'v': 1708250400, 'iso': '2024-02-18T10:00:00-05:00'}, 'forecast': {'daily': {'o3': [{'avg': 9, 'day': '2024-02-16', 'max': 16, 'min': 1}], 'pm10': [{'avg': 14, 'day': '2024-02-16', 'max': 29, 'min': 2}], 'pm25': [{'avg': 38, 'day': '2024-02-16', 'max': 74, 'min': 5}]}}}, {'sync': '2024-02-19T00:18:22+09:00'}]\n"
     ]
    }
   ],
   "source": [
    "pollutant_values = [v for v in data.values()]  # Fill in the list comprehension\n",
    "print(pollutant_values)"
   ]
  },
  {
   "cell_type": "markdown",
   "id": "17a9e597",
   "metadata": {},
   "source": [
    "Question 3: Write a Function to Find the Maximum AQI Forecast\n",
    "Write a function named max_aqi_forecast that takes the air quality data dictionary as input and returns the maximum AQI forecast value for PM2.5. If there are no PM2.5 forecasts, the function should return None."
   ]
  },
  {
   "cell_type": "code",
   "execution_count": 17,
   "id": "e23a94ce",
   "metadata": {},
   "outputs": [],
   "source": [
    "def max_aqi_forecast(data):\n",
    "    \"\"\"\n",
    "    Finds the maximum AQI forecast value for PM2.5 from the air quality data dictionary.\n",
    "\n",
    "    Args:\n",
    "    - data (dict): Air quality data dictionary obtained from the API.\n",
    "\n",
    "    Returns:\n",
    "    - int or None: Maximum AQI forecast value for PM2.5, or None if there are no forecasts.\n",
    "    \"\"\"\n",
    "    # Your code here\n",
    "    \n",
    "    # Check if 'forecast' key exists in the data dictionary\n",
    "    if 'data' in data and 'forecast' in data['data']:\n",
    "        pm25_forecast = data['data']['forecast'].get('pm25', {})\n",
    "        # Check if 'pm25' key exists in the forecast data\n",
    "        if pm25_forecast:\n",
    "            # Extract forecasted AQI values for PM2.5\n",
    "            pm25_aqi_values = [int(forecast.get('aqi', 0)) for forecast in pm25_forecast.values()]\n",
    "            # Return the maximum AQI forecast value for PM2.5\n",
    "            return max(pm25_aqi_values, default=None)\n",
    "    return None  # Return None if there are no PM2.5 forecasts\n"
   ]
  },
  {
   "cell_type": "markdown",
   "id": "3c3f7b83",
   "metadata": {},
   "source": [
    "Question 4: Conditional Statements to Categorize AQI\n",
    "Write a Python script that categorizes the current AQI (aqi value from the data) into \"Good\", \"Moderate\", \"Unhealthy for Sensitive Groups\", \"Unhealthy\", \"Very Unhealthy\", and \"Hazardous\" based on the AQI value ranges [0-50, 51-100, 101-150, 151-200, 201-300, 301+]."
   ]
  },
  {
   "cell_type": "code",
   "execution_count": 18,
   "id": "c03b39f6",
   "metadata": {},
   "outputs": [
    {
     "name": "stdout",
     "output_type": "stream",
     "text": [
      "AQI Category: Very Unhealthy\n"
     ]
    }
   ],
   "source": [
    "# Assume `aqi` variable holds the current AQI value\n",
    "aqi = 215\n",
    "\n",
    "# Conditional statements to categorize AQI\n",
    "if aqi >= 0 and aqi <= 50:\n",
    "    category = \"Good\"\n",
    "elif aqi >= 51 and aqi <= 100:\n",
    "    category = \"Moderate\"\n",
    "elif aqi >= 101 and aqi <= 150:\n",
    "    category = \"Unhealthy for Sensitive Groups\"\n",
    "elif aqi >= 151 and aqi <= 200:\n",
    "    category = \"Unhealthy\"\n",
    "elif aqi >= 201 and aqi <= 300:\n",
    "    category = \"Very Unhealthy\"\n",
    "else:\n",
    "    category = \"Hazardous\"\n",
    "\n",
    "print(\"AQI Category:\", category)"
   ]
  },
  {
   "cell_type": "markdown",
   "id": "ed26eafe",
   "metadata": {},
   "source": [
    "Question 5: Loop Through Attributions and Create a URL List\n",
    "Using a loop, iterate through the attributions section of the air quality data and create a list of URLs. Assume the data structure is stored in a variable named data."
   ]
  },
  {
   "cell_type": "code",
   "execution_count": null,
   "id": "3fc0289d",
   "metadata": {},
   "outputs": [],
   "source": []
  },
  {
   "cell_type": "code",
   "execution_count": 31,
   "id": "0e70160f",
   "metadata": {},
   "outputs": [
    {
     "name": "stdout",
     "output_type": "stream",
     "text": [
      "List of URLs:\n"
     ]
    }
   ],
   "source": [
    "attributions = data.get('attributions', [])\n",
    "urls = []\n",
    "# Your loop to fill the `urls` list\n",
    "for attributions in attributions:\n",
    "    url = attributions.get('url')\n",
    "    if url:\n",
    "        urls.append(url)\n",
    "\n",
    "# Print the list of URLs\n",
    "print(\"List of URLs:\")\n",
    "for url in urls:\n",
    "    print(url)"
   ]
  },
  {
   "cell_type": "markdown",
   "id": "301501c9",
   "metadata": {},
   "source": [
    "Question 6: Advanced Function for Pollution Summary\n",
    "Create a function named pollution_summary that takes the air quality data dictionary as an argument and returns a summary dictionary. The summary should contain the number of pollutants measured, the highest pollutant value, and its corresponding pollutant name."
   ]
  },
  {
   "cell_type": "code",
   "execution_count": 32,
   "id": "b0b4e6c3",
   "metadata": {},
   "outputs": [],
   "source": [
    "def pollution_summary(data):\n",
    "    \"\"\"\n",
    "    Generate a summary dictionary containing the number of pollutants measured,\n",
    "    the highest pollutant value, and its corresponding pollutant name.\n",
    "\n",
    "    Args:\n",
    "    - data (dict): Air quality data dictionary obtained from the API.\n",
    "\n",
    "    Returns:\n",
    "    - dict: Summary dictionary containing the following keys:\n",
    "            - 'total_pollutants': Total number of pollutants measured.\n",
    "            - 'highest_pollutant': Name of the pollutant with the highest value.\n",
    "            - 'highest_value': Highest pollutant value.\n",
    "    \"\"\"\n",
    "    # Your code here\n",
    "    # Initialize variables to store summary information\n",
    "    total_pollutants = 0\n",
    "    highest_pollutant = None\n",
    "    highest_value = float('-inf')  # Initialize with negative infinity\n",
    "\n",
    "    # Check if 'iaqi' key exists in the data dictionary\n",
    "    if 'data' in data and 'iaqi' in data['data']:\n",
    "        # Count the number of pollutants measured\n",
    "        total_pollutants = len(data['data']['iaqi'])\n",
    "\n",
    "        # Iterate through pollutants and find the highest value\n",
    "        for pollutant, values in data['data']['iaqi'].items():\n",
    "            if 'v' in values:\n",
    "                pollutant_value = values['v']\n",
    "                if pollutant_value > highest_value:\n",
    "                    highest_value = pollutant_value\n",
    "                    highest_pollutant = pollutant\n",
    "\n",
    "    # Return the summary dictionary\n",
    "    return {\"total_pollutants\": total_pollutants, \"highest_pollutant\": highest_pollutant, \"highest_value\": highest_value}\n",
    "\n"
   ]
  },
  {
   "cell_type": "code",
   "execution_count": null,
   "id": "b8d90136",
   "metadata": {},
   "outputs": [],
   "source": []
  }
 ],
 "metadata": {
  "kernelspec": {
   "display_name": "Python 3 (ipykernel)",
   "language": "python",
   "name": "python3"
  },
  "language_info": {
   "codemirror_mode": {
    "name": "ipython",
    "version": 3
   },
   "file_extension": ".py",
   "mimetype": "text/x-python",
   "name": "python",
   "nbconvert_exporter": "python",
   "pygments_lexer": "ipython3",
   "version": "3.11.5"
  }
 },
 "nbformat": 4,
 "nbformat_minor": 5
}
