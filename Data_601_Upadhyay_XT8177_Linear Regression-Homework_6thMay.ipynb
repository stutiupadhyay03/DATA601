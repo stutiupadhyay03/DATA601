{
 "cells": [
  {
   "cell_type": "markdown",
   "id": "133ad188",
   "metadata": {},
   "source": [
    "##### Name: Stuti Upadhyay\n",
    "##### Campus ID: XT81177\n",
    "##### Instructor: Chalachew Jemberie"
   ]
  },
  {
   "cell_type": "markdown",
   "id": "e642b7cd",
   "metadata": {},
   "source": [
    "## Homework-Linear Regression Model \n",
    "\n",
    "\n",
    "### Dataset\n",
    "\n",
    "In this homework, we will use the California Housing Prices from [Kaggle](https://www.kaggle.com/datasets/camnugent/california-housing-prices).\n",
    "\n",
    "\n",
    "The goal of this homework is to create a regression model for predicting housing prices (column `'median_house_value'`)."
   ]
  },
  {
   "cell_type": "markdown",
   "id": "c5734144",
   "metadata": {},
   "source": [
    "### EDA\n",
    "\n",
    "* Load the data.\n",
    "* Look at the `median_house_value` variable. Does it have a long tail? \n",
    "\n",
    "### Features\n",
    "\n",
    "For the rest of the homework, you'll need to use only these columns:\n",
    "\n",
    "* `'latitude'`,\n",
    "* `'longitude'`,\n",
    "* `'housing_median_age'`,\n",
    "* `'total_rooms'`,\n",
    "* `'total_bedrooms'`,\n",
    "* `'population'`,\n",
    "* `'households'`,\n",
    "* `'median_income'`,\n",
    "* `'median_house_value'`\n",
    "\n",
    "Select only them."
   ]
  },
  {
   "cell_type": "code",
   "execution_count": 1,
   "id": "d18382d4",
   "metadata": {},
   "outputs": [
    {
     "name": "stdout",
     "output_type": "stream",
     "text": [
      "Long tail of median_house_value: 0.9777632739098341\n"
     ]
    }
   ],
   "source": [
    "import pandas as pd\n",
    "\n",
    "# Load the data\n",
    "data = pd.read_csv(\"housing.csv\")\n",
    "\n",
    "# Look at the median_house_value variable\n",
    "median_house_value = data['median_house_value']\n",
    "print(\"Long tail of median_house_value:\", median_house_value.skew())"
   ]
  },
  {
   "cell_type": "code",
   "execution_count": 2,
   "id": "1b50a3f8",
   "metadata": {},
   "outputs": [],
   "source": [
    "# Select required columns\n",
    "selected_columns = ['latitude', 'longitude', 'housing_median_age', 'total_rooms', 'total_bedrooms', \n",
    "                    'population', 'households', 'median_income', 'median_house_value']\n",
    "data = data[selected_columns]"
   ]
  },
  {
   "cell_type": "markdown",
   "id": "a1df7b5b",
   "metadata": {},
   "source": [
    "### Question 1\n",
    "\n",
    "Find a feature with missing values. How many missing values does it have?\n",
    "- 207\n",
    "- 307\n",
    "- 408\n",
    "- 508"
   ]
  },
  {
   "cell_type": "code",
   "execution_count": 3,
   "id": "af778653",
   "metadata": {},
   "outputs": [
    {
     "name": "stdout",
     "output_type": "stream",
     "text": [
      "Feature with missing values: total_bedrooms\n",
      "Number of missing values: 207\n"
     ]
    }
   ],
   "source": [
    "# Find feature with missing values\n",
    "missing_values_feature = data.columns[data.isnull().any()]\n",
    "print(\"Feature with missing values:\", missing_values_feature[0])\n",
    "print(\"Number of missing values:\", data[missing_values_feature[0]].isnull().sum())"
   ]
  },
  {
   "cell_type": "markdown",
   "id": "b6e68ec2",
   "metadata": {},
   "source": [
    "### Question 2\n",
    "\n",
    "What's the median (50% percentile) for variable 'population'?\n",
    "- 1133\n",
    "- 1122\n",
    "- 1166\n",
    "- 1188"
   ]
  },
  {
   "cell_type": "code",
   "execution_count": 4,
   "id": "a153a2df",
   "metadata": {},
   "outputs": [
    {
     "name": "stdout",
     "output_type": "stream",
     "text": [
      "Median for variable 'population': 1166.0\n"
     ]
    }
   ],
   "source": [
    "# Calculate median for population\n",
    "population_median = data['population'].median()\n",
    "print(\"Median for variable 'population':\", population_median)"
   ]
  },
  {
   "cell_type": "markdown",
   "id": "eeeb3900",
   "metadata": {},
   "source": [
    "### Split the data\n",
    "\n",
    "* Shuffle the initial dataset, use seed `42`.\n",
    "* Split your data in train/val/test sets, with 60%/20%/20% distribution.\n",
    "* Make sure that the target value ('median_house_value') is not in your dataframe.\n",
    "* Apply the log transformation to the median_house_value variable using the `np.log1p()` function."
   ]
  },
  {
   "cell_type": "code",
   "execution_count": 5,
   "id": "150fb9c2",
   "metadata": {},
   "outputs": [],
   "source": [
    "from sklearn.model_selection import train_test_split\n",
    "import numpy as np\n",
    "\n",
    "# Apply log transformation to the target variable\n",
    "data['median_house_value'] = np.log1p(data['median_house_value'])\n",
    "\n",
    "# Shuffle the initial dataset\n",
    "data_shuffled = data.sample(frac=1, random_state=42)\n",
    "\n",
    "# Split the data\n",
    "train_val, test = train_test_split(data_shuffled, test_size=0.2, random_state=42)\n",
    "train, val = train_test_split(train_val, test_size=0.25, random_state=42)"
   ]
  },
  {
   "cell_type": "markdown",
   "id": "452b5f3c",
   "metadata": {},
   "source": [
    "### Question 3\n",
    "\n",
    "* We need to deal with missing values for the column from Q1.\n",
    "* We have two options: fill it with 0 or with the mean of this variable.\n",
    "* Try both options. For each, train a linear regression model without regularization using the code from the lessons.\n",
    "* For computing the mean, use the training only!\n",
    "* Use the validation dataset to evaluate the models and compare the RMSE of each option.\n",
    "* Round the RMSE scores to 2 decimal digits using `round(score, 2)`\n",
    "* Which option gives better RMSE?\n",
    "\n",
    "Options:\n",
    "- With 0\n",
    "- With mean\n",
    "- Both are equally good"
   ]
  },
  {
   "cell_type": "code",
   "execution_count": 6,
   "id": "0c3b26ff",
   "metadata": {},
   "outputs": [
    {
     "name": "stdout",
     "output_type": "stream",
     "text": [
      "RMSE with 0: 0.34\n",
      "RMSE with mean: 0.34\n"
     ]
    }
   ],
   "source": [
    "from sklearn.linear_model import LinearRegression\n",
    "from sklearn.metrics import mean_squared_error\n",
    "\n",
    "# Option 1: Fill missing values with 0\n",
    "train_0 = train.fillna(0)\n",
    "val_0 = val.fillna(0)\n",
    "\n",
    "X_train_0 = train_0.drop('median_house_value', axis=1)\n",
    "y_train_0 = train_0['median_house_value']\n",
    "X_val_0 = val_0.drop('median_house_value', axis=1)\n",
    "y_val_0 = val_0['median_house_value']\n",
    "\n",
    "model_0 = LinearRegression()\n",
    "model_0.fit(X_train_0, y_train_0)\n",
    "predictions_0 = model_0.predict(X_val_0)\n",
    "rmse_0 = mean_squared_error(y_val_0, predictions_0, squared=False)\n",
    "\n",
    "# Option 2: Fill missing values with mean\n",
    "mean_value = train[missing_values_feature[0]].mean()\n",
    "train_mean = train.fillna(mean_value)\n",
    "val_mean = val.fillna(mean_value)\n",
    "\n",
    "X_train_mean = train_mean.drop('median_house_value', axis=1)\n",
    "y_train_mean = train_mean['median_house_value']\n",
    "X_val_mean = val_mean.drop('median_house_value', axis=1)\n",
    "y_val_mean = val_mean['median_house_value']\n",
    "\n",
    "model_mean = LinearRegression()\n",
    "model_mean.fit(X_train_mean, y_train_mean)\n",
    "predictions_mean = model_mean.predict(X_val_mean)\n",
    "rmse_mean = mean_squared_error(y_val_mean, predictions_mean, squared=False)\n",
    "\n",
    "print(\"RMSE with 0:\", round(rmse_0, 2))\n",
    "print(\"RMSE with mean:\", round(rmse_mean, 2))"
   ]
  },
  {
   "cell_type": "markdown",
   "id": "adec6b56",
   "metadata": {},
   "source": [
    "### Question 4\n",
    "\n",
    "* Now let's train a regularized linear regression.\n",
    "* For this question, fill the NAs with 0. \n",
    "* Try different values of `r` from this list: `[0, 0.000001, 0.0001, 0.001, 0.01, 0.1, 1, 5, 10]`.\n",
    "* Use RMSE to evaluate the model on the validation dataset.\n",
    "* Round the RMSE scores to 2 decimal digits.\n",
    "* Which `r` gives the best RMSE?\n",
    "\n",
    "If there are multiple options, select the smallest `r`.\n",
    "\n",
    "Options:\n",
    "- 0\n",
    "- 0.000001\n",
    "- 0.001\n",
    "- 0.0001"
   ]
  },
  {
   "cell_type": "code",
   "execution_count": 7,
   "id": "b13195ae",
   "metadata": {},
   "outputs": [
    {
     "name": "stdout",
     "output_type": "stream",
     "text": [
      "Best r: 0\n"
     ]
    }
   ],
   "source": [
    "# Fill NAs with 0\n",
    "train_reg = train.fillna(0)\n",
    "val_reg = val.fillna(0)\n",
    "\n",
    "X_train_reg = train_reg.drop('median_house_value', axis=1)\n",
    "y_train_reg = train_reg['median_house_value']\n",
    "X_val_reg = val_reg.drop('median_house_value', axis=1)\n",
    "y_val_reg = val_reg['median_house_value']\n",
    "\n",
    "# Try different values of r\n",
    "rs = [0, 0.000001, 0.0001, 0.001, 0.01, 0.1, 1, 5, 10]\n",
    "best_r = None\n",
    "best_rmse = float('inf')\n",
    "\n",
    "for r in rs:\n",
    "    model_reg = LinearRegression()\n",
    "    model_reg.fit(X_train_reg, y_train_reg)\n",
    "    predictions_reg = model_reg.predict(X_val_reg)\n",
    "    rmse_reg = mean_squared_error(y_val_reg, predictions_reg, squared=False)\n",
    "    \n",
    "    if rmse_reg < best_rmse:\n",
    "        best_rmse = rmse_reg\n",
    "        best_r = r\n",
    "\n",
    "print(\"Best r:\", best_r)"
   ]
  },
  {
   "cell_type": "markdown",
   "id": "48d5a85a",
   "metadata": {},
   "source": [
    "### Question 5 \n",
    "\n",
    "* We used seed 42 for splitting the data. Let's find out how selecting the seed influences our score.\n",
    "* Try different seed values: `[0, 1, 2, 3, 4, 5, 6, 7, 8, 9]`.\n",
    "* For each seed, do the train/validation/test split with 60%/20%/20% distribution.\n",
    "* Fill the missing values with 0 and train a model without regularization.\n",
    "* For each seed, evaluate the model on the validation dataset and collect the RMSE scores. \n",
    "* What's the standard deviation of all the scores? To compute the standard deviation, use `np.std`.\n",
    "* Round the result to 3 decimal digits (`round(std, 3)`)\n",
    "\n",
    "> Note: Standard deviation shows how different the values are.\n",
    "> If it's low, then all values are approximately the same.\n",
    "> If it's high, the values are different. \n",
    "> If standard deviation of scores is low, then our model is *stable*.\n",
    "\n",
    "Options:\n",
    "- 0.16\n",
    "- 0.00005\n",
    "- 0.005\n",
    "- 0.15555"
   ]
  },
  {
   "cell_type": "code",
   "execution_count": 8,
   "id": "5d009cfc",
   "metadata": {},
   "outputs": [
    {
     "name": "stdout",
     "output_type": "stream",
     "text": [
      "Standard deviation of scores: 0.005\n"
     ]
    }
   ],
   "source": [
    "seed_scores = []\n",
    "\n",
    "seeds = [0, 1, 2, 3, 4, 5, 6, 7, 8, 9]\n",
    "\n",
    "for seed in seeds:\n",
    "    # Split the data\n",
    "    train_val_seed, test_seed = train_test_split(data_shuffled, test_size=0.2, random_state=seed)\n",
    "    train_seed, val_seed = train_test_split(train_val_seed, test_size=0.25, random_state=seed)\n",
    "    \n",
    "    # Fill missing values with 0\n",
    "    train_seed = train_seed.fillna(0)\n",
    "    val_seed = val_seed.fillna(0)\n",
    "    \n",
    "    X_train_seed = train_seed.drop('median_house_value', axis=1)\n",
    "    y_train_seed = train_seed['median_house_value']\n",
    "    X_val_seed = val_seed.drop('median_house_value', axis=1)\n",
    "    y_val_seed = val_seed['median_house_value']\n",
    "    \n",
    "    model_seed = LinearRegression()\n",
    "    model_seed.fit(X_train_seed, y_train_seed)\n",
    "    predictions_seed = model_seed.predict(X_val_seed)\n",
    "    rmse_seed = mean_squared_error(y_val_seed, predictions_seed, squared=False)\n",
    "    \n",
    "    seed_scores.append(rmse_seed)\n",
    "\n",
    "std_dev = np.std(seed_scores)\n",
    "print(\"Standard deviation of scores:\", round(std_dev, 3))"
   ]
  },
  {
   "cell_type": "markdown",
   "id": "abda626c",
   "metadata": {},
   "source": [
    "### Question 6\n",
    "\n",
    "* Split the dataset like previously, use seed 9.\n",
    "* Combine train and validation datasets.\n",
    "* Fill the missing values with 0 and train a model with `r=0.001`. \n",
    "* What's the RMSE on the test dataset?\n",
    "\n",
    "Options:\n",
    "- 0.35\n",
    "- 0.135\n",
    "- 0.450\n",
    "- 0.245"
   ]
  },
  {
   "cell_type": "code",
   "execution_count": 9,
   "id": "1c34d85a",
   "metadata": {},
   "outputs": [
    {
     "name": "stdout",
     "output_type": "stream",
     "text": [
      "RMSE on test dataset: 0.34\n"
     ]
    }
   ],
   "source": [
    "# Split dataset\n",
    "train_test_seed, _ = train_test_split(data_shuffled, test_size=0.2, random_state=9)\n",
    "train_test = train_test_seed.fillna(0)\n",
    "test_set = test.fillna(0)\n",
    "\n",
    "X_train_test = train_test.drop('median_house_value', axis=1)\n",
    "y_train_test = train_test['median_house_value']\n",
    "X_test_set = test_set.drop('median_house_value', axis=1)\n",
    "y_test_set = test_set['median_house_value']\n",
    "\n",
    "# Train a model with r=0.001\n",
    "model_test = LinearRegression()\n",
    "model_test.fit(X_train_test, y_train_test)\n",
    "predictions_test = model_test.predict(X_test_set)\n",
    "rmse_test = mean_squared_error(y_test_set, predictions_test, squared=False)\n",
    "\n",
    "print(\"RMSE on test dataset:\", round(rmse_test, 3))"
   ]
  }
 ],
 "metadata": {
  "kernelspec": {
   "display_name": "Python 3 (ipykernel)",
   "language": "python",
   "name": "python3"
  },
  "language_info": {
   "codemirror_mode": {
    "name": "ipython",
    "version": 3
   },
   "file_extension": ".py",
   "mimetype": "text/x-python",
   "name": "python",
   "nbconvert_exporter": "python",
   "pygments_lexer": "ipython3",
   "version": "3.11.5"
  }
 },
 "nbformat": 4,
 "nbformat_minor": 5
}
