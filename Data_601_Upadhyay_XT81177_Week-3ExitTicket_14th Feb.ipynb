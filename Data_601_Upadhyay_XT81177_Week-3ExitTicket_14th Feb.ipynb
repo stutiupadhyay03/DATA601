{
 "cells": [
  {
   "cell_type": "markdown",
   "id": "296e94ff",
   "metadata": {},
   "source": [
    "#### Name: Stuti Upadhyay\n",
    "#### Campus ID: XT8177\n",
    "#### Instructor: Chalachew Jemberie"
   ]
  },
  {
   "cell_type": "markdown",
   "id": "32e2efd3",
   "metadata": {},
   "source": [
    "\n",
    "### Python Variable Assignment\n",
    "\n",
    "**Markdown Cell:**\n",
    "\n",
    "Variables in Python are used to store information that can be retrieved or modified later. They are assigned using the equals sign (`=`).\n",
    "\n",
    "**Code Cell:**\n",
    "\n",
    "```python\n",
    "# Variable assignment\n",
    "x = 5\n",
    "y = \"Hello, World!\"\n",
    "```\n",
    "\n",
    "**Exercises:**\n",
    "\n",
    "1. Assign the integer `10` to a variable named `a`.\n",
    "2. Assign the string `Learning Python` to a variable named `b`.\n",
    "3. Print the values of `a` and `b`.\n"
   ]
  },
  {
   "cell_type": "code",
   "execution_count": 1,
   "id": "136253ac",
   "metadata": {},
   "outputs": [],
   "source": [
    "a=10\n",
    "b=\"Learning Python\""
   ]
  },
  {
   "cell_type": "code",
   "execution_count": 2,
   "id": "e919ee28",
   "metadata": {},
   "outputs": [
    {
     "data": {
      "text/plain": [
       "10"
      ]
     },
     "execution_count": 2,
     "metadata": {},
     "output_type": "execute_result"
    }
   ],
   "source": [
    "a"
   ]
  },
  {
   "cell_type": "code",
   "execution_count": 3,
   "id": "08353e71",
   "metadata": {},
   "outputs": [
    {
     "data": {
      "text/plain": [
       "'Learning Python'"
      ]
     },
     "execution_count": 3,
     "metadata": {},
     "output_type": "execute_result"
    }
   ],
   "source": [
    "b"
   ]
  },
  {
   "cell_type": "markdown",
   "id": "348b5dc7",
   "metadata": {},
   "source": [
    "### Expanded Example for Data Structures\n",
    "\n",
    "**Markdown Cell:**\n",
    "\n",
    "Python's built-in data structures like lists, dictionaries, sets, and tuples allow for complex data organization. Here's a deeper dive into using these structures.\n",
    "\n",
    "**Code Cell:**\n",
    "\n",
    "```python\n",
    "# Lists: Ordered, mutable collections\n",
    "fruits = [\"apple\", \"banana\", \"cherry\"]\n",
    "fruits.append(\"orange\")  # Adding an item\n",
    "print(fruits)\n",
    "\n",
    "# Dictionaries: Key-value pairs\n",
    "person = {\"name\": \"Alice\", \"age\": 30}\n",
    "person[\"city\"] = \"New York\"  # Adding a new key-value pair\n",
    "print(person)\n",
    "\n",
    "# Sets: Unordered collections of unique elements\n",
    "numbers = {1, 2, 3, 3}\n",
    "numbers.add(4)  # Adding an element\n",
    "print(numbers)\n",
    "\n",
    "# Tuples: Ordered, immutable collections\n",
    "colors = (\"red\", \"green\", \"blue\")\n",
    "print(colors)\n",
    "```\n",
    "\n",
    "**Additional Exercise for Data Structures:**\n",
    "\n",
    "1. Remove `\"banana\"` from `fruits` and print the list.\n",
    "2. Update `person`'s `\"age\"` to `31`.\n",
    "3. Check if `5` is in `numbers`.\n",
    "4. Find the length of the `colors` tuple.\n"
   ]
  },
  {
   "cell_type": "code",
   "execution_count": 4,
   "id": "1c7d4e64",
   "metadata": {},
   "outputs": [
    {
     "name": "stdout",
     "output_type": "stream",
     "text": [
      "['apple', 'banana', 'cherry', 'orange']\n",
      "{'name': 'Alice', 'age': 30, 'city': 'New York'}\n",
      "{1, 2, 3, 4}\n",
      "('red', 'green', 'blue')\n"
     ]
    }
   ],
   "source": [
    "# Lists: Ordered, mutable collections\n",
    "fruits = [\"apple\", \"banana\", \"cherry\"]\n",
    "fruits.append(\"orange\")  # Adding an item\n",
    "print(fruits)\n",
    "\n",
    "# Dictionaries: Key-value pairs\n",
    "person = {\"name\": \"Alice\", \"age\": 30}\n",
    "person[\"city\"] = \"New York\"  # Adding a new key-value pair\n",
    "print(person)\n",
    "\n",
    "# Sets: Unordered collections of unique elements\n",
    "numbers = {1, 2, 3, 3}\n",
    "numbers.add(4)  # Adding an element\n",
    "print(numbers)\n",
    "\n",
    "# Tuples: Ordered, immutable collections\n",
    "colors = (\"red\", \"green\", \"blue\")\n",
    "print(colors)"
   ]
  },
  {
   "cell_type": "code",
   "execution_count": 5,
   "id": "9fe5a5f3",
   "metadata": {},
   "outputs": [
    {
     "name": "stdout",
     "output_type": "stream",
     "text": [
      "['apple', 'cherry', 'orange']\n",
      "{'name': 'Alice', 'age': 31, 'city': 'New York'}\n",
      "False\n",
      "3\n"
     ]
    }
   ],
   "source": [
    "# Remove \"banana\" from fruits and print the list\n",
    "fruits.remove(\"banana\")\n",
    "print(fruits)\n",
    "\n",
    "# Update person's \"age\" to 31\n",
    "person[\"age\"] = 31\n",
    "print(person)\n",
    "\n",
    "# Check if 5 is in numbers\n",
    "print(5 in numbers)\n",
    "\n",
    "# Find the length of the colors tuple\n",
    "print(len(colors))"
   ]
  },
  {
   "cell_type": "markdown",
   "id": "2eea8dcc",
   "metadata": {},
   "source": [
    "### Python Data Types\n",
    "\n",
    "**Markdown Cell:**\n",
    "\n",
    "Python has several built-in data types, including integers (`int`), floating-point numbers (`float`), strings (`str`), and booleans (`bool`).\n",
    "\n",
    "**Code Cell:**\n",
    "\n",
    "```python\n",
    "# Data types\n",
    "integer_example = 10\n",
    "float_example = 10.5\n",
    "string_example = \"Python\"\n",
    "boolean_example = True\n",
    "```\n",
    "\n",
    "**Exercises:**\n",
    "\n",
    "1. Create a variable `pi` and assign the float value `3.14` to it.\n",
    "2. Create a variable `is_easy` and assign a boolean value `True` indicating Python is easy.\n",
    "3. Check the type of `pi` and `is_easy` using the `type()` function."
   ]
  },
  {
   "cell_type": "code",
   "execution_count": 6,
   "id": "f8d29dea",
   "metadata": {},
   "outputs": [],
   "source": [
    "# Data types\n",
    "integer_example = 10\n",
    "float_example = 10.5\n",
    "string_example = \"Python\"\n",
    "boolean_example = True"
   ]
  },
  {
   "cell_type": "code",
   "execution_count": 7,
   "id": "630f8cbb",
   "metadata": {},
   "outputs": [
    {
     "name": "stdout",
     "output_type": "stream",
     "text": [
      "<class 'float'>\n",
      "<class 'bool'>\n"
     ]
    }
   ],
   "source": [
    "# Create a variable pi and assign the float value 3.14 to it\n",
    "pi = 3.14\n",
    "\n",
    "# Create a variable is_easy and assign a boolean value True indicating Python is easy\n",
    "is_easy = True\n",
    "\n",
    "# Check the type of pi and is_easy using the type() function\n",
    "print(type(pi))      \n",
    "print(type(is_easy)) \n"
   ]
  },
  {
   "cell_type": "markdown",
   "id": "05e4cd49",
   "metadata": {},
   "source": [
    "\n",
    "### Python Data Structures\n",
    "\n",
    "**Markdown Cell:**\n",
    "\n",
    "Python includes several built-in data structures such as lists, dictionaries, sets, and tuples, which allow more complex data storage and organization.\n",
    "\n",
    "**Code Cell:**\n",
    "\n",
    "```python\n",
    "# Data structures\n",
    "list_example = [1, 2, 3, 4, 5]\n",
    "dict_example = {'name': 'John', 'age': 30}\n",
    "set_example = {1, 2, 3}\n",
    "tuple_example = (1, 2, 3)\n",
    "```\n",
    "\n",
    "**Exercises:**\n",
    "\n",
    "1. Create a list named `fruits` containing `\"apple\"`, `\"banana\"`, and `\"cherry\"`.\n",
    "2. Add `\"orange\"` to `fruits`.\n",
    "3. Create a dictionary `person` with keys `\"name\"` and `\"age\"` and values `\"Alice\"` and `30`."
   ]
  },
  {
   "cell_type": "code",
   "execution_count": 8,
   "id": "398812a6",
   "metadata": {},
   "outputs": [],
   "source": [
    "# Data structures\n",
    "list_example = [1, 2, 3, 4, 5]\n",
    "dict_example = {'name': 'John', 'age': 30}\n",
    "set_example = {1, 2, 3}\n",
    "tuple_example = (1, 2, 3)"
   ]
  },
  {
   "cell_type": "code",
   "execution_count": 9,
   "id": "824408c6",
   "metadata": {},
   "outputs": [],
   "source": [
    "# Create a list named fruits containing \"apple\", \"banana\", and \"cherry\"\n",
    "fruits = [\"apple\", \"banana\", \"cherry\"]\n",
    "\n",
    "# Add \"orange\" to fruits\n",
    "fruits.append(\"orange\")\n",
    "\n",
    "# Create a dictionary person with keys \"name\" and \"age\" and values \"Alice\" and 30\n",
    "person = {\"name\": \"Alice\", \"age\": 30}\n"
   ]
  },
  {
   "cell_type": "markdown",
   "id": "6b385912",
   "metadata": {},
   "source": [
    "### Python Conditionals\n",
    "\n",
    "**Markdown Cell:**\n",
    "\n",
    "Conditionals in Python use `if`, `elif`, and `else` statements to execute different blocks of code based on certain conditions.\n",
    "\n",
    "**Code Cell:**\n",
    "\n",
    "```python\n",
    "# Conditionals\n",
    "a = 10\n",
    "if a > 5:\n",
    "    print(\"a is greater than 5\")\n",
    "elif a == 5:\n",
    "    print(\"a is equal to 5\")\n",
    "else:\n",
    "    print(\"a is less than 5\")\n",
    "```\n",
    "\n",
    "**Exercises:**\n",
    "\n",
    "1. Write an if statement to check if a number stored in a variable `x` is positive or negative.\n",
    "2. Create a variable `age` and write a conditional to print \"You can drive\" if `age` is 18 or over, or \"You cannot drive\" if under 18."
   ]
  },
  {
   "cell_type": "code",
   "execution_count": 10,
   "id": "1dd072ba",
   "metadata": {},
   "outputs": [
    {
     "name": "stdout",
     "output_type": "stream",
     "text": [
      "a is greater than 5\n"
     ]
    }
   ],
   "source": [
    "# Conditionals\n",
    "a = 10\n",
    "if a > 5:\n",
    "    print(\"a is greater than 5\")\n",
    "elif a == 5:\n",
    "    print(\"a is equal to 5\")\n",
    "else:\n",
    "    print(\"a is less than 5\")"
   ]
  },
  {
   "cell_type": "code",
   "execution_count": 11,
   "id": "b9cb64ba",
   "metadata": {},
   "outputs": [
    {
     "name": "stdout",
     "output_type": "stream",
     "text": [
      "Please write your number:-85\n",
      "x is negative\n"
     ]
    }
   ],
   "source": [
    "# Check if a number stored in a variable x is positive or negative\n",
    "x = int(input(\"Please write your number:\"))\n",
    "if x > 0:\n",
    "    print(\"x is positive\")\n",
    "elif x < 0:\n",
    "    print(\"x is negative\")\n",
    "else:\n",
    "    print(\"x is zero\")"
   ]
  },
  {
   "cell_type": "code",
   "execution_count": 12,
   "id": "7304cfa7",
   "metadata": {},
   "outputs": [
    {
     "name": "stdout",
     "output_type": "stream",
     "text": [
      "Please write your number:45\n",
      "x is positive\n"
     ]
    }
   ],
   "source": [
    "# Check if a number stored in a variable x is positive or negative\n",
    "x = int(input(\"Please write your number:\"))\n",
    "if x > 0:\n",
    "    print(\"x is positive\")\n",
    "elif x < 0:\n",
    "    print(\"x is negative\")\n",
    "else:\n",
    "    print(\"x is zero\")"
   ]
  },
  {
   "cell_type": "code",
   "execution_count": 14,
   "id": "35118a51",
   "metadata": {},
   "outputs": [
    {
     "name": "stdout",
     "output_type": "stream",
     "text": [
      "Please write your age:16\n",
      "You cannot drive\n"
     ]
    }
   ],
   "source": [
    "# Create a variable age and write a conditional to print \"You can drive\" if age is 18 or over,\n",
    "# or \"You cannot drive\" if under 18\n",
    "age = int(input(\"Please write your age:\"))\n",
    "if age >= 18:\n",
    "    print(\"You can drive\")\n",
    "else:\n",
    "    print(\"You cannot drive\")"
   ]
  },
  {
   "cell_type": "code",
   "execution_count": 15,
   "id": "24712cd8",
   "metadata": {},
   "outputs": [
    {
     "name": "stdout",
     "output_type": "stream",
     "text": [
      "Please write your age:44\n",
      "You can drive\n"
     ]
    }
   ],
   "source": [
    "# Create a variable age and write a conditional to print \"You can drive\" if age is 18 or over,\n",
    "# or \"You cannot drive\" if under 18\n",
    "age = int(input(\"Please write your age:\"))\n",
    "if age >= 18:\n",
    "    print(\"You can drive\")\n",
    "else:\n",
    "    print(\"You cannot drive\")"
   ]
  },
  {
   "cell_type": "markdown",
   "id": "0f0df34b",
   "metadata": {},
   "source": [
    "\n",
    "### Python Looping\n",
    "\n",
    "**Markdown Cell:**\n",
    "\n",
    "Loops in Python, such as `for` and `while`, are used to execute a block of code multiple times.\n",
    "\n",
    "**Code Cell:**\n",
    "\n",
    "```python\n",
    "# Looping\n",
    "for i in range(5):\n",
    "    print(i)\n",
    "\n",
    "j = 0\n",
    "while j < 5:\n",
    "    print(j)\n",
    "    j += 1\n",
    "```\n",
    "\n",
    "**Exercises:**\n",
    "\n",
    "1. Use a `for` loop to print each item in the `fruits` list created earlier.\n",
    "2. Use a `while` loop to count down from 10 to 1, printing each number.\n"
   ]
  },
  {
   "cell_type": "code",
   "execution_count": 16,
   "id": "33579195",
   "metadata": {},
   "outputs": [
    {
     "name": "stdout",
     "output_type": "stream",
     "text": [
      "0\n",
      "1\n",
      "2\n",
      "3\n",
      "4\n",
      "0\n",
      "1\n",
      "2\n",
      "3\n",
      "4\n"
     ]
    }
   ],
   "source": [
    "# Looping\n",
    "for i in range(5):\n",
    "    print(i)\n",
    "\n",
    "j = 0\n",
    "while j < 5:\n",
    "    print(j)\n",
    "    j += 1"
   ]
  },
  {
   "cell_type": "code",
   "execution_count": 18,
   "id": "e6bfed89",
   "metadata": {},
   "outputs": [
    {
     "name": "stdout",
     "output_type": "stream",
     "text": [
      "apple\n",
      "banana\n",
      "cherry\n",
      "orange\n"
     ]
    }
   ],
   "source": [
    "# Print each item in the fruits list using a for loop\n",
    "fruits = [\"apple\", \"banana\", \"cherry\", \"orange\"]\n",
    "for fruit in fruits:\n",
    "    print(fruit)\n"
   ]
  },
  {
   "cell_type": "code",
   "execution_count": 19,
   "id": "2b23a508",
   "metadata": {},
   "outputs": [
    {
     "name": "stdout",
     "output_type": "stream",
     "text": [
      "10\n",
      "9\n",
      "8\n",
      "7\n",
      "6\n",
      "5\n",
      "4\n",
      "3\n",
      "2\n",
      "1\n"
     ]
    }
   ],
   "source": [
    "# Use a while loop to count down from 10 to 1, printing each number\n",
    "count = 10\n",
    "while count >= 1:\n",
    "    print(count)\n",
    "    count -= 1"
   ]
  },
  {
   "cell_type": "markdown",
   "id": "bd4756ab",
   "metadata": {},
   "source": [
    "### Strings and String Manipulation\n",
    "\n",
    "**Markdown Cell:**\n",
    "\n",
    "Strings in Python are sequences of characters used to store text. They can be manipulated in various ways, such as slicing, concatenation, and formatting.\n",
    "\n",
    "**Code Cell:**\n",
    "\n",
    "```python\n",
    "# Creating a string\n",
    "my_string = \"Hello, Python!\"\n",
    "\n",
    "# Accessing string characters\n",
    "first_char = my_string[0]\n",
    "\n",
    "# Slicing strings\n",
    "substring = my_string[0:5]\n",
    "\n",
    "# String length\n",
    "string_length = len(my_string)\n",
    "\n",
    "print(\"First character:\", first_char)\n",
    "print(\"Substring:\", substring)\n",
    "print(\"Length of string:\", string_length)\n",
    "```\n",
    "\n",
    "**Exercises:**\n",
    "\n",
    "1. Create a string variable `greeting` with the value `\"Hello, World!\"` and print it.\n",
    "2. Slice the `greeting` string to extract `\"World\"` from it.\n",
    "3. Find the length of your `greeting` string and print it.\n",
    "4. Concatenate two strings `\"Data\"` and `\"Science\"` to form `\"DataScience\"`."
   ]
  },
  {
   "cell_type": "code",
   "execution_count": 20,
   "id": "e8db4684",
   "metadata": {},
   "outputs": [
    {
     "name": "stdout",
     "output_type": "stream",
     "text": [
      "First character: H\n",
      "Substring: Hello\n",
      "Length of string: 14\n"
     ]
    }
   ],
   "source": [
    "# Creating a string\n",
    "my_string = \"Hello, Python!\"\n",
    "\n",
    "# Accessing string characters\n",
    "first_char = my_string[0]\n",
    "\n",
    "# Slicing strings\n",
    "substring = my_string[0:5]\n",
    "\n",
    "# String length\n",
    "string_length = len(my_string)\n",
    "\n",
    "print(\"First character:\", first_char)\n",
    "print(\"Substring:\", substring)\n",
    "print(\"Length of string:\", string_length)"
   ]
  },
  {
   "cell_type": "code",
   "execution_count": 21,
   "id": "f0dd6142",
   "metadata": {},
   "outputs": [
    {
     "name": "stdout",
     "output_type": "stream",
     "text": [
      "Hello, World!\n",
      "World\n",
      "Length of greeting string: 13\n",
      "DataScience\n"
     ]
    }
   ],
   "source": [
    "# Create a string variable greeting with the value \"Hello, World!\" and print it\n",
    "greeting = \"Hello, World!\"\n",
    "print(greeting)\n",
    "\n",
    "# Slice the greeting string to extract \"World\" from it\n",
    "world_part = greeting[7:12]\n",
    "print(world_part)\n",
    "\n",
    "# Find the length of your greeting string and print it\n",
    "greeting_length = len(greeting)\n",
    "print(\"Length of greeting string:\", greeting_length)\n",
    "\n",
    "# Concatenate two strings \"Data\" and \"Science\" to form \"DataScience\"\n",
    "concatenated_string = \"Data\" + \"Science\"\n",
    "print(concatenated_string)"
   ]
  },
  {
   "cell_type": "markdown",
   "id": "cbd9ea59",
   "metadata": {},
   "source": [
    "### Introduction to Python List Comprehension\n",
    "List comprehensions provide a concise way to create lists. The syntax is `[expression for item in iterable if condition]`."
   ]
  },
  {
   "cell_type": "code",
   "execution_count": 22,
   "id": "3f687c50",
   "metadata": {},
   "outputs": [],
   "source": [
    "squares = [x**2 for x in range(10)]"
   ]
  },
  {
   "cell_type": "code",
   "execution_count": 23,
   "id": "d68cb489",
   "metadata": {},
   "outputs": [
    {
     "data": {
      "text/plain": [
       "[0, 1, 4, 9, 16, 25, 36, 49, 64, 81]"
      ]
     },
     "execution_count": 23,
     "metadata": {},
     "output_type": "execute_result"
    }
   ],
   "source": [
    "squares"
   ]
  },
  {
   "cell_type": "markdown",
   "id": "cd368e56",
   "metadata": {},
   "source": [
    "\n",
    "###  Exercises on List Comprehension\n",
    "1. Create a list of the first 10 even numbers using list comprehension.\n",
    "2. Use list comprehension to convert all the strings in the list `['1', '2', '3']` to integers.\n",
    "3. Create a list of squares of all even numbers between 1 and 20 inclusive."
   ]
  },
  {
   "cell_type": "code",
   "execution_count": 24,
   "id": "173d8d27",
   "metadata": {},
   "outputs": [
    {
     "name": "stdout",
     "output_type": "stream",
     "text": [
      "[2, 4, 6, 8, 10, 12, 14, 16, 18, 20]\n"
     ]
    }
   ],
   "source": [
    "#Create a list of the first 10 even numbers using list comprehension.\n",
    "even = [x for x in range(2, 21, 2)]\n",
    "print(even)"
   ]
  },
  {
   "cell_type": "code",
   "execution_count": 25,
   "id": "7d61e612",
   "metadata": {},
   "outputs": [
    {
     "name": "stdout",
     "output_type": "stream",
     "text": [
      "[1, 2, 3]\n"
     ]
    }
   ],
   "source": [
    "#Use list comprehension to convert all the strings in the list ['1', '2', '3'] to integers.\n",
    "string_list = ['1', '2', '3']\n",
    "integers_list = [int(x) for x in string_list]\n",
    "print(integers_list)"
   ]
  },
  {
   "cell_type": "code",
   "execution_count": 26,
   "id": "46d8c2d1",
   "metadata": {},
   "outputs": [
    {
     "name": "stdout",
     "output_type": "stream",
     "text": [
      "[4, 16, 36, 64, 100, 144, 196, 256, 324, 400]\n"
     ]
    }
   ],
   "source": [
    "#Create a list of squares of all even numbers between 1 and 20 inclusive.\n",
    "squares_of_evens = [x ** 2 for x in range(2, 21, 2)]\n",
    "print(squares_of_evens)"
   ]
  },
  {
   "cell_type": "markdown",
   "id": "f38d62d1",
   "metadata": {},
   "source": [
    "### Python Functions\n",
    "- **Review**: Functions in Python are defined using the `def` keyword.\n",
    "- **Example**: A simple `greet` function.\n",
    "- **Exercises**: Writing functions for mathematical operations, checking palindromes, and calculating factorials"
   ]
  },
  {
   "cell_type": "code",
   "execution_count": 27,
   "id": "de62f5f0",
   "metadata": {},
   "outputs": [],
   "source": [
    "def greet(name):\n",
    "    return f\"Hello, {name}!\""
   ]
  },
  {
   "cell_type": "code",
   "execution_count": 29,
   "id": "1dc334c9",
   "metadata": {},
   "outputs": [
    {
     "name": "stdout",
     "output_type": "stream",
     "text": [
      "Hello, Stuti!\n"
     ]
    }
   ],
   "source": [
    "name = \"Stuti\"\n",
    "greeting_message = greet(name)\n",
    "print(greeting_message)"
   ]
  },
  {
   "cell_type": "markdown",
   "id": "2f214228",
   "metadata": {},
   "source": [
    "Exercises:\n",
    "\n",
    "- Write a function max_of_three that takes three numbers as arguments and returns the largest of them.\n",
    "- Create a function is_palindrome that checks if a given string is a palindrome.\n",
    "- Write a function factorial(n) that returns the factorial of a number."
   ]
  },
  {
   "cell_type": "code",
   "execution_count": 32,
   "id": "849c6655",
   "metadata": {},
   "outputs": [
    {
     "name": "stdout",
     "output_type": "stream",
     "text": [
      "Max of three numbers: 8\n",
      "Is 'radar' a palindrome? True\n",
      "Factorial of 5: 120\n"
     ]
    }
   ],
   "source": [
    "# Function to find the maximum of three numbers\n",
    "def max_of_three(num1, num2, num3):\n",
    "    return max(num1, num2, num3)\n",
    "\n",
    "# Function to check if a string is a palindrome\n",
    "def is_palindrome(s):\n",
    "    s = s.lower()\n",
    "    return s == s[::-1]\n",
    "\n",
    "# Function to calculate the factorial of a number\n",
    "def factorial(n):\n",
    "    if n < 0:\n",
    "        return \"Factorial is not defined for negative numbers!\"\n",
    "    elif n == 0:\n",
    "        return 1\n",
    "    else:\n",
    "        result = 1\n",
    "        for i in range(1, n + 1):\n",
    "            result *= i\n",
    "        return result\n",
    "\n",
    "# Example usage\n",
    "print(\"Max of three numbers:\", max_of_three(5, 3, 8))\n",
    "print(\"Is 'radar' a palindrome?\", is_palindrome(\"radar\"))\n",
    "print(\"Factorial of 5:\", factorial(5))\n"
   ]
  },
  {
   "cell_type": "markdown",
   "id": "2be856a6",
   "metadata": {},
   "source": [
    "### Python OOP (Object-Oriented Programming)\n",
    "- **Review**: OOP allows for organizing code into classes and objects.\n",
    "- **Example**: Defining a `Person` class.\n",
    "- **Exercises**: Creating a `Circle` class, defining a `Student` class, and extending the `Person` class with additional functionality."
   ]
  },
  {
   "cell_type": "code",
   "execution_count": 33,
   "id": "b4a1c629",
   "metadata": {},
   "outputs": [],
   "source": [
    "class Person:\n",
    "    def __init__(self, name, age):\n",
    "        self.name = name\n",
    "        self.age = age"
   ]
  },
  {
   "cell_type": "code",
   "execution_count": 34,
   "id": "d2e01351",
   "metadata": {},
   "outputs": [
    {
     "name": "stdout",
     "output_type": "stream",
     "text": [
      "Stuti\n",
      "22\n"
     ]
    }
   ],
   "source": [
    "# Creating a new Person object\n",
    "person1 = Person(\"Stuti\", 22)\n",
    "\n",
    "# Accessing attributes of the object\n",
    "print(person1.name)  \n",
    "print(person1.age)   "
   ]
  },
  {
   "cell_type": "markdown",
   "id": "ed4a609f",
   "metadata": {},
   "source": [
    "Exercises:\n",
    "\n",
    "- Create a Circle class with a method area() that calculates and returns its area.\n",
    "- Define a Student class with properties name and grade and a method to print student details.\n",
    "- Extend the Person class with a method greet that prints a greeting"
   ]
  },
  {
   "cell_type": "code",
   "execution_count": 36,
   "id": "f6dc54f0",
   "metadata": {},
   "outputs": [
    {
     "name": "stdout",
     "output_type": "stream",
     "text": [
      "Area of the circle: 78.53981633974483\n",
      "Name: Stuti, Grade: 22\n",
      "Hello, Vidhi!\n"
     ]
    }
   ],
   "source": [
    "import math\n",
    "\n",
    "class Circle:\n",
    "    def __init__(self, radius):\n",
    "        self.radius = radius\n",
    "    \n",
    "    def area(self):\n",
    "        return math.pi * self.radius ** 2\n",
    "\n",
    "class Student:\n",
    "    def __init__(self, name, grade):\n",
    "        self.name = name\n",
    "        self.grade = grade\n",
    "    \n",
    "    def print_details(self):\n",
    "        print(f\"Name: {self.name}, Grade: {self.grade}\")\n",
    "\n",
    "class Person:\n",
    "    def __init__(self, name, age):\n",
    "        self.name = name\n",
    "        self.age = age\n",
    "    \n",
    "    def greet(self):\n",
    "        print(f\"Hello, {self.name}!\")\n",
    "\n",
    "# Example usage of the Circle class\n",
    "circle = Circle(5)\n",
    "print(\"Area of the circle:\", circle.area())\n",
    "\n",
    "# Example usage of the Student class\n",
    "student = Student(\"Stuti\", 22)\n",
    "student.print_details()\n",
    "\n",
    "# Example usage of the Person class\n",
    "person = Person(\"Vidhi\", 17)\n",
    "person.greet()"
   ]
  },
  {
   "cell_type": "markdown",
   "id": "57286074",
   "metadata": {},
   "source": [
    "\n",
    "\n",
    "### Python File System\n",
    "- **Review**: Python provides functions for file operations.\n",
    "- **Example**: Opening and reading from a file.\n",
    "- **Exercises**: Script to read a file line by line, function to write a list to a file, and modifying the function to append instead of overwrite."
   ]
  },
  {
   "cell_type": "code",
   "execution_count": 37,
   "id": "dcb3414b",
   "metadata": {},
   "outputs": [],
   "source": [
    "with open('example.txt', 'r') as file:\n",
    "    content = file.read()"
   ]
  },
  {
   "cell_type": "code",
   "execution_count": 38,
   "id": "c72e17d6",
   "metadata": {},
   "outputs": [
    {
     "name": "stdout",
     "output_type": "stream",
     "text": [
      "Hello!!! My name is Stuti Upadhyay\n"
     ]
    }
   ],
   "source": [
    "print(content)"
   ]
  },
  {
   "cell_type": "markdown",
   "id": "76437c0c",
   "metadata": {},
   "source": [
    "Exercises:\n",
    "\n",
    "- Write a Python script to read a file line by line and save it into a list.\n",
    "- Create a function that writes a given list to a file, with each element on a new line.\n",
    "- Modify the above function to append to the file instead of overwriting it."
   ]
  },
  {
   "cell_type": "code",
   "execution_count": 39,
   "id": "bc030bf3",
   "metadata": {},
   "outputs": [
    {
     "name": "stdout",
     "output_type": "stream",
     "text": [
      "Lines read from file: ['Hello!!! My name is Stuti Upadhyay']\n"
     ]
    }
   ],
   "source": [
    "def read_file_to_list(filename):\n",
    "    # Initialize an empty list to store the lines\n",
    "    lines = []\n",
    "    # Open the file in read mode\n",
    "    with open(filename, 'r') as file:\n",
    "        # Read each line in the file\n",
    "        for line in file:\n",
    "            # Append the line to the list (remove newline characters)\n",
    "            lines.append(line.strip())\n",
    "    # Return the list of lines\n",
    "    return lines\n",
    "\n",
    "def write_list_to_file(filename, data):\n",
    "    # Open the file in write mode\n",
    "    with open(filename, 'w') as file:\n",
    "        # Write each element of the list to the file with a newline character\n",
    "        for item in data:\n",
    "            file.write(str(item) + '\\n')\n",
    "\n",
    "def append_list_to_file(filename, data):\n",
    "    # Open the file in append mode\n",
    "    with open(filename, 'a') as file:\n",
    "        # Write each element of the list to the file with a newline character\n",
    "        for item in data:\n",
    "            file.write(str(item) + '\\n')\n",
    "\n",
    "# Read a file line by line and save it into a list\n",
    "lines = read_file_to_list('example.txt')\n",
    "print(\"Lines read from file:\", lines)\n",
    "\n",
    "# Write a list to a file with each element on a new line\n",
    "data_to_write = ['Student', 'Grad School', 'DS']\n",
    "write_list_to_file('output.txt', data_to_write)\n",
    "\n",
    "# Append a list to a file with each element on a new line\n",
    "data_to_append = ['Intern', 'Maryland', 'DC']\n",
    "append_list_to_file('output.txt', data_to_append)\n"
   ]
  },
  {
   "cell_type": "code",
   "execution_count": 40,
   "id": "68b679f4",
   "metadata": {},
   "outputs": [],
   "source": [
    "with open('output.txt', 'r') as file:\n",
    "    content = file.read()"
   ]
  },
  {
   "cell_type": "code",
   "execution_count": 41,
   "id": "144d56a7",
   "metadata": {},
   "outputs": [
    {
     "name": "stdout",
     "output_type": "stream",
     "text": [
      "Student\n",
      "Grad School\n",
      "DS\n",
      "Intern\n",
      "Maryland\n",
      "DC\n",
      "\n"
     ]
    }
   ],
   "source": [
    "print(content)"
   ]
  },
  {
   "cell_type": "markdown",
   "id": "607fae51",
   "metadata": {},
   "source": [
    "### Python Exception Handling\n",
    "- **Review**: Use `try`, `except` blocks to catch and handle errors.\n",
    "- **Example**: Handling `ZeroDivisionError`.\n",
    "- **Exercises**: Function to handle file opening exceptions, `try-except` block for catching `KeyError`, and handling type conversion errors."
   ]
  },
  {
   "cell_type": "code",
   "execution_count": 42,
   "id": "15d297a8",
   "metadata": {},
   "outputs": [
    {
     "name": "stdout",
     "output_type": "stream",
     "text": [
      "Cannot divide by zero\n"
     ]
    }
   ],
   "source": [
    "try:\n",
    "    result = 10 / 0\n",
    "except ZeroDivisionError:\n",
    "    print(\"Cannot divide by zero\")\n"
   ]
  },
  {
   "cell_type": "markdown",
   "id": "eb21c9c9",
   "metadata": {},
   "source": [
    "Exercises:\n",
    "\n",
    "- Write a function that handles any possible exceptions when opening a file.\n",
    "- Create a try-except block that catches the KeyError exception and prints a custom message.\n",
    "- Use exception handling to catch and print the error message of an error raised when converting a string to an integer."
   ]
  },
  {
   "cell_type": "code",
   "execution_count": 43,
   "id": "400b2538",
   "metadata": {},
   "outputs": [
    {
     "name": "stdout",
     "output_type": "stream",
     "text": [
      "Content of the file: Hello!!! My name is Stuti Upadhyay\n"
     ]
    }
   ],
   "source": [
    "# Write a function that handles any possible exceptions when opening a file.\n",
    "\n",
    "def open_file(filename):\n",
    "    try:\n",
    "        with open(filename, 'r') as file:\n",
    "            content = file.read()\n",
    "        return content\n",
    "    except FileNotFoundError:\n",
    "        print(f\"Error: File '{filename}' not found.\")\n",
    "    except Exception as e:\n",
    "        print(f\"An error occurred while opening the file: {e}\")\n",
    "\n",
    "\n",
    "content = open_file('example.txt')\n",
    "if content:\n",
    "    print(\"Content of the file:\", content)"
   ]
  },
  {
   "cell_type": "code",
   "execution_count": 44,
   "id": "f926ca0a",
   "metadata": {},
   "outputs": [
    {
     "name": "stdout",
     "output_type": "stream",
     "text": [
      "Custom message: The key does not exist in the dictionary.\n"
     ]
    }
   ],
   "source": [
    "# Create a try-except block that catches the KeyError exception and prints a custom message.\n",
    "try:\n",
    "    my_dict = {'key': 'value'}\n",
    "    print(my_dict['invalid_key'])\n",
    "except KeyError:\n",
    "    print(\"Custom message: The key does not exist in the dictionary.\")"
   ]
  },
  {
   "cell_type": "code",
   "execution_count": 45,
   "id": "db42e91a",
   "metadata": {},
   "outputs": [
    {
     "name": "stdout",
     "output_type": "stream",
     "text": [
      "Error message: invalid literal for int() with base 10: 'abc'\n"
     ]
    }
   ],
   "source": [
    "# Use exception handling to catch and print the error message of an error raised when converting a string to an integer.\n",
    "try:\n",
    "    num = int('abc')\n",
    "except ValueError as e:\n",
    "    print(\"Error message:\", e)\n"
   ]
  },
  {
   "cell_type": "markdown",
   "id": "36c465df",
   "metadata": {},
   "source": [
    "\n",
    "### Python Error Debugging\n",
    "- **Review**: Techniques include using print statements, `pdb`, and logging.\n",
    "- **Exercises**: Debugging a function with `pdb`, logging errors to a file, and creating a decorator for function execution logging."
   ]
  },
  {
   "cell_type": "markdown",
   "id": "94c8d2d7",
   "metadata": {},
   "source": [
    "Exercises:\n",
    "\n",
    "- Use pdb or print statements to find the bug in a function that's supposed to calculate the average of a list.\n",
    "- Write a script that logs error messages to a file instead of printing them to the console.\n",
    "- Create a decorator that logs function execution time and catches any errors, printing them with a custom message."
   ]
  },
  {
   "cell_type": "code",
   "execution_count": 49,
   "id": "bdfcc764",
   "metadata": {},
   "outputs": [
    {
     "name": "stdout",
     "output_type": "stream",
     "text": [
      "divide executed in 0.0 seconds.\n"
     ]
    }
   ],
   "source": [
    "import time\n",
    "\n",
    "def error_logger_and_timer(custom_message):\n",
    "    def decorator(func):\n",
    "        def wrapper(*args, **kwargs):\n",
    "            try:\n",
    "                start_time = time.time()\n",
    "                result = func(*args, **kwargs)\n",
    "                end_time = time.time()\n",
    "                execution_time = end_time - start_time\n",
    "                print(f\"{func.__name__} executed in {execution_time} seconds.\")\n",
    "                return result\n",
    "            except Exception as e:\n",
    "                error_message = f\"{custom_message}: {str(e)}\"\n",
    "                log_errors_to_file('error.log', error_message)\n",
    "                print(error_message)\n",
    "        return wrapper\n",
    "    return decorator\n",
    "\n",
    "# Example usage:\n",
    "@error_logger_and_timer(\"Error occurred while executing function\")\n",
    "def divide(x, y):\n",
    "    return x / y\n",
    "\n",
    "result = divide(10, 1)"
   ]
  },
  {
   "cell_type": "code",
   "execution_count": 50,
   "id": "bdd582ab",
   "metadata": {},
   "outputs": [
    {
     "ename": "NameError",
     "evalue": "name 'log_errors_to_file' is not defined",
     "output_type": "error",
     "traceback": [
      "\u001b[1;31m---------------------------------------------------------------------------\u001b[0m",
      "\u001b[1;31mZeroDivisionError\u001b[0m                         Traceback (most recent call last)",
      "\u001b[1;32m~\\AppData\\Local\\Temp\\ipykernel_14056\\1615495512.py\u001b[0m in \u001b[0;36mwrapper\u001b[1;34m(*args, **kwargs)\u001b[0m\n\u001b[0;32m      7\u001b[0m                 \u001b[0mstart_time\u001b[0m \u001b[1;33m=\u001b[0m \u001b[0mtime\u001b[0m\u001b[1;33m.\u001b[0m\u001b[0mtime\u001b[0m\u001b[1;33m(\u001b[0m\u001b[1;33m)\u001b[0m\u001b[1;33m\u001b[0m\u001b[1;33m\u001b[0m\u001b[0m\n\u001b[1;32m----> 8\u001b[1;33m                 \u001b[0mresult\u001b[0m \u001b[1;33m=\u001b[0m \u001b[0mfunc\u001b[0m\u001b[1;33m(\u001b[0m\u001b[1;33m*\u001b[0m\u001b[0margs\u001b[0m\u001b[1;33m,\u001b[0m \u001b[1;33m**\u001b[0m\u001b[0mkwargs\u001b[0m\u001b[1;33m)\u001b[0m\u001b[1;33m\u001b[0m\u001b[1;33m\u001b[0m\u001b[0m\n\u001b[0m\u001b[0;32m      9\u001b[0m                 \u001b[0mend_time\u001b[0m \u001b[1;33m=\u001b[0m \u001b[0mtime\u001b[0m\u001b[1;33m.\u001b[0m\u001b[0mtime\u001b[0m\u001b[1;33m(\u001b[0m\u001b[1;33m)\u001b[0m\u001b[1;33m\u001b[0m\u001b[1;33m\u001b[0m\u001b[0m\n",
      "\u001b[1;32m~\\AppData\\Local\\Temp\\ipykernel_14056\\1615495512.py\u001b[0m in \u001b[0;36mdivide\u001b[1;34m(x, y)\u001b[0m\n\u001b[0;32m     22\u001b[0m \u001b[1;32mdef\u001b[0m \u001b[0mdivide\u001b[0m\u001b[1;33m(\u001b[0m\u001b[0mx\u001b[0m\u001b[1;33m,\u001b[0m \u001b[0my\u001b[0m\u001b[1;33m)\u001b[0m\u001b[1;33m:\u001b[0m\u001b[1;33m\u001b[0m\u001b[1;33m\u001b[0m\u001b[0m\n\u001b[1;32m---> 23\u001b[1;33m     \u001b[1;32mreturn\u001b[0m \u001b[0mx\u001b[0m \u001b[1;33m/\u001b[0m \u001b[0my\u001b[0m\u001b[1;33m\u001b[0m\u001b[1;33m\u001b[0m\u001b[0m\n\u001b[0m\u001b[0;32m     24\u001b[0m \u001b[1;33m\u001b[0m\u001b[0m\n",
      "\u001b[1;31mZeroDivisionError\u001b[0m: division by zero",
      "\nDuring handling of the above exception, another exception occurred:\n",
      "\u001b[1;31mNameError\u001b[0m                                 Traceback (most recent call last)",
      "\u001b[1;32m~\\AppData\\Local\\Temp\\ipykernel_14056\\3334417845.py\u001b[0m in \u001b[0;36m<module>\u001b[1;34m\u001b[0m\n\u001b[1;32m----> 1\u001b[1;33m \u001b[0mresult\u001b[0m \u001b[1;33m=\u001b[0m \u001b[0mdivide\u001b[0m\u001b[1;33m(\u001b[0m\u001b[1;36m10\u001b[0m\u001b[1;33m,\u001b[0m \u001b[1;36m0\u001b[0m\u001b[1;33m)\u001b[0m\u001b[1;33m\u001b[0m\u001b[1;33m\u001b[0m\u001b[0m\n\u001b[0m",
      "\u001b[1;32m~\\AppData\\Local\\Temp\\ipykernel_14056\\1615495512.py\u001b[0m in \u001b[0;36mwrapper\u001b[1;34m(*args, **kwargs)\u001b[0m\n\u001b[0;32m     13\u001b[0m             \u001b[1;32mexcept\u001b[0m \u001b[0mException\u001b[0m \u001b[1;32mas\u001b[0m \u001b[0me\u001b[0m\u001b[1;33m:\u001b[0m\u001b[1;33m\u001b[0m\u001b[1;33m\u001b[0m\u001b[0m\n\u001b[0;32m     14\u001b[0m                 \u001b[0merror_message\u001b[0m \u001b[1;33m=\u001b[0m \u001b[1;34mf\"{custom_message}: {str(e)}\"\u001b[0m\u001b[1;33m\u001b[0m\u001b[1;33m\u001b[0m\u001b[0m\n\u001b[1;32m---> 15\u001b[1;33m                 \u001b[0mlog_errors_to_file\u001b[0m\u001b[1;33m(\u001b[0m\u001b[1;34m'error.log'\u001b[0m\u001b[1;33m,\u001b[0m \u001b[0merror_message\u001b[0m\u001b[1;33m)\u001b[0m\u001b[1;33m\u001b[0m\u001b[1;33m\u001b[0m\u001b[0m\n\u001b[0m\u001b[0;32m     16\u001b[0m                 \u001b[0mprint\u001b[0m\u001b[1;33m(\u001b[0m\u001b[0merror_message\u001b[0m\u001b[1;33m)\u001b[0m\u001b[1;33m\u001b[0m\u001b[1;33m\u001b[0m\u001b[0m\n\u001b[0;32m     17\u001b[0m         \u001b[1;32mreturn\u001b[0m \u001b[0mwrapper\u001b[0m\u001b[1;33m\u001b[0m\u001b[1;33m\u001b[0m\u001b[0m\n",
      "\u001b[1;31mNameError\u001b[0m: name 'log_errors_to_file' is not defined"
     ]
    }
   ],
   "source": [
    "result = divide(10, 0)"
   ]
  },
  {
   "cell_type": "markdown",
   "id": "d34c286b",
   "metadata": {},
   "source": [
    " # Python Conditionalities and Loops \n",
    " \n",
    " \n",
    " -- If, else, "
   ]
  },
  {
   "cell_type": "code",
   "execution_count": 52,
   "id": "871f7bb3",
   "metadata": {},
   "outputs": [],
   "source": [
    "## if condtion:\n",
    "    # do something if condtion true\n",
    "    "
   ]
  },
  {
   "cell_type": "code",
   "execution_count": 53,
   "id": "7edda3c4",
   "metadata": {},
   "outputs": [
    {
     "name": "stdout",
     "output_type": "stream",
     "text": [
      "postive number\n"
     ]
    }
   ],
   "source": [
    "# Cheking if the number is postive\n",
    "\n",
    "number=5\n",
    "if number>0:\n",
    "    print(\"postive number\")"
   ]
  },
  {
   "cell_type": "code",
   "execution_count": 55,
   "id": "86c44af6",
   "metadata": {},
   "outputs": [],
   "source": [
    "# If-Else Statmnt\n",
    "\n",
    "## if condtion:\n",
    "    #do something if condtion is true\n",
    "    \n",
    "## else :\n",
    "    #do something else if condition false"
   ]
  },
  {
   "cell_type": "code",
   "execution_count": 56,
   "id": "d5573237",
   "metadata": {},
   "outputs": [
    {
     "name": "stdout",
     "output_type": "stream",
     "text": [
      "Negative number\n"
     ]
    }
   ],
   "source": [
    "number =-3\n",
    "if number >0:\n",
    "    print(\"Postive number\")\n",
    "else:\n",
    "    print(\"Negative number\")"
   ]
  },
  {
   "cell_type": "code",
   "execution_count": 57,
   "id": "740fc503",
   "metadata": {},
   "outputs": [],
   "source": [
    "# if-Elif-Else\n",
    "\n",
    "## if condition1:\n",
    "    #do something if condtion1 is true\n",
    "## elif condition2:\n",
    "    #do something if condition2 is true\n",
    "## else:\n",
    "    #do something if none of the coniditions are true"
   ]
  },
  {
   "cell_type": "code",
   "execution_count": 58,
   "id": "b9ad3966",
   "metadata": {},
   "outputs": [
    {
     "name": "stdout",
     "output_type": "stream",
     "text": [
      "Zero\n"
     ]
    }
   ],
   "source": [
    "# Checking if the number is postive , negative or zero\n",
    "\n",
    "number=0\n",
    "if number>0:\n",
    "    print(\"postive number\")\n",
    "elif number <0:\n",
    "    print(\"negative number\")\n",
    "else:\n",
    "    print(\"Zero\")"
   ]
  },
  {
   "cell_type": "code",
   "execution_count": null,
   "id": "a5be3df5",
   "metadata": {},
   "outputs": [],
   "source": []
  },
  {
   "cell_type": "code",
   "execution_count": null,
   "id": "11619b89",
   "metadata": {},
   "outputs": [],
   "source": []
  },
  {
   "cell_type": "code",
   "execution_count": null,
   "id": "78b0340f",
   "metadata": {},
   "outputs": [],
   "source": []
  },
  {
   "cell_type": "code",
   "execution_count": 60,
   "id": "ca89c0fd",
   "metadata": {},
   "outputs": [],
   "source": [
    "movies = [\n",
    "    {\"title\": \"The Shawshank Redemption\", \"rating\": 9.3},\n",
    "    {\"title\": \"The Godfather\", \"rating\": 9.2},\n",
    "    {\"title\": \"The Dark Knight\", \"rating\": 9.0},\n",
    "    {\"title\": \"The Godfather Part II\", \"rating\": 9.0},\n",
    "    {\"title\": \"12 Angry Men\", \"rating\": 8.9},\n",
    "    {\"title\": \"Schindler's List\", \"rating\": 8.9},\n",
    "    {\"title\": \"Pulp Fiction\", \"rating\": 8.9},\n",
    "    {\"title\": \"Fight Club\", \"rating\": 8.8},\n",
    "    {\"title\": \"Forrest Gump\", \"rating\": 8.8},\n",
    "    {\"title\": \"Inception\", \"rating\": 8.7},\n",
    "    {\"title\": \"Goodfellas\", \"rating\": 8.7},\n",
    "    {\"title\": \"The Matrix\", \"rating\": 8.7},\n",
    "    {\"title\": \"Avengers: Infinity War\", \"rating\": 8.4},\n",
    "    {\"title\": \"Interstellar\", \"rating\": 8.6},\n",
    "    {\"title\": \"Spirited Away\", \"rating\": 8.6},\n",
    "    {\"title\": \"Parasite\", \"rating\": 8.6},\n",
    "    {\"title\": \"1917\", \"rating\": 8.3},\n",
    "    {\"title\": \"Joker\", \"rating\": 8.4},\n",
    "    {\"title\": \"Coco\", \"rating\": 8.4}\n",
    "]\n"
   ]
  },
  {
   "cell_type": "markdown",
   "id": "d8540f23",
   "metadata": {},
   "source": [
    "Scenario: Movie Recommendation System\n",
    "Imagine we have a list of movies, each with its title and rating. Our task is to recommend movies based on their ratings:\n",
    "\n",
    "Excellent (rating >= 8.5)\n",
    "Good (rating >= 7.0 and < 8.5)\n",
    "Average (rating < 7.0)"
   ]
  },
  {
   "cell_type": "markdown",
   "id": "b8e0c003",
   "metadata": {},
   "source": [
    "# Now, let's iterate through this list, categorize each movie based on its rating, and print out recommendations for only the \"Excellent\" movies."
   ]
  },
  {
   "cell_type": "code",
   "execution_count": 62,
   "id": "8e27cc7d",
   "metadata": {},
   "outputs": [
    {
     "name": "stdout",
     "output_type": "stream",
     "text": [
      "Recommended Movies (Excellent Category):\n",
      "The Shawshank Redemption-Rating:9.3\n",
      "The Godfather-Rating:9.2\n",
      "The Dark Knight-Rating:9.0\n",
      "The Godfather Part II-Rating:9.0\n",
      "12 Angry Men-Rating:8.9\n",
      "Schindler's List-Rating:8.9\n",
      "Pulp Fiction-Rating:8.9\n",
      "Fight Club-Rating:8.8\n",
      "Forrest Gump-Rating:8.8\n",
      "Inception-Rating:8.7\n",
      "Goodfellas-Rating:8.7\n",
      "The Matrix-Rating:8.7\n",
      "Interstellar-Rating:8.6\n",
      "Spirited Away-Rating:8.6\n",
      "Parasite-Rating:8.6\n"
     ]
    }
   ],
   "source": [
    "print(\"Recommended Movies (Excellent Category):\")\n",
    "for movie in movies:\n",
    "    if movie[\"rating\"]>=8.50:\n",
    "        print(f\"{movie['title']}-Rating:{movie['rating']}\")"
   ]
  },
  {
   "cell_type": "raw",
   "id": "2900ce5f",
   "metadata": {},
   "source": [
    "# Ouput of the Script \n",
    "Recommended Movies (Excellent Category):\n",
    "The Shawshank Redemption - Rating: 9.3\n",
    "The Godfather - Rating: 9.2\n",
    "The Dark Knight - Rating: 9.0\n",
    "The Godfather Part II - Rating: 9.0\n",
    "12 Angry Men - Rating: 8.9\n",
    "Schindler's List - Rating: 8.9\n",
    "Pulp Fiction - Rating: 8.9\n",
    "Fight Club - Rating: 8.8\n",
    "Forrest Gump - Rating: 8.8\n",
    "Inception - Rating: 8.7\n",
    "Goodfellas - Rating: 8.7\n",
    "The Matrix - Rating: 8.7\n",
    "Interstellar - Rating: 8.6\n",
    "Spirited Away - Rating: 8.6\n",
    "Parasite - Rating: 8.6\n"
   ]
  },
  {
   "cell_type": "markdown",
   "id": "c9dd9d14",
   "metadata": {},
   "source": [
    "# Loop \n",
    "\n",
    "for "
   ]
  },
  {
   "cell_type": "code",
   "execution_count": 63,
   "id": "b926e6d2",
   "metadata": {},
   "outputs": [],
   "source": [
    " ## for element in squence: \n",
    "        # do something \n",
    "        \n",
    "        "
   ]
  },
  {
   "cell_type": "code",
   "execution_count": 64,
   "id": "65d0cfb5",
   "metadata": {},
   "outputs": [
    {
     "name": "stdout",
     "output_type": "stream",
     "text": [
      "apple\n",
      "banana\n",
      "cherry\n"
     ]
    }
   ],
   "source": [
    "fruits=[\"apple\", \"banana\", \"cherry\"]\n",
    "\n",
    "for fruit in fruits:\n",
    "    print(fruit)"
   ]
  },
  {
   "cell_type": "code",
   "execution_count": 65,
   "id": "02e1c156",
   "metadata": {},
   "outputs": [],
   "source": [
    "# While loop repeats as long as certain boolean condition met\n",
    "\n",
    "## while condition:\n",
    "    # do something while condition true\n",
    "    "
   ]
  },
  {
   "cell_type": "code",
   "execution_count": 66,
   "id": "bf0074e8",
   "metadata": {},
   "outputs": [
    {
     "name": "stdout",
     "output_type": "stream",
     "text": [
      "1\n",
      "2\n",
      "3\n",
      "4\n",
      "5\n"
     ]
    }
   ],
   "source": [
    "# Exmple counting to five\n",
    "\n",
    "count=1\n",
    "\n",
    "while count<=5:\n",
    "    print(count)\n",
    "    count+=1"
   ]
  },
  {
   "cell_type": "code",
   "execution_count": 67,
   "id": "b0515d12",
   "metadata": {},
   "outputs": [],
   "source": [
    "# list of dictionaries with student names and scores\n",
    "students = [\n",
    "    {\"name\": \"Alice\", \"score\": 85},\n",
    "    {\"name\": \"Bob\", \"score\": 78},\n",
    "    {\"name\": \"Charlie\", \"score\": 92},\n",
    "    {\"name\": \"Diana\", \"score\": 54},\n",
    "    {\"name\": \"Ethan\", \"score\": 77}\n",
    "]"
   ]
  },
  {
   "cell_type": "markdown",
   "id": "d0694cd3",
   "metadata": {},
   "source": [
    ">90---Excellent\n",
    ">80---Very GOOD\n",
    "\n",
    ">70 Good\n",
    "\n",
    ">60 Stastfactory\n",
    "\n",
    "<50 need improvment\n",
    "\n",
    " Print the student's name and performance\n",
    "    print(f\"{student['name']} - Performance: {performance}\")\n"
   ]
  },
  {
   "cell_type": "markdown",
   "id": "be38f301",
   "metadata": {},
   "source": [
    "While Loop Example: Generating Fibonacci Sequence\n",
    "-The Fibonacci sequence is a series of numbers where each number is the sum of the two preceding ones, usually starting with 0 and 1. Let's generate the first N numbers of the Fibonacci sequence using a while loop."
   ]
  },
  {
   "cell_type": "code",
   "execution_count": 68,
   "id": "301af6d4",
   "metadata": {},
   "outputs": [
    {
     "name": "stdout",
     "output_type": "stream",
     "text": [
      "Fibonacci sequence (first 10 numbers): [0, 1, 1, 2, 3, 5, 8, 13, 21, 34]\n"
     ]
    }
   ],
   "source": [
    "# Number of Fibonacci numbers to generate\n",
    "N = 10\n",
    "\n",
    "# Initialize the first two numbers of the sequence\n",
    "fibonacci = [0, 1]\n",
    "\n",
    "# Use a while loop to generate the rest of the sequence\n",
    "while len(fibonacci) < N:\n",
    "    # Add the sum of the last two numbers to the sequence\n",
    "    next_number = fibonacci[-1] + fibonacci[-2]\n",
    "    fibonacci.append(next_number)\n",
    "\n",
    "# Print the Fibonacci sequence\n",
    "print(f\"Fibonacci sequence (first {N} numbers): {fibonacci}\")\n"
   ]
  },
  {
   "cell_type": "code",
   "execution_count": null,
   "id": "0b67958d",
   "metadata": {},
   "outputs": [],
   "source": []
  },
  {
   "cell_type": "code",
   "execution_count": null,
   "id": "fefc186e",
   "metadata": {},
   "outputs": [],
   "source": []
  },
  {
   "cell_type": "markdown",
   "id": "a35a45aa",
   "metadata": {},
   "source": [
    "# User Defined Function\n",
    "\n",
    "  Def \n",
    "  \n",
    "  ### The function that you define yourself in Python , as opposed to built-in funcitons\n",
    "  \n",
    "  ### Local variable-a varaible that is defined inside the function\n",
    "  ### Global function-outside the function\n",
    "  "
   ]
  },
  {
   "cell_type": "code",
   "execution_count": 69,
   "id": "378e3cd3",
   "metadata": {},
   "outputs": [],
   "source": [
    "# Global variable: \n",
    "daily_sales=[200,300,500,600,350,430]"
   ]
  },
  {
   "cell_type": "code",
   "execution_count": 70,
   "id": "bb569ab0",
   "metadata": {},
   "outputs": [],
   "source": [
    "def calculate_sales(sales):\n",
    "    \"\"\"calcualte total and average sales,\n",
    "     \n",
    "     args:\n",
    "     -sales(list): A list of daily list figure.\n",
    "     \n",
    "     \n",
    "     Returns:\n",
    "       -sales(list):  A tuple contaning total sales and average sales \n",
    "     \n",
    "     \n",
    "     \"\"\"\n",
    "    #local variables: total sales and average sales\n",
    "    \n",
    "    total_sales=sum(sales)\n",
    "    average_sales=total_sales/len(sales)\n",
    "    return total_sales, average_sales"
   ]
  },
  {
   "cell_type": "code",
   "execution_count": 71,
   "id": "0b63a704",
   "metadata": {},
   "outputs": [],
   "source": [
    "# Call the user-defined funciton using the global variable daily_sales\n",
    "total, average=calculate_sales(daily_sales)"
   ]
  },
  {
   "cell_type": "code",
   "execution_count": 72,
   "id": "f7064160",
   "metadata": {},
   "outputs": [
    {
     "data": {
      "text/plain": [
       "2380"
      ]
     },
     "execution_count": 72,
     "metadata": {},
     "output_type": "execute_result"
    }
   ],
   "source": [
    "total"
   ]
  },
  {
   "cell_type": "code",
   "execution_count": 73,
   "id": "54b22e2e",
   "metadata": {},
   "outputs": [
    {
     "data": {
      "text/plain": [
       "396.6666666666667"
      ]
     },
     "execution_count": 73,
     "metadata": {},
     "output_type": "execute_result"
    }
   ],
   "source": [
    "average"
   ]
  },
  {
   "cell_type": "code",
   "execution_count": 74,
   "id": "b822e57e",
   "metadata": {},
   "outputs": [],
   "source": [
    "import pandas as pd\n",
    "\n",
    "# Load the Iris dataset\n",
    "url = \"https://archive.ics.uci.edu/ml/machine-learning-databases/iris/iris.data\"\n",
    "# Define the column names\n",
    "column_names = ['sepal_length', 'sepal_width', 'petal_length', 'petal_width', 'species']\n",
    "# Read the dataset into a DataFrame\n",
    "iris = pd.read_csv(url, names=column_names)\n"
   ]
  },
  {
   "cell_type": "code",
   "execution_count": 90,
   "id": "ad85ada9",
   "metadata": {},
   "outputs": [],
   "source": [
    "def calculate_statistics(iris, column_name):\n",
    "    \"\"\"\n",
    "    Calculates mean, median, and standard deviation of a specified column grouped by species.\n",
    "    \n",
    "    Args:\n",
    "    - df (DataFrame): The pandas DataFrame containing the dataset.\n",
    "    - column_name (str): The name of the column to analyze.\n",
    "    \n",
    "    Returns:\n",
    "    - DataFrame: A new DataFrame with the mean, median, and std deviation for the specified column.\n",
    "    \"\"\"\n",
    "    # Group the DataFrame by species and calculate the required statistics\n",
    "    grouped = df.groupby('species')[\"sepal length\"].agg(['mean', 'median', 'std'])\n",
    "    \n",
    "    return grouped\n"
   ]
  },
  {
   "cell_type": "code",
   "execution_count": 91,
   "id": "6948c86a",
   "metadata": {},
   "outputs": [
    {
     "name": "stdout",
     "output_type": "stream",
     "text": [
      "Statistics for Sepal Length:\n",
      "{'mean': 5.843333333333335, 'median': 5.8, 'std_dev': 0.8280661279778629}\n"
     ]
    }
   ],
   "source": [
    "# Calculate mean, median, and standard deviation of sepal length\n",
    "mean_sepal_length = iris['sepal_length'].mean()\n",
    "median_sepal_length = iris['sepal_length'].median()\n",
    "std_dev_sepal_length = iris['sepal_length'].std()\n",
    "\n",
    "# Store the results in a dictionary\n",
    "sepal_length_stats = {\n",
    "    \"mean\": mean_sepal_length,\n",
    "    \"median\": median_sepal_length,\n",
    "    \"std_dev\": std_dev_sepal_length\n",
    "}\n",
    "\n",
    "# Display the results\n",
    "print(\"Statistics for Sepal Length:\")\n",
    "print(sepal_length_stats)\n"
   ]
  },
  {
   "cell_type": "code",
   "execution_count": null,
   "id": "f64cfcb9",
   "metadata": {},
   "outputs": [],
   "source": []
  },
  {
   "cell_type": "code",
   "execution_count": null,
   "id": "9cd6fa49",
   "metadata": {},
   "outputs": [],
   "source": []
  },
  {
   "cell_type": "code",
   "execution_count": 92,
   "id": "87c2ad61",
   "metadata": {},
   "outputs": [],
   "source": [
    "import pandas as pd\n",
    "\n",
    "url = \"https://archive.ics.uci.edu/ml/machine-learning-databases/iris/iris.data\"\n",
    "column_names = ['sepal_length', 'sepal_width', 'petal_length', 'petal_width', 'species']\n",
    "iris = pd.read_csv(url, names=column_names)\n"
   ]
  },
  {
   "cell_type": "code",
   "execution_count": null,
   "id": "9bb5ef4a",
   "metadata": {},
   "outputs": [],
   "source": []
  },
  {
   "cell_type": "code",
   "execution_count": 95,
   "id": "95e8731e",
   "metadata": {},
   "outputs": [],
   "source": [
    "def calculate_feature_correlations(iris):\n",
    "    \"\"\"\n",
    "    Calculates pairwise correlations between all numerical features for each species in the dataset.\n",
    "    \n",
    "    Args:\n",
    "    - df (DataFrame): The pandas DataFrame containing the Iris dataset.\n",
    "    \n",
    "    Returns:\n",
    "    - dict: A dictionary where each key is a species and each value is a correlation matrix DataFrame.\n",
    "    \"\"\"\n",
    "    # Initialize an empty dictionary to store correlation matrices for each species\n",
    "    correlations = {}\n",
    "    \n",
    "    # Iterate over each species\n",
    "    for species in iris['species'].unique():\n",
    "        # Filter the DataFrame for the current species\n",
    "        species_iris = iris[iris['species'] == species]\n",
    "        # Calculate the correlation matrix for numerical features\n",
    "        corr_matrix = species_iris.corr()\n",
    "        # Add the correlation matrix to the dictionary\n",
    "        correlations[species] = corr_matrix\n",
    "    \n",
    "    return correlations\n"
   ]
  },
  {
   "cell_type": "code",
   "execution_count": 96,
   "id": "e81427f8",
   "metadata": {},
   "outputs": [
    {
     "name": "stdout",
     "output_type": "stream",
     "text": [
      "Species: Iris-setosa\n",
      "              sepal_length  sepal_width  petal_length  petal_width\n",
      "sepal_length      1.000000     0.746780      0.263874     0.279092\n",
      "sepal_width       0.746780     1.000000      0.176695     0.279973\n",
      "petal_length      0.263874     0.176695      1.000000     0.306308\n",
      "petal_width       0.279092     0.279973      0.306308     1.000000\n",
      "\n",
      "\n",
      "Species: Iris-versicolor\n",
      "              sepal_length  sepal_width  petal_length  petal_width\n",
      "sepal_length      1.000000     0.525911      0.754049     0.546461\n",
      "sepal_width       0.525911     1.000000      0.560522     0.663999\n",
      "petal_length      0.754049     0.560522      1.000000     0.786668\n",
      "petal_width       0.546461     0.663999      0.786668     1.000000\n",
      "\n",
      "\n",
      "Species: Iris-virginica\n",
      "              sepal_length  sepal_width  petal_length  petal_width\n",
      "sepal_length      1.000000     0.457228      0.864225     0.281108\n",
      "sepal_width       0.457228     1.000000      0.401045     0.537728\n",
      "petal_length      0.864225     0.401045      1.000000     0.322108\n",
      "petal_width       0.281108     0.537728      0.322108     1.000000\n",
      "\n",
      "\n"
     ]
    }
   ],
   "source": [
    "feature_correlations = calculate_feature_correlations(iris)\n",
    "\n",
    "# Print the feature correlations for each species\n",
    "for species, correlation_matrix in feature_correlations.items():\n",
    "    print(f\"Species: {species}\")\n",
    "    print(correlation_matrix)\n",
    "    print(\"\\n\")"
   ]
  },
  {
   "cell_type": "code",
   "execution_count": 97,
   "id": "a8bfdad9",
   "metadata": {},
   "outputs": [
    {
     "name": "stdout",
     "output_type": "stream",
     "text": [
      "Iris-setosa correlation matrix:\n",
      "              sepal_length  sepal_width  petal_length  petal_width\n",
      "sepal_length      1.000000     0.746780      0.263874     0.279092\n",
      "sepal_width       0.746780     1.000000      0.176695     0.279973\n",
      "petal_length      0.263874     0.176695      1.000000     0.306308\n",
      "petal_width       0.279092     0.279973      0.306308     1.000000\n",
      "\n",
      "Iris-versicolor correlation matrix:\n",
      "              sepal_length  sepal_width  petal_length  petal_width\n",
      "sepal_length      1.000000     0.525911      0.754049     0.546461\n",
      "sepal_width       0.525911     1.000000      0.560522     0.663999\n",
      "petal_length      0.754049     0.560522      1.000000     0.786668\n",
      "petal_width       0.546461     0.663999      0.786668     1.000000\n",
      "\n",
      "Iris-virginica correlation matrix:\n",
      "              sepal_length  sepal_width  petal_length  petal_width\n",
      "sepal_length      1.000000     0.457228      0.864225     0.281108\n",
      "sepal_width       0.457228     1.000000      0.401045     0.537728\n",
      "petal_length      0.864225     0.401045      1.000000     0.322108\n",
      "petal_width       0.281108     0.537728      0.322108     1.000000\n",
      "\n"
     ]
    }
   ],
   "source": [
    "# Print the correlation matrices\n",
    "for species, corr_matrix in feature_correlations.items():\n",
    "    print(f\"{species} correlation matrix:\\n{corr_matrix}\\n\")"
   ]
  },
  {
   "cell_type": "code",
   "execution_count": null,
   "id": "93691da7",
   "metadata": {},
   "outputs": [],
   "source": []
  },
  {
   "cell_type": "code",
   "execution_count": null,
   "id": "d6f4038f",
   "metadata": {},
   "outputs": [],
   "source": []
  },
  {
   "cell_type": "code",
   "execution_count": null,
   "id": "93a6e10e",
   "metadata": {},
   "outputs": [],
   "source": []
  },
  {
   "cell_type": "code",
   "execution_count": null,
   "id": "73550a38",
   "metadata": {},
   "outputs": [],
   "source": []
  }
 ],
 "metadata": {
  "kernelspec": {
   "display_name": "Python 3",
   "language": "python",
   "name": "python3"
  },
  "language_info": {
   "codemirror_mode": {
    "name": "ipython",
    "version": 3
   },
   "file_extension": ".py",
   "mimetype": "text/x-python",
   "name": "python",
   "nbconvert_exporter": "python",
   "pygments_lexer": "ipython3",
   "version": "3.9.13"
  }
 },
 "nbformat": 4,
 "nbformat_minor": 5
}
