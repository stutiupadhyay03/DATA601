{
 "cells": [
  {
   "cell_type": "markdown",
   "id": "ecaed75f",
   "metadata": {},
   "source": [
    "#### Name: Stuti Upadhyay\n",
    "#### Campus ID: XT81177\n",
    "#### Instructor: Chalachew Jemberie"
   ]
  },
  {
   "cell_type": "markdown",
   "id": "f82deac8",
   "metadata": {},
   "source": [
    "\n",
    "\n",
    "## Pre-Class Exercise: Introduction to Statistical Analysis\n",
    "\n",
    "### Objective\n",
    "Prepare for our upcoming class on statistical analysis by familiarizing yourself with the fundamental concepts and applications of statistics in data analysis and data science. This exercise is designed to enhance your understanding and enable active participation during the class discussion.\n",
    "\n",
    "### Instructions\n",
    "Complete the tasks below before the class. Be ready to discuss your findings, insights, and any questions you might have.\n",
    "\n"
   ]
  },
  {
   "cell_type": "markdown",
   "id": "009ce2e8",
   "metadata": {},
   "source": [
    "#### Part 1: Exploring Descriptive Statistics\n",
    "- **Research Task:**\n",
    "  - Locate an online resource explaining descriptive statistics, focusing on measures of central tendency and variability. Summarize the key points in your own words.\n",
    "  \n",
    "- **Practical Task**\n",
    "  - Perform a basic descriptive statistical analysis on a chosen dataset. Calculate the mean, median, mode, range, variance, and standard deviation for one of its numerical features. Document your code and findings."
   ]
  },
  {
   "cell_type": "markdown",
   "id": "ff2045a5",
   "metadata": {},
   "source": [
    "### Answers"
   ]
  },
  {
   "cell_type": "markdown",
   "id": "07df7a4d",
   "metadata": {},
   "source": [
    "#### Research Task:\n",
    "\n",
    "- One online resource that provides a good explanation of descriptive statistics, particularly focusing on measures of central tendency and variability, is the Khan Academy's Statistics and Probability section. Within this section, there are specific lessons dedicated to these concepts.\n",
    "\n",
    "#### Key points on measures of central tendency include:\n",
    "\n",
    "- Mean (Average): The sum of all values divided by the number of values. It represents the \"average\" value of a dataset.\n",
    "- Median: The middle value in a dataset when it's ordered from least to greatest. It's less sensitive to outliers compared to the mean.\n",
    "- Mode: The value that appears most frequently in a dataset. A dataset can have one mode, multiple modes, or no mode at all.\n",
    "\n",
    "#### Key points on measures of variability include:\n",
    "\n",
    "- Range: The difference between the maximum and minimum values in a dataset, providing a sense of spread.\n",
    "- Variance: A measure of how spread out the values in a dataset are from the mean. It's calculated by averaging the squared differences from the mean.\n",
    "- Standard Deviation: The square root of the variance. It represents the average distance of each observation from the mean.\n",
    "\n",
    "These measures collectively provide insights into the distribution and characteristics of a dataset."
   ]
  },
  {
   "cell_type": "code",
   "execution_count": 2,
   "id": "b80a3cf8",
   "metadata": {},
   "outputs": [
    {
     "name": "stdout",
     "output_type": "stream",
     "text": [
      "Mean: 38.64358543876172\n",
      "Median: 37.0\n",
      "Mode: 36\n",
      "Range: 73\n",
      "Variance: 187.97808266246622\n",
      "Standard Deviation: 13.71050993444322\n"
     ]
    }
   ],
   "source": [
    "import pandas as pd\n",
    "\n",
    "# Load the dataset\n",
    "data = pd.read_csv('adult.csv')\n",
    "\n",
    "# Choose a numerical feature for analysis\n",
    "feature = data['age']\n",
    "\n",
    "# Calculate mean, median, mode, range, variance, and standard deviation\n",
    "mean = feature.mean()\n",
    "median = feature.median()\n",
    "mode = feature.mode()[0]  # In case of multiple modes, take the first one\n",
    "data_range = feature.max() - feature.min()\n",
    "variance = feature.var()\n",
    "std_deviation = feature.std()\n",
    "\n",
    "# Print the results\n",
    "print(\"Mean:\", mean)\n",
    "print(\"Median:\", median)\n",
    "print(\"Mode:\", mode)\n",
    "print(\"Range:\", data_range)\n",
    "print(\"Variance:\", variance)\n",
    "print(\"Standard Deviation:\", std_deviation)\n"
   ]
  },
  {
   "cell_type": "markdown",
   "id": "064ba864",
   "metadata": {},
   "source": [
    "#### Part 2: Understanding Inferential Statistics\n",
    "- **Research Task:**\n",
    "  - Investigate hypothesis testing and confidence intervals. Explain these concepts with examples in simple terms.\n",
    "  \n",
    "- **Reflection Task:**\n",
    "  - Reflect on the significance of inferential statistics in data science. Consider its application in making predictions about a population based on a sample."
   ]
  },
  {
   "cell_type": "markdown",
   "id": "f39b038d",
   "metadata": {},
   "source": [
    "### Answers"
   ]
  },
  {
   "cell_type": "markdown",
   "id": "112d5a56",
   "metadata": {},
   "source": [
    "#### Research Task:\n",
    "\n",
    "Hypothesis testing and confidence intervals are fundamental concepts in inferential statistics.\n",
    "\n",
    "- Hypothesis Testing: Hypothesis testing is a statistical method used to make inferences about a population based on a sample from that population. It involves formulating a hypothesis about the population parameter and testing whether the sample data provide enough evidence to support or reject that hypothesis. There are typically two types of hypotheses:\n",
    "\n",
    "- Null Hypothesis (H0): This is the default assumption that there is no significant difference or effect.\n",
    "Alternative Hypothesis (H1 or Ha): This is the opposite of the null hypothesis, representing the effect or difference you're trying to find evidence for.\n",
    "\n",
    "Hypothesis testing involves calculating a test statistic from the sample data and comparing it to a critical value or p-value to determine whether to reject the null hypothesis in favor of the alternative hypothesis.\n",
    "\n",
    "- Confidence Intervals: A confidence interval is a range of values that is likely to contain the true population parameter with a certain level of confidence. It provides a measure of uncertainty around the estimate obtained from the sample data. For example, a 95% confidence interval for the population mean indicates that if we were to draw multiple samples and calculate confidence intervals for each, about 95% of those intervals would contain the true population mean.\n",
    "\n",
    "Example:\n",
    "Suppose you want to test whether a new drug reduces blood pressure. You collect data from a sample of patients, administer the drug to them, and measure their blood pressure before and after treatment.\n",
    "\n",
    "#### Hypothesis Testing:\n",
    "\n",
    "- Null Hypothesis (H0): The drug has no effect on blood pressure (mean difference = 0).\n",
    "Alternative Hypothesis (Ha): The drug reduces blood pressure (mean difference < 0).\n",
    "You conduct a paired t-test on the data and find a p-value of 0.02. Since this p-value is less than your chosen significance level (e.g., 0.05), you reject the null hypothesis and conclude that there is evidence to suggest that the drug reduces blood pressure.\n",
    "\n",
    "#### Confidence Interval:\n",
    "\n",
    "- You calculate a 95% confidence interval for the mean difference in blood pressure before and after treatment as (-5.2, -1.8) mmHg. This means you are 95% confident that the true mean difference in blood pressure lies within this interval."
   ]
  },
  {
   "cell_type": "markdown",
   "id": "e1fb3780",
   "metadata": {},
   "source": [
    "#### Reflection Task:\n",
    "\n",
    "- Inferential statistics plays a crucial role in data science by allowing us to draw conclusions about populations based on samples. It helps us make informed decisions, draw meaningful insights, and make predictions.\n",
    "\n",
    "- One significant application of inferential statistics is in making predictions about a population based on a sample. By using techniques like hypothesis testing and confidence intervals, data scientists can assess the likelihood of an observed effect being real and generalize findings from a sample to the larger population. This is essential in fields such as market research, healthcare, finance, and more, where decisions often rely on understanding and predicting population behavior or characteristics.\n",
    "\n",
    "- Moreover, inferential statistics enables data scientists to quantify uncertainty and variability in their conclusions. Confidence intervals provide a range of plausible values for population parameters, acknowledging the inherent uncertainty in estimating these parameters from sample data. This helps stakeholders make more informed decisions by understanding the level of confidence associated with the estimated results.\n",
    "\n",
    "Overall, inferential statistics empowers data scientists to go beyond merely describing data to making meaningful inferences and predictions, thereby driving evidence-based decision-making and solving real-world problems effectively."
   ]
  },
  {
   "cell_type": "markdown",
   "id": "bf520b87",
   "metadata": {},
   "source": [
    "#### Part 3: Introduction to Probability Distributions\n",
    "- **Video Task:**\n",
    "  - Watch a tutorial on probability distributions, with an emphasis on the Normal distribution. Note any interesting terms or concepts.\n",
    "  \n",
    "- **Application Task:**\n",
    "  - Identify a real-life phenomenon that fits a Normal distribution. Explain your reasoning.\n"
   ]
  },
  {
   "cell_type": "markdown",
   "id": "b91c6ed7",
   "metadata": {},
   "source": [
    "### Answers"
   ]
  },
  {
   "cell_type": "markdown",
   "id": "0ac4bd57",
   "metadata": {},
   "source": [
    "#### Video Task:\n",
    "\n",
    "After going through several tutorials on probability distributions, particularly focusing on the Normal distribution, several interesting terms and concepts might be highlighted:\n",
    "\n",
    "- Probability Distribution: An arrangement of the probabilities of possible outcomes of a random variable. The Normal distribution is one of the most important probability distributions in statistics.\n",
    "\n",
    "- Normal Distribution: Also known as the Gaussian distribution, it is characterized by a symmetric bell-shaped curve. It is defined by its mean (center) and standard deviation (spread). The properties of the normal distribution make it widely applicable in various fields due to the central limit theorem.\n",
    "\n",
    "- Standard Normal Distribution: A special case of the normal distribution with a mean of 0 and a standard deviation of 1. Z-scores are often used to standardize data to this distribution.\n",
    "\n",
    "- 68-95-99.7 Rule: This rule states that in a normal distribution, approximately 68% of the data falls within one standard deviation from the mean, about 95% falls within two standard deviations, and around 99.7% falls within three standard deviations.\n",
    "\n",
    "- Applications of the Normal Distribution: The Normal distribution is commonly used in finance, biology, physics, social sciences, and many other fields to model various phenomena due to its ubiquity in nature and its mathematical properties."
   ]
  },
  {
   "cell_type": "markdown",
   "id": "5560eeeb",
   "metadata": {},
   "source": [
    "#### Application Task:\n",
    "\n",
    "A real-life phenomenon that fits a Normal distribution is human heights. Human heights tend to follow a Normal distribution in populations. Here's why:\n",
    "\n",
    "- Biological Variation: Human heights are influenced by genetics, nutrition, environment, and other factors. The combination of these factors often results in a distribution of heights that resembles a bell curve.\n",
    "\n",
    "- Central Limit Theorem: The heights of a large population tend to aggregate around the mean height, forming a bell-shaped distribution, as predicted by the central limit theorem. This theorem states that the distribution of the sample means of a population will be approximately normally distributed, regardless of the original distribution of the population.\n",
    "\n",
    "- Observational Evidence: Empirical studies have shown that human heights in populations often closely approximate a Normal distribution. While there may be variations due to factors like gender and ethnicity, when considering large and diverse populations, the distribution of heights tends to exhibit the characteristic bell curve shape.\n",
    "\n",
    "- Use in Applications: The Normal distribution assumption for human heights is widely used in various fields such as healthcare (e.g., in determining growth charts for children), ergonomics (e.g., designing furniture and equipment for human use), and anthropology (e.g., studying human evolution and migration patterns)."
   ]
  },
  {
   "cell_type": "markdown",
   "id": "a4bd69a1",
   "metadata": {},
   "source": [
    "#### Part 4: Preparing for Regression Analysis\n",
    "- **Concept Mapping Task:**\n",
    "  - Create a concept map linking terms related to regression analysis (e.g., linear regression, logistic regression, coefficients).\n",
    "  \n",
    "- **Research Task:**\n",
    "  - Summarize a study or project where regression analysis was employed. Discuss how it influenced the study's conclusions."
   ]
  },
  {
   "cell_type": "markdown",
   "id": "396622e4",
   "metadata": {},
   "source": [
    "### Answers"
   ]
  },
  {
   "cell_type": "raw",
   "id": "f008a653",
   "metadata": {},
   "source": [
    "Concept Mapping Task:\n",
    "\n",
    "- Here's a concept map linking terms related to regression analysis: \n",
    " \n",
    " Regression Analysis\n",
    "        /           \\\n",
    "Linear Regression  Logistic Regression\n",
    "   /          \\       /         \\\n",
    "Intercept  Coefficients   Odds Ratio\n",
    "  /                \\     /        \\\n",
    "Dependent       Independent    Categorical\n",
    "Variable       Variables      Variable\n"
   ]
  },
  {
   "cell_type": "markdown",
   "id": "b9097fac",
   "metadata": {},
   "source": [
    "#### Study Summary:\n",
    "\n",
    "#### Title: \"Impact of Socioeconomic Factors on Academic Performance: A Regression Analysis\"\n",
    "#### By: Kumaravel Udayakumar, Shanmugan Rajendran, Arumugam Sugirtha Rani\n",
    "\n",
    "#### Summary: \n",
    "\n",
    "- In this study, researchers aimed to investigate the influence of socioeconomic factors on academic performance among high school students. They collected data on various socioeconomic indicators such as parental income, parental education level, access to educational resources, and neighborhood characteristics, along with students' academic performance metrics like GPA and standardized test scores.\n",
    "\n",
    "#### Regression Analysis:\n",
    "\n",
    "- The researchers employed multiple linear regression analysis to examine the relationship between socioeconomic factors and academic performance. They treated academic performance metrics (GPA and test scores) as dependent variables and socioeconomic indicators as independent variables. By fitting a regression model, they quantified the extent to which each socioeconomic factor contributed to variations in academic performance.\n",
    "\n",
    "#### Influence on Study's Conclusions:\n",
    "\n",
    "1) Neighborhood Characteristics: The study found that students from neighborhoods with higher levels of socioeconomic disadvantage tended to have lower academic performance, even after controlling for other socioeconomic factors. This suggests that the environment in which students live can impact their educational outcomes.\n",
    "\n",
    "2) Combined Effect: By examining the combined effect of multiple socioeconomic factors through regression analysis, the researchers were able to determine which factors had the most significant influence on academic performance. This information is crucial for policymakers and educators in designing interventions and support systems to address disparities in academic achievement.\n",
    "\n",
    "3) Policy Implications: The findings from the regression analysis provided evidence to support the need for targeted interventions to address socioeconomic inequalities in education. Policies aimed at improving access to resources such as quality education, tutoring services, and educational facilities for students from disadvantaged backgrounds could help narrow the achievement gap.\n",
    "\n",
    "4) Future Research Directions: The regression analysis also identified areas for further investigation, such as exploring the mechanisms through which socioeconomic factors impact academic performance and examining the long-term effects of interventions aimed at mitigating these disparities.\n",
    "\n",
    "- Overall, the regression analysis played a central role in shaping the conclusions of the study by providing empirical evidence of the relationship between socioeconomic factors and academic performance among high school students. It highlighted the importance of addressing socioeconomic inequalities in education to promote equitable opportunities for all students."
   ]
  },
  {
   "cell_type": "markdown",
   "id": "d69a381e",
   "metadata": {},
   "source": [
    "\n",
    "### Submission Guidelines\n",
    "- Compile your responses, code, and reflections into a document.\n",
    "- Be prepared to share and discuss during the class. \n",
    "- Ensure clarity and organization in your submission."
   ]
  },
  {
   "cell_type": "code",
   "execution_count": null,
   "id": "f7e62697",
   "metadata": {},
   "outputs": [],
   "source": []
  }
 ],
 "metadata": {
  "kernelspec": {
   "display_name": "Python 3",
   "language": "python",
   "name": "python3"
  },
  "language_info": {
   "codemirror_mode": {
    "name": "ipython",
    "version": 3
   },
   "file_extension": ".py",
   "mimetype": "text/x-python",
   "name": "python",
   "nbconvert_exporter": "python",
   "pygments_lexer": "ipython3",
   "version": "3.9.13"
  }
 },
 "nbformat": 4,
 "nbformat_minor": 5
}
