{
 "cells": [
  {
   "cell_type": "markdown",
   "id": "9bb88b6b",
   "metadata": {},
   "source": [
    "#### Name: Stuti Upadhyay\n",
    "#### Campus ID: XT81177\n",
    "#### Instructor: Chalachew Jemberie"
   ]
  },
  {
   "cell_type": "markdown",
   "id": "876350fe",
   "metadata": {},
   "source": [
    "### Exercise 1: List Filtering"
   ]
  },
  {
   "cell_type": "code",
   "execution_count": 1,
   "id": "0fe4f55a",
   "metadata": {},
   "outputs": [],
   "source": [
    "#1)  Given a list of numbers, create a new list that contains only the even numbers."
   ]
  },
  {
   "cell_type": "code",
   "execution_count": 1,
   "id": "bd7b4a9e",
   "metadata": {},
   "outputs": [],
   "source": [
    "def get_even_numbers(numbers):\n",
    "    even_numbers = []\n",
    "    for number in numbers:\n",
    "        if number % 2 == 0:\n",
    "            even_numbers.append(number)\n",
    "    return even_numbers"
   ]
  },
  {
   "cell_type": "code",
   "execution_count": 2,
   "id": "1da97016",
   "metadata": {},
   "outputs": [
    {
     "name": "stdout",
     "output_type": "stream",
     "text": [
      "Original List: [1, 2, 3, 4, 5, 6, 7, 8, 9, 10]\n",
      "List of Even Numbers: [2, 4, 6, 8, 10]\n"
     ]
    }
   ],
   "source": [
    "# Example usage:\n",
    "numbers_list = [1, 2, 3, 4, 5, 6, 7, 8, 9, 10]\n",
    "even_numbers_list = get_even_numbers(numbers_list)\n",
    "print(\"Original List:\", numbers_list)\n",
    "print(\"List of Even Numbers:\", even_numbers_list)"
   ]
  },
  {
   "cell_type": "markdown",
   "id": "d0ab0963",
   "metadata": {},
   "source": [
    "### Exercise 2: Tuple Unpacking"
   ]
  },
  {
   "cell_type": "code",
   "execution_count": 9,
   "id": "60167e3f",
   "metadata": {},
   "outputs": [],
   "source": [
    "#2: Create a tuple of coordinates (x, y, z), and then unpack and print each coordinate separately."
   ]
  },
  {
   "cell_type": "code",
   "execution_count": 3,
   "id": "71914a29",
   "metadata": {},
   "outputs": [],
   "source": [
    "# Define the tuple of coordinates\n",
    "coordinates = (2, 4, -1)"
   ]
  },
  {
   "cell_type": "code",
   "execution_count": 4,
   "id": "ef17eeca",
   "metadata": {},
   "outputs": [
    {
     "name": "stdout",
     "output_type": "stream",
     "text": [
      "Coordinate x: 2\n",
      "Coordinate y: 4\n",
      "Coordinate z: -1\n"
     ]
    }
   ],
   "source": [
    "# Unpack and print each coordinate separately\n",
    "x, y, z = coordinates\n",
    "\n",
    "print(\"Coordinate x:\", x)\n",
    "print(\"Coordinate y:\", y)\n",
    "print(\"Coordinate z:\", z)"
   ]
  },
  {
   "cell_type": "markdown",
   "id": "9fa6b335",
   "metadata": {},
   "source": [
    "### Exercise 3: List Concatenation"
   ]
  },
  {
   "cell_type": "code",
   "execution_count": 6,
   "id": "82cb5993",
   "metadata": {},
   "outputs": [],
   "source": [
    "#3: Given two lists, merge them into a single list without duplicates."
   ]
  },
  {
   "cell_type": "code",
   "execution_count": 5,
   "id": "2d8688cb",
   "metadata": {},
   "outputs": [],
   "source": [
    "def merge_lists_without_duplicates(list1, list2):\n",
    "    # Convert lists to sets to eliminate duplicates\n",
    "    set1 = set(list1)\n",
    "    set2 = set(list2)\n",
    "    \n",
    "    # Merge sets\n",
    "    merged_set = set1.union(set2)\n",
    "    \n",
    "    # Convert the merged set back to a list\n",
    "    merged_list = list(merged_set)\n",
    "    \n",
    "    return merged_list"
   ]
  },
  {
   "cell_type": "code",
   "execution_count": 7,
   "id": "63c1f4d4",
   "metadata": {},
   "outputs": [
    {
     "name": "stdout",
     "output_type": "stream",
     "text": [
      "Merged List without Duplicates: [1, 2, 3, 4, 5, 6, 7, 8]\n"
     ]
    }
   ],
   "source": [
    "# Example usage:\n",
    "list1 = [1, 2, 3, 4, 5, 6]\n",
    "list2 = [2, 4, 5, 6, 7, 8]\n",
    "merged_list = merge_lists_without_duplicates(list1, list2)\n",
    "print(\"Merged List without Duplicates:\", merged_list)"
   ]
  },
  {
   "cell_type": "markdown",
   "id": "bc8b5508",
   "metadata": {},
   "source": [
    "### Exercise 4: Conditional List Comprehension"
   ]
  },
  {
   "cell_type": "code",
   "execution_count": 8,
   "id": "4eeb4b10",
   "metadata": {},
   "outputs": [],
   "source": [
    "# 4 Create a list that contains squares of even numbers and cubes of odd numbers from 1 to 10 using list comprehension."
   ]
  },
  {
   "cell_type": "code",
   "execution_count": 10,
   "id": "4851f689",
   "metadata": {},
   "outputs": [
    {
     "name": "stdout",
     "output_type": "stream",
     "text": [
      "List containing squares of even numbers and cubes of odd numbers from 1 to 10:\n",
      "[1, 4, 27, 16, 125, 36, 343, 64, 729, 100]\n"
     ]
    }
   ],
   "source": [
    "square_list = [x**2 if x % 2 == 0 else x**3 for x in range(1, 11)]\n",
    "\n",
    "print(\"List containing squares of even numbers and cubes of odd numbers from 1 to 10:\")\n",
    "print(square_list)"
   ]
  },
  {
   "cell_type": "markdown",
   "id": "4bf29df9",
   "metadata": {},
   "source": [
    "## Exercise 5: List of Lists"
   ]
  },
  {
   "cell_type": "code",
   "execution_count": 12,
   "id": "af7582ba",
   "metadata": {},
   "outputs": [],
   "source": [
    "#Problem: Given a list of lists, flatten it into a single list. "
   ]
  },
  {
   "cell_type": "code",
   "execution_count": 11,
   "id": "1c1fc7d6",
   "metadata": {},
   "outputs": [],
   "source": [
    "nested_list = [[1, 2, 3], [4, 5], [6, 7, 8]]  "
   ]
  },
  {
   "cell_type": "code",
   "execution_count": 13,
   "id": "b867ce2e",
   "metadata": {},
   "outputs": [
    {
     "name": "stdout",
     "output_type": "stream",
     "text": [
      "Flattened List: [1, 2, 3, 4, 5, 6, 7, 8]\n"
     ]
    }
   ],
   "source": [
    "flattened_list = [item for sublist in nested_list for item in sublist]\n",
    "\n",
    "print(\"Flattened List:\", flattened_list)"
   ]
  },
  {
   "cell_type": "markdown",
   "id": "65650e7f",
   "metadata": {},
   "source": [
    "## Exercise 6: List of Tuples"
   ]
  },
  {
   "cell_type": "code",
   "execution_count": 14,
   "id": "ad35dd00",
   "metadata": {},
   "outputs": [],
   "source": [
    "# Problem: Given a list of tuples, sort them based on the second element of each tuple.\n",
    "\n",
    "data = [(1, 5), (3, 2), (2, 8), (4, 1)]    "
   ]
  },
  {
   "cell_type": "code",
   "execution_count": 15,
   "id": "f6b50adf",
   "metadata": {},
   "outputs": [
    {
     "name": "stdout",
     "output_type": "stream",
     "text": [
      "Sorted list of tuples based on the second element:\n",
      "[(4, 1), (3, 2), (1, 5), (2, 8)]\n"
     ]
    }
   ],
   "source": [
    "sorted_data = sorted(data, key=lambda x: x[1])\n",
    "\n",
    "print(\"Sorted list of tuples based on the second element:\")\n",
    "print(sorted_data)"
   ]
  },
  {
   "cell_type": "markdown",
   "id": "d4ea0014",
   "metadata": {},
   "source": [
    "## Exercise 7: Nested List Comprehension\n",
    "\n",
    "Problem: Create a matrix represented as a list of lists and transpose it using nested list comprehensions.\n"
   ]
  },
  {
   "cell_type": "code",
   "execution_count": 16,
   "id": "de5ac108",
   "metadata": {},
   "outputs": [],
   "source": [
    "matrix = [[1, 2, 3], [4, 5, 6], [7, 8, 9]]"
   ]
  },
  {
   "cell_type": "code",
   "execution_count": 17,
   "id": "eec842cf",
   "metadata": {},
   "outputs": [
    {
     "name": "stdout",
     "output_type": "stream",
     "text": [
      "Original Matrix:\n",
      "[1, 2, 3]\n",
      "[4, 5, 6]\n",
      "[7, 8, 9]\n",
      "\n",
      "Transposed Matrix:\n",
      "[1, 4, 7]\n",
      "[2, 5, 8]\n",
      "[3, 6, 9]\n"
     ]
    }
   ],
   "source": [
    "# Transpose the matrix using nested list comprehensions\n",
    "transposed_matrix = [[row[i] for row in matrix] for i in range(len(matrix[0]))]\n",
    "\n",
    "print(\"Original Matrix:\")\n",
    "for row in matrix:\n",
    "    print(row)\n",
    "\n",
    "print(\"\\nTransposed Matrix:\")\n",
    "for row in transposed_matrix:\n",
    "    print(row)"
   ]
  },
  {
   "cell_type": "markdown",
   "id": "445b7344",
   "metadata": {},
   "source": [
    "## Exercise 8: Fibonacci Sequence\n",
    "\n",
    "Problem: Generate the first 10 numbers of the Fibonacci sequence using a list.\n",
    "Each number should be the sum of the previous two."
   ]
  },
  {
   "cell_type": "code",
   "execution_count": 19,
   "id": "dba40c44",
   "metadata": {},
   "outputs": [
    {
     "name": "stdout",
     "output_type": "stream",
     "text": [
      "First 10 numbers of the Fibonacci sequence:\n",
      "[0, 1, 1, 2, 3, 5, 8, 13, 21, 34]\n"
     ]
    }
   ],
   "source": [
    "# Initialize a list with the first two Fibonacci numbers\n",
    "fibonacci_sequence = [0, 1]\n",
    "\n",
    "# Generate the remaining Fibonacci numbers\n",
    "for _ in range(8):  # We just need 8 more numbers since we already have the first two that is 0 & 1\n",
    "    next_number = fibonacci_sequence[-1] + fibonacci_sequence[-2]\n",
    "    fibonacci_sequence.append(next_number)\n",
    "\n",
    "print(\"First 10 numbers of the Fibonacci sequence:\")\n",
    "print(fibonacci_sequence)"
   ]
  },
  {
   "cell_type": "markdown",
   "id": "5f033379",
   "metadata": {},
   "source": [
    "## Exercise 9: Prime Numbers\n",
    "\n",
    "Problem: Generate a list of prime numbers from 1 to 50"
   ]
  },
  {
   "cell_type": "code",
   "execution_count": 20,
   "id": "24496e8b",
   "metadata": {},
   "outputs": [],
   "source": [
    "def is_prime(n):\n",
    "    if n <= 1:\n",
    "        return False\n",
    "    if n <= 3:\n",
    "        return True\n",
    "    if n % 2 == 0 or n % 3 == 0:\n",
    "        return False\n",
    "    i = 5\n",
    "    while i * i <= n:\n",
    "        if n % i == 0 or n % (i + 2) == 0:\n",
    "            return False\n",
    "        i += 6\n",
    "    return True"
   ]
  },
  {
   "cell_type": "code",
   "execution_count": 21,
   "id": "dd1fe865",
   "metadata": {},
   "outputs": [],
   "source": [
    "prime_numbers = [num for num in range(1, 51) if is_prime(num)]"
   ]
  },
  {
   "cell_type": "code",
   "execution_count": 22,
   "id": "4c5482da",
   "metadata": {},
   "outputs": [
    {
     "name": "stdout",
     "output_type": "stream",
     "text": [
      "List of prime numbers from 1 to 50:\n",
      "[2, 3, 5, 7, 11, 13, 17, 19, 23, 29, 31, 37, 41, 43, 47]\n"
     ]
    }
   ],
   "source": [
    "print(\"List of prime numbers from 1 to 50:\")\n",
    "print(prime_numbers)"
   ]
  },
  {
   "cell_type": "code",
   "execution_count": null,
   "id": "e6383cde",
   "metadata": {},
   "outputs": [],
   "source": []
  }
 ],
 "metadata": {
  "kernelspec": {
   "display_name": "Python 3",
   "language": "python",
   "name": "python3"
  },
  "language_info": {
   "codemirror_mode": {
    "name": "ipython",
    "version": 3
   },
   "file_extension": ".py",
   "mimetype": "text/x-python",
   "name": "python",
   "nbconvert_exporter": "python",
   "pygments_lexer": "ipython3",
   "version": "3.9.13"
  }
 },
 "nbformat": 4,
 "nbformat_minor": 5
}
