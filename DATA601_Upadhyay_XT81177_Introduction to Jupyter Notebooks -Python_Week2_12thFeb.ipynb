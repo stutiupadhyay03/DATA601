{
 "cells": [
  {
   "cell_type": "markdown",
   "metadata": {},
   "source": [
    "Name: Stuti Upadhyay\n",
    "ID: XT81177\n",
    "Instructer: Chalachew Jemberie"
   ]
  },
  {
   "cell_type": "markdown",
   "metadata": {},
   "source": [
    "# Welcome to  Jupyter Notebooks!\n",
    "\n",
    "Python is a free, open source programming language which is extremely popular for statistical analysis and AI.\n",
    "\n",
    "Here, we will give you a taste of what using python is like.\n",
    "\n",
    "Let's get started. We’ve provided the data for you, and cleaned it up so it’s ready for analysis. You can __move through the steps by clicking on the run button__ just above this notebook."
   ]
  },
  {
   "cell_type": "markdown",
   "metadata": {},
   "source": [
    "Exercise 1 - Introduction To Jupyter Notebooks\n",
    "==========================\n",
    "\n",
    "The purpose of this exercise is to get you familiar with using Jupyter Notebooks. Don't worry if you find the coding difficult - this is not a Python course. You will slowly learn more as you go and you definitely don't need to understand every line of code.\n",
    "\n",
    "Step 1\n",
    "--------\n",
    "\n",
    "These notebooks contain places where you can execute code, like below.\n",
    "\n",
    "Give it a go. Click on the code below, then press `Run` in the toolbar above (or press __Shift+Enter__) to run the code."
   ]
  },
  {
   "cell_type": "code",
   "execution_count": 1,
   "metadata": {},
   "outputs": [
    {
     "name": "stdout",
     "output_type": "stream",
     "text": [
      "The code ran successfully!\n"
     ]
    }
   ],
   "source": [
    "print(\"The code ran successfully!\")"
   ]
  },
  {
   "cell_type": "markdown",
   "metadata": {},
   "source": [
    "If all went well, the code should have printed a message for you.\n",
    "\n",
    "At the start of most programming exercises we have to load things to help us do things easily, like creating graphs. \n",
    "\n",
    "Click on the code below, then __hit the `Run` button to load graphing capabilities for later in the exercise__."
   ]
  },
  {
   "cell_type": "code",
   "execution_count": 2,
   "metadata": {},
   "outputs": [],
   "source": [
    "import warnings\n",
    "warnings.filterwarnings(\"ignore\")\n",
    "import matplotlib.pyplot as graph"
   ]
  },
  {
   "cell_type": "markdown",
   "metadata": {
    "slideshow": {
     "slide_type": "slide"
    }
   },
   "source": [
    "Step 2\n",
    "--------\n",
    "\n",
    "Let's get it to print a message you choose this time. \n",
    "\n",
    "#### Below, write a message between the quotation marks then run the cell.\n",
    "\n",
    "It is okay to use spaces, numbers, or letters. Your message should look red. For example, `print(\"this is my message\")`."
   ]
  },
  {
   "cell_type": "code",
   "execution_count": 5,
   "metadata": {},
   "outputs": [
    {
     "name": "stdout",
     "output_type": "stream",
     "text": [
      "Hi! I am usingt this to print a message\n"
     ]
    }
   ],
   "source": [
    "###\n",
    "# WRITE A MESSAGE BETWEEN THE SPEECH MARKS IN THE LINE BELOW, THEN HIT RUN.\n",
    "###\n",
    "print(\"Hi! I am usingt this to print a message\")\n",
    "###\n",
    "\n",
    "# It's ok to use spaces, numbers, or letters. Your message should look red.\n",
    "# For example: print(\"this is my message\")"
   ]
  },
  {
   "cell_type": "markdown",
   "metadata": {},
   "source": [
    "You will notice hash symbols (`#`). Anything after a `#` is ignored by the computer. This lets us leave notes for you to read so that you understand the code better."
   ]
  },
  {
   "cell_type": "markdown",
   "metadata": {},
   "source": [
    "Step 3\n",
    "--------\n",
    "\n",
    "Python lets us save things and use them later. In this exercise we will save your message"
   ]
  },
  {
   "cell_type": "code",
   "execution_count": 6,
   "metadata": {},
   "outputs": [
    {
     "name": "stdout",
     "output_type": "stream",
     "text": [
      "I am printing a pre-determined message\n"
     ]
    }
   ],
   "source": [
    "###\n",
    "# WRITE A MESSAGE BETWEEN THE SPEECH MARKS IN THE LINE BELOW, THEN PRESS RUN\n",
    "###\n",
    "my_message = \"I am printing a pre-determined message\"\n",
    "###\n",
    "\n",
    "print(my_message) "
   ]
  },
  {
   "cell_type": "markdown",
   "metadata": {},
   "source": [
    "Okay, what's happened here? \n",
    "\n",
    "In the real world we might put something in an envelope (like a letter, or picture). On the envelope we write something (give it a name), like \"my_letter_for_alice\".\n",
    "\n",
    "In a computer, we do something similar. The thing that holds information (like the envelope) is called a **variable**. We also give each one a name. \n",
    "\n",
    "Actually, you've already done this.\n",
    "\n",
    "First, you made a message, then you saved it to a **variable** called 'my_message':\n",
    "```\n",
    "my_message = \"this is my message!\"\n",
    "              ↑↑↑\n",
    "              the message you made\n",
    " \n",
    "my_message = \"this is my message!\"\n",
    "          ↑↑↑\n",
    "          the equals sign means to save it to the variable on the left\n",
    "     \n",
    "my_message = \"this is my message!\"\n",
    "↑↑↑\n",
    "this is the name of your variable. They must never have spaces in them.\n",
    "```"
   ]
  },
  {
   "cell_type": "markdown",
   "metadata": {},
   "source": [
    "Step 4\n",
    "-------\n",
    "\n",
    "Let's try using variables again, but save a number inside our variable this time. Remember, the variable is on the *left hand side* of the `=` assignment symbol and is the equivalent of a labelled box. The information on the *right hand side* is the information we want to store inside the variable (or a box in our analogy).\n",
    "\n",
    "#### In the cell below replace `<addNumber>` with any number you choose.\n",
    "\n",
    "Then __run the code__."
   ]
  },
  {
   "cell_type": "code",
   "execution_count": 7,
   "metadata": {},
   "outputs": [
    {
     "name": "stdout",
     "output_type": "stream",
     "text": [
      "241\n",
      "241\n"
     ]
    }
   ],
   "source": [
    "###\n",
    "# REPLACE <addNumber> BELOW WITH ANY NUMBER\n",
    "###\n",
    "my_first_number = 241\n",
    "###\n",
    "\n",
    "print(my_first_number)\n",
    "print(my_first_number)"
   ]
  },
  {
   "cell_type": "markdown",
   "metadata": {},
   "source": [
    "What happened here?\n",
    "\n",
    "In the real world, we might then do something with this information. For example, we might choose to read it. We can read it as many times as we like.\n",
    "\n",
    "On the computer, we can also do things with this information. Here, you asked the computer to print the message to the screen twice.\n",
    "\n",
    "```\n",
    "print(my_first_number) \n",
    "print(my_first_number)\n",
    "```"
   ]
  },
  {
   "cell_type": "markdown",
   "metadata": {},
   "source": [
    "How did you do this though?\n",
    "\n",
    "```\n",
    "print(....)\n",
    "↑↑↑\n",
    "```\n",
    "this is what you are asking the computer to do. It is a **method** called print. There are many methods available. Soon, we will use methods that make graphs.\n",
    "```\n",
    "print(....)\n",
    "     ↑    ↑\n",
    "```\n",
    "methods have round brackets. What you write here between these is given to the method. \n",
    "```\n",
    "print(my_first_number)\n",
    "      ↑↑↑\n",
    "```\n",
    "In this case, we gave it 'my_first_number', and it took it and printed it to the screen.               \n",
    "      \n",
    "\n",
    "Step 5\n",
    "-------\n",
    "\n",
    "Ok, let's make a graph from some data.\n",
    "\n",
    "#### In the cell below replace the `<addNumber>`'s with any number you choose\n",
    "\n",
    "Then __run the code__ to make a graph."
   ]
  },
  {
   "cell_type": "code",
   "execution_count": 8,
   "metadata": {},
   "outputs": [
    {
     "data": {
      "text/plain": [
       "<BarContainer object of 3 artists>"
      ]
     },
     "execution_count": 8,
     "metadata": {},
     "output_type": "execute_result"
    },
    {
     "data": {
      "image/png": "[encoded data removed]",
      "text/plain": [
       "<Figure size 640x480 with 1 Axes>"
      ]
     },
     "metadata": {},
     "output_type": "display_data"
    }
   ],
   "source": [
    "# These are our x values\n",
    "x_values = [1, 2, 3]\n",
    "\n",
    "###\n",
    "# BELOW INSIDE THE SQUARE BRACKETS, REPLACE THE <addNumber>'S WITH EACH WITH A NUMBER\n",
    "###\n",
    "y_values = [7, 5, 6]\n",
    "###\n",
    "\n",
    "# When you've done that, run the cell\n",
    "# For example, you could change like this: y_values = [3, 1, 7]\n",
    "\n",
    "# This makes a bar graph. We give it our x and y values\n",
    "graph.bar(x_values, y_values)"
   ]
  },
  {
   "cell_type": "markdown",
   "metadata": {},
   "source": [
    "This is very simple, but here x and y are our data.\n",
    "\n",
    "If you'd like, have a play with the code:\n",
    "* change x and y values and see how the graph changes. Make sure they have the same count of numbers in them.\n",
    "* change `graph.bar` to `graph.scatter` to change the type of graph\n",
    "\n",
    "\n",
    "Step 6\n",
    "----------------\n",
    "\n",
    "From time to time, we will load data from text files, rather than write it into the code. You can't see these text files in your browser because they are saved on the server running this website. We can load them using code, though. Let's load one up, look at it, then graph it.\n",
    "\n",
    "#### In the cell below write `print(data.head())` then __run the code__."
   ]
  },
  {
   "cell_type": "code",
   "execution_count": 13,
   "metadata": {},
   "outputs": [
    {
     "name": "stdout",
     "output_type": "stream",
     "text": [
      "   weight  cocoa_percent  sugar_percent  milk_percent  customer_happiness\n",
      "0     185             65             11            24                  47\n",
      "1     247             44             34            22                  55\n",
      "2     133             33             21            47                  35\n",
      "3     145             30             38            32                  34\n",
      "4     110             22             70             7                  40\n"
     ]
    }
   ],
   "source": [
    "import pandas as pd\n",
    "\n",
    "# The next line loads information about chocolate bars and saves it in a variable called 'data'\n",
    "dataset = pd.read_csv('chocolate.txt', index_col = False, sep = '\\t')\n",
    "\n",
    "### \n",
    "# WRITE print(dataset.head()) BELOW TO PREVIEW THE DATA ---###\n",
    "###\n",
    "\n",
    "print(dataset.head())"
   ]
  },
  {
   "cell_type": "markdown",
   "metadata": {},
   "source": [
    "Each row (horizontal) shows information about one chocolate bar. For example, the first chocolate bar was:\n",
    "* 185 grams\n",
    "* 65% cocoa\n",
    "* 11% sugar\n",
    "* 24% milk\n",
    "* and a customer said they were 47% happy with it\n",
    "\n",
    "We would probably say that our chocolate bar features were weight, cocoa %, sugar % and milk %\n",
    "\n",
    "Conclusion\n",
    "----------------\n",
    "\n",
    "__Well done__ that's the end of programming exercise one.\n",
    "\n",
    "You can now go back to the course and click __'Next Step'__ to move onto some key concepts of AI - models and error.\n",
    "\n",
    "\n",
    "Optional Step 7\n",
    "----------------\n",
    "When we say \"optional\" we mean exercises that might help you learn, but you don't have to do. \n",
    "\n",
    "We can graph some of these features in scatter plot. Let's put cocoa_percent on the x-axis and customer happiness on the y axis.\n",
    "\n",
    "#### In the cell below replace `<addYValues>` with `customer_happiness` and then __run the code__."
   ]
  },
  {
   "cell_type": "code",
   "execution_count": 14,
   "metadata": {},
   "outputs": [
    {
     "data": {
      "text/plain": [
       "<matplotlib.collections.PathCollection at 0x168114aa580>"
      ]
     },
     "execution_count": 14,
     "metadata": {},
     "output_type": "execute_result"
    },
    {
     "data": {
      "image/png": "[encoded data removed]",
      "text/plain": [
       "<Figure size 640x480 with 1 Axes>"
      ]
     },
     "metadata": {},
     "output_type": "display_data"
    }
   ],
   "source": [
    "x_values = dataset.cocoa_percent\n",
    "\n",
    "###\n",
    "# REPLACE <addYValues> BELOW WITH customer_happiness\n",
    "###\n",
    "y_values = dataset.customer_happiness\n",
    "###\n",
    "\n",
    "graph.scatter(x_values, y_values)"
   ]
  },
  {
   "cell_type": "markdown",
   "metadata": {},
   "source": [
    "In this graph, every chocolate bar is one point. Later, we will analyse this data with AI."
   ]
  }
 ],
 "metadata": {
  "kernelspec": {
   "display_name": "Python 3",
   "language": "python",
   "name": "python3"
  },
  "language_info": {
   "codemirror_mode": {
    "name": "ipython",
    "version": 3
   },
   "file_extension": ".py",
   "mimetype": "text/x-python",
   "name": "python",
   "nbconvert_exporter": "python",
   "pygments_lexer": "ipython3",
   "version": "3.9.13"
  }
 },
 "nbformat": 4,
 "nbformat_minor": 2
}
